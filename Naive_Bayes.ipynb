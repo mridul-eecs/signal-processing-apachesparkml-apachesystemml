{
  "nbformat": 4,
  "nbformat_minor": 0,
  "metadata": {
    "kernelspec": {
      "display_name": "Python 3.5",
      "language": "python",
      "name": "python3"
    },
    "language_info": {
      "codemirror_mode": {
        "name": "ipython",
        "version": 3
      },
      "file_extension": ".py",
      "mimetype": "text/x-python",
      "name": "python",
      "nbconvert_exporter": "python",
      "pygments_lexer": "ipython3",
      "version": "3.5.5"
    },
    "colab": {
      "name": "Naive Bayes.ipynb",
      "provenance": [],
      "include_colab_link": true
    }
  },
  "cells": [
    {
      "cell_type": "markdown",
      "metadata": {
        "id": "view-in-github",
        "colab_type": "text"
      },
      "source": [
        "<a href=\"https://colab.research.google.com/github/mridul-eecs/signal-processing-apachesparkml-apachesystemml/blob/master/Naive_Bayes.ipynb\" target=\"_parent\"><img src=\"https://colab.research.google.com/assets/colab-badge.svg\" alt=\"Open In Colab\"/></a>"
      ]
    },
    {
      "cell_type": "markdown",
      "metadata": {
        "id": "PgJC7w1ckAZu",
        "colab_type": "text"
      },
      "source": [
        "# Simple Naive Bayes"
      ]
    },
    {
      "cell_type": "code",
      "metadata": {
        "id": "jdQaIZlyk_Fh",
        "colab_type": "code",
        "colab": {
          "base_uri": "https://localhost:8080/",
          "height": 119
        },
        "outputId": "c240b587-bfb6-4bb9-bf78-e5851756c336"
      },
      "source": [
        "!git clone https://github.com/mridul-eecs/signal-processing-apachesparkml-apachesystemml.git\n"
      ],
      "execution_count": 4,
      "outputs": [
        {
          "output_type": "stream",
          "text": [
            "Cloning into 'signal-processing-apachesparkml-apachesystemml'...\n",
            "remote: Enumerating objects: 25, done.\u001b[K\n",
            "remote: Counting objects:   4% (1/25)\u001b[K\rremote: Counting objects:   8% (2/25)\u001b[K\rremote: Counting objects:  12% (3/25)\u001b[K\rremote: Counting objects:  16% (4/25)\u001b[K\rremote: Counting objects:  20% (5/25)\u001b[K\rremote: Counting objects:  24% (6/25)\u001b[K\rremote: Counting objects:  28% (7/25)\u001b[K\rremote: Counting objects:  32% (8/25)\u001b[K\rremote: Counting objects:  36% (9/25)\u001b[K\rremote: Counting objects:  40% (10/25)\u001b[K\rremote: Counting objects:  44% (11/25)\u001b[K\rremote: Counting objects:  48% (12/25)\u001b[K\rremote: Counting objects:  52% (13/25)\u001b[K\rremote: Counting objects:  56% (14/25)\u001b[K\rremote: Counting objects:  60% (15/25)\u001b[K\rremote: Counting objects:  64% (16/25)\u001b[K\rremote: Counting objects:  68% (17/25)\u001b[K\rremote: Counting objects:  72% (18/25)\u001b[K\rremote: Counting objects:  76% (19/25)\u001b[K\rremote: Counting objects:  80% (20/25)\u001b[K\rremote: Counting objects:  84% (21/25)\u001b[K\rremote: Counting objects:  88% (22/25)\u001b[K\rremote: Counting objects:  92% (23/25)\u001b[K\rremote: Counting objects:  96% (24/25)\u001b[K\rremote: Counting objects: 100% (25/25)\u001b[K\rremote: Counting objects: 100% (25/25), done.\u001b[K\n",
            "remote: Compressing objects:   5% (1/19)\u001b[K\rremote: Compressing objects:  10% (2/19)\u001b[K\rremote: Compressing objects:  15% (3/19)\u001b[K\rremote: Compressing objects:  21% (4/19)\u001b[K\rremote: Compressing objects:  26% (5/19)\u001b[K\rremote: Compressing objects:  31% (6/19)\u001b[K\rremote: Compressing objects:  36% (7/19)\u001b[K\rremote: Compressing objects:  42% (8/19)\u001b[K\rremote: Compressing objects:  47% (9/19)\u001b[K\rremote: Compressing objects:  52% (10/19)\u001b[K\rremote: Compressing objects:  57% (11/19)\u001b[K\rremote: Compressing objects:  63% (12/19)\u001b[K\rremote: Compressing objects:  68% (13/19)\u001b[K\rremote: Compressing objects:  73% (14/19)\u001b[K\rremote: Compressing objects:  78% (15/19)\u001b[K\rremote: Compressing objects:  84% (16/19)\u001b[K\rremote: Compressing objects:  89% (17/19)\u001b[K\rremote: Compressing objects:  94% (18/19)\u001b[K\rremote: Compressing objects: 100% (19/19)\u001b[K\rremote: Compressing objects: 100% (19/19), done.\u001b[K\n",
            "Unpacking objects:   4% (1/25)   \rUnpacking objects:   8% (2/25)   \rUnpacking objects:  12% (3/25)   \rUnpacking objects:  16% (4/25)   \rUnpacking objects:  20% (5/25)   \rUnpacking objects:  24% (6/25)   \rUnpacking objects:  28% (7/25)   \rUnpacking objects:  32% (8/25)   \rUnpacking objects:  36% (9/25)   \rUnpacking objects:  40% (10/25)   \rUnpacking objects:  44% (11/25)   \rUnpacking objects:  48% (12/25)   \rUnpacking objects:  52% (13/25)   \rUnpacking objects:  56% (14/25)   \rUnpacking objects:  60% (15/25)   \rUnpacking objects:  64% (16/25)   \rUnpacking objects:  68% (17/25)   \rUnpacking objects:  72% (18/25)   \rUnpacking objects:  76% (19/25)   \rremote: Total 25 (delta 3), reused 17 (delta 2), pack-reused 0\u001b[K\n",
            "Unpacking objects:  80% (20/25)   \rUnpacking objects:  84% (21/25)   \rUnpacking objects:  88% (22/25)   \rUnpacking objects:  92% (23/25)   \rUnpacking objects:  96% (24/25)   \rUnpacking objects: 100% (25/25)   \rUnpacking objects: 100% (25/25), done.\n"
          ],
          "name": "stdout"
        }
      ]
    },
    {
      "cell_type": "code",
      "metadata": {
        "id": "jAGAjpGWkAZx",
        "colab_type": "code",
        "colab": {}
      },
      "source": [
        "import numpy as np\n",
        "\n",
        "import matplotlib.pyplot as plt\n",
        "import matplotlib.patches as mpatches\n",
        "\n",
        "from sklearn.model_selection import train_test_split\n",
        "\n",
        "from math import sqrt\n",
        "from math import pi\n",
        "from math import exp\n",
        "\n",
        "from sklearn.metrics import accuracy_score"
      ],
      "execution_count": 0,
      "outputs": []
    },
    {
      "cell_type": "code",
      "metadata": {
        "id": "ValszR4EkAZ4",
        "colab_type": "code",
        "colab": {
          "base_uri": "https://localhost:8080/",
          "height": 71
        },
        "outputId": "0d5c4338-6126-43e7-eaab-eff1e8434cc4"
      },
      "source": [
        "import sys\n",
        "import types\n",
        "import pandas as pd\n",
        "from botocore.client import Config\n",
        "# import ibm_boto3\n",
        "\n",
        "def __iter__(self): return 0\n",
        "\n",
        "#\n",
        "# INSERT YOUR CONNECTION TO gender_height_weight.csv HERE\n",
        "# NAME THE RESULTING DATAFRAME dataDF\n",
        "#\n",
        "body= '/content/signal-processing-apachesparkml-apachesystemml/gender_height_weight.csv'\n",
        "dataDF = pd.read_csv(body)\n",
        "data = dataDF.as_matrix()"
      ],
      "execution_count": 5,
      "outputs": [
        {
          "output_type": "stream",
          "text": [
            "/usr/local/lib/python3.6/dist-packages/ipykernel_launcher.py:15: FutureWarning: Method .as_matrix will be removed in a future version. Use .values instead.\n",
            "  from ipykernel import kernelapp as app\n"
          ],
          "name": "stderr"
        }
      ]
    },
    {
      "cell_type": "code",
      "metadata": {
        "id": "zYLhf8r0kAZ-",
        "colab_type": "code",
        "outputId": "2c8cd017-cf9d-4689-ac6b-779e8e06e2ed",
        "colab": {
          "base_uri": "https://localhost:8080/",
          "height": 136
        }
      },
      "source": [
        "data"
      ],
      "execution_count": 6,
      "outputs": [
        {
          "output_type": "execute_result",
          "data": {
            "text/plain": [
              "array([[  1,  67, 150],\n",
              "       [  0,  67, 140],\n",
              "       [  1,  67, 100],\n",
              "       ...,\n",
              "       [  0,  75, 220],\n",
              "       [  0,  76, 178],\n",
              "       [  1,  67, 130]])"
            ]
          },
          "metadata": {
            "tags": []
          },
          "execution_count": 6
        }
      ]
    },
    {
      "cell_type": "code",
      "metadata": {
        "id": "BlPgTbDFkAaF",
        "colab_type": "code",
        "outputId": "eae4bbc3-92f9-4c99-86c9-b7e94b674f6f",
        "colab": {
          "base_uri": "https://localhost:8080/",
          "height": 464
        }
      },
      "source": [
        "features = data[:,[1,2]]\n",
        "labels = data[:,0]\n",
        "\n",
        "f, ax1 = plt.subplots(1, 1, figsize=(7,7))\n",
        "\n",
        "ax1.scatter(features[:,0], features[:,1], c=labels, cmap=plt.cm.bwr)        \n",
        "ax1.grid(True)\n",
        "\n",
        "plt.ylabel(\"Weight (lbs)\", fontsize=16)\n",
        "plt.xlabel(\"Height (inches)\", fontsize=16)\n",
        "\n",
        "\n",
        "recs = []\n",
        "class_colours=[\"r\",\"b\"]\n",
        "for i in range(2):\n",
        "    recs.append(mpatches.Rectangle((0,0),1,1,fc=class_colours[i]))\n",
        "plt.legend(recs,[\"F\",\"M\"],loc=1)"
      ],
      "execution_count": 7,
      "outputs": [
        {
          "output_type": "execute_result",
          "data": {
            "text/plain": [
              "<matplotlib.legend.Legend at 0x7fb3da01c588>"
            ]
          },
          "metadata": {
            "tags": []
          },
          "execution_count": 7
        },
        {
          "output_type": "display_data",
          "data": {
            "image/png": "[encoded data removed]",
            "text/plain": [
              "<Figure size 504x504 with 1 Axes>"
            ]
          },
          "metadata": {
            "tags": []
          }
        }
      ]
    },
    {
      "cell_type": "code",
      "metadata": {
        "id": "i7URnoJDkAaN",
        "colab_type": "code",
        "colab": {}
      },
      "source": [
        "features = data[:,[1,2]]\n",
        "labels = data[:,0]\n",
        "\n",
        "features_train, features_test, labels_train, labels_test = train_test_split(features,\n",
        "                                                                            labels, test_size=0.1,\n",
        "                                                                            random_state = 100)"
      ],
      "execution_count": 0,
      "outputs": []
    },
    {
      "cell_type": "code",
      "metadata": {
        "id": "4T2bBlg7kAaT",
        "colab_type": "code",
        "colab": {}
      },
      "source": [
        "def getPriors(labels):\n",
        "    priors = {}\n",
        "    for className in labels:\n",
        "        N = labels.size\n",
        "        class_occurrence = (labels == className).sum()\n",
        "        priors[className] = class_occurrence/N\n",
        "    return priors\n",
        "\n",
        "priors = getPriors(labels_train)"
      ],
      "execution_count": 0,
      "outputs": []
    },
    {
      "cell_type": "code",
      "metadata": {
        "id": "2Uei-5p0kAaa",
        "colab_type": "code",
        "outputId": "dc3daf1d-2f16-4e0a-95e8-e51bbf19b3d7",
        "colab": {
          "base_uri": "https://localhost:8080/",
          "height": 34
        }
      },
      "source": [
        "priors"
      ],
      "execution_count": 10,
      "outputs": [
        {
          "output_type": "execute_result",
          "data": {
            "text/plain": [
              "{0: 0.5085022445925724, 1: 0.4914977554074276}"
            ]
          },
          "metadata": {
            "tags": []
          },
          "execution_count": 10
        }
      ]
    },
    {
      "cell_type": "code",
      "metadata": {
        "id": "t3Nu6jn1kAag",
        "colab_type": "code",
        "colab": {}
      },
      "source": [
        "def fit(features, labels):\n",
        "    uniqueClasses = np.unique(labels)\n",
        "    coeffs = {}\n",
        "    for className in uniqueClasses:\n",
        "      featuresInClass = features[labels == className]\n",
        "      statsInClass = [(np.mean(feature), np.std(feature)) for feature in zip(*featuresInClass)]            \n",
        "      coeffs[className] = statsInClass    \n",
        "    \n",
        "    return coeffs\n",
        "\n",
        "model = fit(features_train, labels_train)"
      ],
      "execution_count": 0,
      "outputs": []
    },
    {
      "cell_type": "code",
      "metadata": {
        "id": "rkiFA9ObkAal",
        "colab_type": "code",
        "outputId": "4781ddf6-22bf-405e-e564-6489717fef85",
        "colab": {
          "base_uri": "https://localhost:8080/",
          "height": 85
        }
      },
      "source": [
        "model"
      ],
      "execution_count": 12,
      "outputs": [
        {
          "output_type": "execute_result",
          "data": {
            "text/plain": [
              "{0: [(69.59657570893526, 3.3527911026371027),\n",
              "  (163.66238630283573, 38.52142167903383)],\n",
              " 1: [(64.43011347910324, 3.000581346637603),\n",
              "  (132.66731248270136, 38.37250271665388)]}"
            ]
          },
          "metadata": {
            "tags": []
          },
          "execution_count": 12
        }
      ]
    },
    {
      "cell_type": "code",
      "metadata": {
        "id": "aqmLov2BkAas",
        "colab_type": "code",
        "colab": {}
      },
      "source": [
        "def getLikelihood(x, featureIndex, model, className):\n",
        "    classStats = model[className]\n",
        "    mean = classStats[featureIndex][0]\n",
        "    std  = classStats[featureIndex][1]\n",
        "    f = (1/(sqrt(2*pi*pow(std,2))) * exp(-pow((x-mean),2)/(2*pow(std,2))))\n",
        "    return f\n",
        "\n",
        "def getPosterior(x, model, priors):\n",
        "    posteriors = {}\n",
        "    for className in priors:\n",
        "        p = priors[className]\n",
        "        for featureIndex in range(x.size):\n",
        "            p = p * (getLikelihood (x[featureIndex], featureIndex, model, className))\n",
        "        posteriors[className] = p\n",
        "    return posteriors"
      ],
      "execution_count": 0,
      "outputs": []
    },
    {
      "cell_type": "code",
      "metadata": {
        "id": "YzkBbii-kAay",
        "colab_type": "code",
        "colab": {}
      },
      "source": [
        "x = np.array([59])"
      ],
      "execution_count": 0,
      "outputs": []
    },
    {
      "cell_type": "code",
      "metadata": {
        "id": "lbWxM78VkAa3",
        "colab_type": "code",
        "outputId": "611bcab7-056d-4a63-b1c7-2558991298e5",
        "colab": {
          "base_uri": "https://localhost:8080/",
          "height": 34
        }
      },
      "source": [
        "getLikelihood(x, 0, model, 0)"
      ],
      "execution_count": 15,
      "outputs": [
        {
          "output_type": "execute_result",
          "data": {
            "text/plain": [
              "0.0008061935595272527"
            ]
          },
          "metadata": {
            "tags": []
          },
          "execution_count": 15
        }
      ]
    },
    {
      "cell_type": "code",
      "metadata": {
        "id": "NUKnb6KXkAa8",
        "colab_type": "code",
        "outputId": "279cfb6d-a9c1-43dd-85e6-48fdac745a36",
        "colab": {
          "base_uri": "https://localhost:8080/",
          "height": 34
        }
      },
      "source": [
        "getLikelihood(x, 0, model, 1)"
      ],
      "execution_count": 16,
      "outputs": [
        {
          "output_type": "execute_result",
          "data": {
            "text/plain": [
              "0.02585559243089853"
            ]
          },
          "metadata": {
            "tags": []
          },
          "execution_count": 16
        }
      ]
    },
    {
      "cell_type": "code",
      "metadata": {
        "id": "zaaZFfVdkAbD",
        "colab_type": "code",
        "colab": {}
      },
      "source": [
        "def classify(x, model, priors):\n",
        "    posteriors = getPosterior(x, model, priors)\n",
        "    return max(posteriors, key=lambda key: posteriors[key])\n",
        "\n",
        "predictions = [classify(x, model, priors) for x in features_test]"
      ],
      "execution_count": 0,
      "outputs": []
    },
    {
      "cell_type": "code",
      "metadata": {
        "id": "Z_LNDyQpkAbH",
        "colab_type": "code",
        "outputId": "2f0f6b06-735a-4587-f2d8-dd56a7396cca",
        "colab": {
          "base_uri": "https://localhost:8080/",
          "height": 51
        }
      },
      "source": [
        "print(\"Prediction accuracy: %.2f\\n\" % accuracy_score(labels_test, predictions))"
      ],
      "execution_count": 18,
      "outputs": [
        {
          "output_type": "stream",
          "text": [
            "Prediction accuracy: 0.77\n",
            "\n"
          ],
          "name": "stdout"
        }
      ]
    },
    {
      "cell_type": "code",
      "metadata": {
        "id": "_yaQXU31kAbN",
        "colab_type": "code",
        "colab": {}
      },
      "source": [
        ""
      ],
      "execution_count": 0,
      "outputs": []
    }
  ]
}