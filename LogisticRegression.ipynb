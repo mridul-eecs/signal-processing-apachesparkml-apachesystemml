{
  "nbformat": 4,
  "nbformat_minor": 0,
  "metadata": {
    "colab": {
      "name": "LogisticRegression.ipynb",
      "provenance": [],
      "authorship_tag": "ABX9TyP+IT/pLLFFCVHqvOFOre5k",
      "include_colab_link": true
    },
    "kernelspec": {
      "name": "python3",
      "display_name": "Python 3"
    }
  },
  "cells": [
    {
      "cell_type": "markdown",
      "metadata": {
        "id": "view-in-github",
        "colab_type": "text"
      },
      "source": [
        "<a href=\"https://colab.research.google.com/github/mridul-eecs/signal-processing-apachesparkml-apachesystemml/blob/master/LogisticRegression.ipynb\" target=\"_parent\"><img src=\"https://colab.research.google.com/assets/colab-badge.svg\" alt=\"Open In Colab\"/></a>"
      ]
    },
    {
      "cell_type": "code",
      "metadata": {
        "id": "ZDqrjYXPai9v",
        "colab_type": "code",
        "outputId": "5b15a06f-22c6-4c7e-ae76-28bdc63527c9",
        "colab": {
          "base_uri": "https://localhost:8080/",
          "height": 258
        }
      },
      "source": [
        "\n",
        "# spark dependencies:\n",
        "# citation: http://medium.com/@rmache/big-data-with-spark-in-google-colab-7c046e24b3\n",
        "!apt-get install openjdk-8-jdk-headless -qq > /dev/null\n",
        "!wget -q http://apachemirror.wuchna.com/spark/spark-2.4.4/spark-2.4.4-bin-hadoop2.7.tgz\n",
        "!tar xf spark-2.4.4-bin-hadoop2.7.tgz\n",
        "\n",
        "!pip install -q findspark\n",
        "!pip install pyspark"
      ],
      "execution_count": 0,
      "outputs": [
        {
          "output_type": "stream",
          "text": [
            "Collecting pyspark\n",
            "\u001b[?25l  Downloading https://files.pythonhosted.org/packages/87/21/f05c186f4ddb01d15d0ddc36ef4b7e3cedbeb6412274a41f26b55a650ee5/pyspark-2.4.4.tar.gz (215.7MB)\n",
            "\u001b[K     |████████████████████████████████| 215.7MB 55kB/s \n",
            "\u001b[?25hCollecting py4j==0.10.7\n",
            "\u001b[?25l  Downloading https://files.pythonhosted.org/packages/e3/53/c737818eb9a7dc32a7cd4f1396e787bd94200c3997c72c1dbe028587bd76/py4j-0.10.7-py2.py3-none-any.whl (197kB)\n",
            "\u001b[K     |████████████████████████████████| 204kB 44.9MB/s \n",
            "\u001b[?25hBuilding wheels for collected packages: pyspark\n",
            "  Building wheel for pyspark (setup.py) ... \u001b[?25l\u001b[?25hdone\n",
            "  Created wheel for pyspark: filename=pyspark-2.4.4-py2.py3-none-any.whl size=216130387 sha256=1616c4161ac23a6326fb6b3b1257bb69bbd425da4f479ed271941211e4b64b02\n",
            "  Stored in directory: /root/.cache/pip/wheels/ab/09/4d/0d184230058e654eb1b04467dbc1292f00eaa186544604b471\n",
            "Successfully built pyspark\n",
            "Installing collected packages: py4j, pyspark\n",
            "Successfully installed py4j-0.10.7 pyspark-2.4.4\n"
          ],
          "name": "stdout"
        }
      ]
    },
    {
      "cell_type": "code",
      "metadata": {
        "id": "ebKgnyp7auDn",
        "colab_type": "code",
        "outputId": "bcfc95d9-1968-4805-9fda-927ae4aa2dd7",
        "colab": {
          "base_uri": "https://localhost:8080/",
          "height": 119
        }
      },
      "source": [
        "!git clone https://github.com/mridul-eecs/signal-processing-apachesparkml-apachesystemml.git"
      ],
      "execution_count": 0,
      "outputs": [
        {
          "output_type": "stream",
          "text": [
            "Cloning into 'signal-processing-apachesparkml-apachesystemml'...\n",
            "remote: Enumerating objects: 19, done.\u001b[K\n",
            "remote: Counting objects: 100% (19/19), done.\u001b[K\n",
            "remote: Compressing objects: 100% (14/14), done.\u001b[K\n",
            "remote: Total 19 (delta 1), reused 14 (delta 1), pack-reused 0\u001b[K\n",
            "Unpacking objects: 100% (19/19), done.\n"
          ],
          "name": "stdout"
        }
      ]
    },
    {
      "cell_type": "code",
      "metadata": {
        "id": "0BFzBxQ4amXj",
        "colab_type": "code",
        "colab": {}
      },
      "source": [
        "from pyspark.sql import SparkSession\n",
        "from pyspark.sql.types import StructField, StructType, IntegerType\n",
        "from pyspark.sql.functions import lit\n",
        "import os\n",
        "from tqdm import tqdm_notebook as tqdm\n",
        "\n",
        "os.environ[\"JAVA_HOME\"] = \"/usr/lib/jvm/java-8-openjdk-amd64\"\n",
        "os.environ[\"SPARK_HOME\"] = \"/content/spark-2.4.4-bin-hadoop2.7\"\n",
        "\n",
        "\n",
        "import findspark\n",
        "findspark.init()\n",
        "\n",
        "APP_NAME= \"Human Motion Premitives\"\n",
        "SPARK_URL= \"local[*]\"\n",
        "RANDOM_SEED = 141109\n",
        "TRAINING_DATA_RATIO = 0.7\n",
        "RF_NUM_TREES = 8\n",
        "RF_MAX_DEPTH = 4\n",
        "RF_NUM_BINS = 32"
      ],
      "execution_count": 0,
      "outputs": []
    },
    {
      "cell_type": "code",
      "metadata": {
        "id": "hruj02Ziap6y",
        "colab_type": "code",
        "colab": {}
      },
      "source": [
        "spark= SparkSession.builder.appName(APP_NAME).master(SPARK_URL).getOrCreate()"
      ],
      "execution_count": 0,
      "outputs": []
    },
    {
      "cell_type": "code",
      "metadata": {
        "id": "BmGTA4mNkm-y",
        "colab_type": "code",
        "outputId": "4f51133b-6105-48cb-c4c3-bf3f6c8e10b4",
        "colab": {
          "base_uri": "https://localhost:8080/",
          "height": 459
        }
      },
      "source": [
        "df= spark.read.parquet('/content/signal-processing-apachesparkml-apachesystemml/df.parquet')\n",
        "df.show()"
      ],
      "execution_count": 0,
      "outputs": [
        {
          "output_type": "stream",
          "text": [
            "+---+---+---+-------------+\n",
            "|  x|  y|  z|        class|\n",
            "+---+---+---+-------------+\n",
            "| 17| 46| 41|    Getup_bed|\n",
            "| 31| 41| 51|  Drink_glass|\n",
            "| 31| 41| 51|  Drink_glass|\n",
            "| 31| 41| 51|  Drink_glass|\n",
            "| 31| 41| 51|  Drink_glass|\n",
            "| 31| 41| 51|  Drink_glass|\n",
            "| 31| 41| 51|  Drink_glass|\n",
            "| 31| 41| 51|  Drink_glass|\n",
            "| 31| 41| 51|  Drink_glass|\n",
            "| 31| 41| 51|  Drink_glass|\n",
            "| 31| 41| 51|  Drink_glass|\n",
            "| 28| 41| 36|  Brush_teeth|\n",
            "| 34| 53| 33|         Walk|\n",
            "| 14| 46| 31|Standup_chair|\n",
            "| 18| 45| 36|Sitdown_chair|\n",
            "| 14| 26| 39|  Liedown_bed|\n",
            "| 28| 41| 48|         Walk|\n",
            "| 26| 52| 32|  Brush_teeth|\n",
            "| 26| 52| 32|  Brush_teeth|\n",
            "| 26| 52| 32|  Brush_teeth|\n",
            "+---+---+---+-------------+\n",
            "only showing top 20 rows\n",
            "\n"
          ],
          "name": "stdout"
        }
      ]
    },
    {
      "cell_type": "code",
      "metadata": {
        "id": "HJTUZV_zppOp",
        "colab_type": "code",
        "colab": {}
      },
      "source": [
        "df_train, df_test= df.randomSplit([0.8, 0.2])"
      ],
      "execution_count": 0,
      "outputs": []
    },
    {
      "cell_type": "code",
      "metadata": {
        "id": "VgmwjxwAkxvh",
        "colab_type": "code",
        "colab": {}
      },
      "source": [
        "df_train.createOrReplaceTempView('df_train')\n",
        "\n",
        "from pyspark.ml.feature import StringIndexer, VectorAssembler\n",
        "from pyspark.ml.classification import LogisticRegression\n",
        "from pyspark.ml import Pipeline\n",
        "\n",
        "indexer= StringIndexer(inputCol= 'class', outputCol= 'label')\n",
        "vectorizer= VectorAssembler(inputCols= ['x', 'y', 'z'], outputCol= 'features')\n",
        "classifier= LogisticRegression(maxIter= 10, regParam= 0.3, elasticNetParam= 0.8)\n",
        "\n",
        "pipe= Pipeline(stages= [indexer, vectorizer, classifier])\n",
        "model= pipe.fit(df_train)\n",
        "pred= model.transform(df_train)"
      ],
      "execution_count": 0,
      "outputs": []
    },
    {
      "cell_type": "code",
      "metadata": {
        "id": "qyyUlur4lRAM",
        "colab_type": "code",
        "outputId": "64c8e263-73e4-481a-90f3-544a84755940",
        "colab": {
          "base_uri": "https://localhost:8080/",
          "height": 34
        }
      },
      "source": [
        "from pyspark.ml.evaluation import MulticlassClassificationEvaluator as Evaluator\n",
        "eval= Evaluator().setMetricName('accuracy').setLabelCol('label').setPredictionCol('prediction')\n",
        "eval.evaluate(pred)"
      ],
      "execution_count": 0,
      "outputs": [
        {
          "output_type": "execute_result",
          "data": {
            "text/plain": [
              "0.20636972617228816"
            ]
          },
          "metadata": {
            "tags": []
          },
          "execution_count": 27
        }
      ]
    },
    {
      "cell_type": "code",
      "metadata": {
        "id": "R3LmrA-ZpDkV",
        "colab_type": "code",
        "outputId": "3fcd096f-855c-4c06-c191-05d482afbeba",
        "colab": {
          "base_uri": "https://localhost:8080/",
          "height": 34
        }
      },
      "source": [
        "pred= model.transform(df_test)\n",
        "eval= Evaluator().setMetricName('accuracy').setLabelCol('label').setPredictionCol('prediction')\n",
        "eval.evaluate(pred)"
      ],
      "execution_count": 0,
      "outputs": [
        {
          "output_type": "execute_result",
          "data": {
            "text/plain": [
              "0.20753552960707114"
            ]
          },
          "metadata": {
            "tags": []
          },
          "execution_count": 28
        }
      ]
    },
    {
      "cell_type": "code",
      "metadata": {
        "id": "ARxdHHo2q1qr",
        "colab_type": "code",
        "colab": {}
      },
      "source": [
        ""
      ],
      "execution_count": 0,
      "outputs": []
    }
  ]
}