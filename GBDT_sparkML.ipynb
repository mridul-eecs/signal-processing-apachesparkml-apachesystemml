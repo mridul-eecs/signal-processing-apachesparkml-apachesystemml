{
  "nbformat": 4,
  "nbformat_minor": 0,
  "metadata": {
    "colab": {
      "name": "GBDT_sparkML.ipynb",
      "provenance": [],
      "authorship_tag": "ABX9TyPB3FxuhKXAQBsa9hlZUFE3",
      "include_colab_link": true
    },
    "kernelspec": {
      "name": "python3",
      "display_name": "Python 3"
    }
  },
  "cells": [
    {
      "cell_type": "markdown",
      "metadata": {
        "id": "view-in-github",
        "colab_type": "text"
      },
      "source": [
        "<a href=\"https://colab.research.google.com/github/mridul-eecs/signal-processing-apachesparkml-apachesystemml/blob/master/GBDT_sparkML.ipynb\" target=\"_parent\"><img src=\"https://colab.research.google.com/assets/colab-badge.svg\" alt=\"Open In Colab\"/></a>"
      ]
    },
    {
      "cell_type": "markdown",
      "metadata": {
        "id": "2L5px8-rm1Tv",
        "colab_type": "text"
      },
      "source": [
        "### Preprocessing to work with spark"
      ]
    },
    {
      "cell_type": "code",
      "metadata": {
        "id": "InunmNFxl1T3",
        "colab_type": "code",
        "outputId": "1e5ac0b2-ba7b-4b34-fb90-7ca708fc4c82",
        "colab": {
          "base_uri": "https://localhost:8080/",
          "height": 262
        }
      },
      "source": [
        "\n",
        "# spark dependencies:\n",
        "# citation: http://medium.com/@rmache/big-data-with-spark-in-google-colab-7c046e24b3\n",
        "!apt-get install openjdk-8-jdk-headless -qq > /dev/null\n",
        "!wget -q http://apachemirror.wuchna.com/spark/spark-2.4.4/spark-2.4.4-bin-hadoop2.7.tgz\n",
        "!tar xf spark-2.4.4-bin-hadoop2.7.tgz\n",
        "\n",
        "!pip install -q findspark\n",
        "!pip install pyspark"
      ],
      "execution_count": 1,
      "outputs": [
        {
          "output_type": "stream",
          "text": [
            "Collecting pyspark\n",
            "\u001b[?25l  Downloading https://files.pythonhosted.org/packages/87/21/f05c186f4ddb01d15d0ddc36ef4b7e3cedbeb6412274a41f26b55a650ee5/pyspark-2.4.4.tar.gz (215.7MB)\n",
            "\u001b[K     |████████████████████████████████| 215.7MB 58kB/s \n",
            "\u001b[?25hCollecting py4j==0.10.7\n",
            "\u001b[?25l  Downloading https://files.pythonhosted.org/packages/e3/53/c737818eb9a7dc32a7cd4f1396e787bd94200c3997c72c1dbe028587bd76/py4j-0.10.7-py2.py3-none-any.whl (197kB)\n",
            "\u001b[K     |████████████████████████████████| 204kB 46.5MB/s \n",
            "\u001b[?25hBuilding wheels for collected packages: pyspark\n",
            "  Building wheel for pyspark (setup.py) ... \u001b[?25l\u001b[?25hdone\n",
            "  Created wheel for pyspark: filename=pyspark-2.4.4-py2.py3-none-any.whl size=216130387 sha256=d415f830a6e87ac0700a16d808512662faa1f4b7c037842c995e8de9952f35a5\n",
            "  Stored in directory: /root/.cache/pip/wheels/ab/09/4d/0d184230058e654eb1b04467dbc1292f00eaa186544604b471\n",
            "Successfully built pyspark\n",
            "Installing collected packages: py4j, pyspark\n",
            "Successfully installed py4j-0.10.7 pyspark-2.4.4\n"
          ],
          "name": "stdout"
        }
      ]
    },
    {
      "cell_type": "code",
      "metadata": {
        "id": "N5QOqyklmpnJ",
        "colab_type": "code",
        "outputId": "ba8c56dd-5acd-45c4-8e1b-ebe0748ec8c3",
        "colab": {
          "base_uri": "https://localhost:8080/",
          "height": 121
        }
      },
      "source": [
        "!git clone https://github.com/mridul-eecs/signal-processing-apachesparkml-apachesystemml.git"
      ],
      "execution_count": 2,
      "outputs": [
        {
          "output_type": "stream",
          "text": [
            "Cloning into 'signal-processing-apachesparkml-apachesystemml'...\n",
            "remote: Enumerating objects: 34, done.\u001b[K\n",
            "remote: Counting objects:   2% (1/34)\u001b[K\rremote: Counting objects:   5% (2/34)\u001b[K\rremote: Counting objects:   8% (3/34)\u001b[K\rremote: Counting objects:  11% (4/34)\u001b[K\rremote: Counting objects:  14% (5/34)\u001b[K\rremote: Counting objects:  17% (6/34)\u001b[K\rremote: Counting objects:  20% (7/34)\u001b[K\rremote: Counting objects:  23% (8/34)\u001b[K\rremote: Counting objects:  26% (9/34)\u001b[K\rremote: Counting objects:  29% (10/34)\u001b[K\rremote: Counting objects:  32% (11/34)\u001b[K\rremote: Counting objects:  35% (12/34)\u001b[K\rremote: Counting objects:  38% (13/34)\u001b[K\rremote: Counting objects:  41% (14/34)\u001b[K\rremote: Counting objects:  44% (15/34)\u001b[K\rremote: Counting objects:  47% (16/34)\u001b[K\rremote: Counting objects:  50% (17/34)\u001b[K\rremote: Counting objects:  52% (18/34)\u001b[K\rremote: Counting objects:  55% (19/34)\u001b[K\rremote: Counting objects:  58% (20/34)\u001b[K\rremote: Counting objects:  61% (21/34)\u001b[K\rremote: Counting objects:  64% (22/34)\u001b[K\rremote: Counting objects:  67% (23/34)\u001b[K\rremote: Counting objects:  70% (24/34)\u001b[K\rremote: Counting objects:  73% (25/34)\u001b[K\rremote: Counting objects:  76% (26/34)\u001b[K\rremote: Counting objects:  79% (27/34)\u001b[K\rremote: Counting objects:  82% (28/34)\u001b[K\rremote: Counting objects:  85% (29/34)\u001b[K\rremote: Counting objects:  88% (30/34)\u001b[K\rremote: Counting objects:  91% (31/34)\u001b[K\rremote: Counting objects:  94% (32/34)\u001b[K\rremote: Counting objects:  97% (33/34)\u001b[K\rremote: Counting objects: 100% (34/34)\u001b[K\rremote: Counting objects: 100% (34/34), done.\u001b[K\n",
            "remote: Compressing objects:   3% (1/28)\u001b[K\rremote: Compressing objects:   7% (2/28)\u001b[K\rremote: Compressing objects:  10% (3/28)\u001b[K\rremote: Compressing objects:  14% (4/28)\u001b[K\rremote: Compressing objects:  17% (5/28)\u001b[K\rremote: Compressing objects:  21% (6/28)\u001b[K\rremote: Compressing objects:  25% (7/28)\u001b[K\rremote: Compressing objects:  28% (8/28)\u001b[K\rremote: Compressing objects:  32% (9/28)\u001b[K\rremote: Compressing objects:  35% (10/28)\u001b[K\rremote: Compressing objects:  39% (11/28)\u001b[K\rremote: Compressing objects:  42% (12/28)\u001b[K\rremote: Compressing objects:  46% (13/28)\u001b[K\rremote: Compressing objects:  50% (14/28)\u001b[K\rremote: Compressing objects:  53% (15/28)\u001b[K\rremote: Compressing objects:  57% (16/28)\u001b[K\rremote: Compressing objects:  60% (17/28)\u001b[K\rremote: Compressing objects:  64% (18/28)\u001b[K\rremote: Compressing objects:  67% (19/28)\u001b[K\rremote: Compressing objects:  71% (20/28)\u001b[K\rremote: Compressing objects:  75% (21/28)\u001b[K\rremote: Compressing objects:  78% (22/28)\u001b[K\rremote: Compressing objects:  82% (23/28)\u001b[K\rremote: Compressing objects:  85% (24/28)\u001b[K\rremote: Compressing objects:  89% (25/28)\u001b[K\rremote: Compressing objects:  92% (26/28)\u001b[K\rremote: Compressing objects:  96% (27/28)\u001b[K\rremote: Compressing objects: 100% (28/28)\u001b[K\rremote: Compressing objects: 100% (28/28), done.\u001b[K\n",
            "Unpacking objects:   2% (1/34)   \rUnpacking objects:   5% (2/34)   \rUnpacking objects:   8% (3/34)   \rUnpacking objects:  11% (4/34)   \rUnpacking objects:  14% (5/34)   \rUnpacking objects:  17% (6/34)   \rUnpacking objects:  20% (7/34)   \rUnpacking objects:  23% (8/34)   \rUnpacking objects:  26% (9/34)   \rUnpacking objects:  29% (10/34)   \rUnpacking objects:  32% (11/34)   \rUnpacking objects:  35% (12/34)   \rUnpacking objects:  38% (13/34)   \rUnpacking objects:  41% (14/34)   \rUnpacking objects:  44% (15/34)   \rUnpacking objects:  47% (16/34)   \rUnpacking objects:  50% (17/34)   \rUnpacking objects:  52% (18/34)   \rUnpacking objects:  55% (19/34)   \rUnpacking objects:  58% (20/34)   \rUnpacking objects:  61% (21/34)   \rUnpacking objects:  64% (22/34)   \rUnpacking objects:  67% (23/34)   \rUnpacking objects:  70% (24/34)   \rremote: Total 34 (delta 7), reused 16 (delta 2), pack-reused 0\u001b[K\n",
            "Unpacking objects:  73% (25/34)   \rUnpacking objects:  76% (26/34)   \rUnpacking objects:  79% (27/34)   \rUnpacking objects:  82% (28/34)   \rUnpacking objects:  85% (29/34)   \rUnpacking objects:  88% (30/34)   \rUnpacking objects:  91% (31/34)   \rUnpacking objects:  94% (32/34)   \rUnpacking objects:  97% (33/34)   \rUnpacking objects: 100% (34/34)   \rUnpacking objects: 100% (34/34), done.\n"
          ],
          "name": "stdout"
        }
      ]
    },
    {
      "cell_type": "code",
      "metadata": {
        "id": "SYOzb0immrvJ",
        "colab_type": "code",
        "colab": {}
      },
      "source": [
        "from pyspark.sql import SparkSession\n",
        "from pyspark.sql.types import StructField, StructType, IntegerType\n",
        "from pyspark.sql.functions import lit\n",
        "import os\n",
        "from tqdm import tqdm_notebook as tqdm\n",
        "\n",
        "os.environ[\"JAVA_HOME\"] = \"/usr/lib/jvm/java-8-openjdk-amd64\"\n",
        "os.environ[\"SPARK_HOME\"] = \"/content/spark-2.4.4-bin-hadoop2.7\"\n",
        "\n",
        "\n",
        "import findspark\n",
        "findspark.init()\n",
        "\n",
        "APP_NAME= \"Human Motion Premitives\"\n",
        "SPARK_URL= \"local[*]\"\n",
        "RANDOM_SEED = 141109\n",
        "TRAINING_DATA_RATIO = 0.7\n",
        "RF_NUM_TREES = 8\n",
        "RF_MAX_DEPTH = 4\n",
        "RF_NUM_BINS = 32"
      ],
      "execution_count": 0,
      "outputs": []
    },
    {
      "cell_type": "code",
      "metadata": {
        "id": "XZvR3LbdmuAm",
        "colab_type": "code",
        "colab": {}
      },
      "source": [
        "spark= SparkSession.builder.appName(APP_NAME).master(SPARK_URL).getOrCreate()"
      ],
      "execution_count": 0,
      "outputs": []
    },
    {
      "cell_type": "markdown",
      "metadata": {
        "id": "SevzsyxSm8bI",
        "colab_type": "text"
      },
      "source": [
        "### Main program"
      ]
    },
    {
      "cell_type": "code",
      "metadata": {
        "id": "mmOD0-cfOL14",
        "colab_type": "code",
        "colab": {
          "base_uri": "https://localhost:8080/",
          "height": 260
        },
        "outputId": "6435f889-04af-44bc-eaac-4d44b72a3b6f"
      },
      "source": [
        "datapath= '/content/signal-processing-apachesparkml-apachesystemml/df.parquet'\n",
        "df= spark.read.parquet(datapath)\n",
        "df= df.createOrReplaceTempView('df')\n",
        "spark.sql(\"\"\"select df.class from df\"\"\").distinct().collect()"
      ],
      "execution_count": 28,
      "outputs": [
        {
          "output_type": "execute_result",
          "data": {
            "text/plain": [
              "[Row(class='Use_telephone'),\n",
              " Row(class='Standup_chair'),\n",
              " Row(class='Eat_meat'),\n",
              " Row(class='Getup_bed'),\n",
              " Row(class='Drink_glass'),\n",
              " Row(class='Pour_water'),\n",
              " Row(class='Comb_hair'),\n",
              " Row(class='Walk'),\n",
              " Row(class='Climb_stairs'),\n",
              " Row(class='Sitdown_chair'),\n",
              " Row(class='Liedown_bed'),\n",
              " Row(class='Descend_stairs'),\n",
              " Row(class='Brush_teeth'),\n",
              " Row(class='Eat_soup')]"
            ]
          },
          "metadata": {
            "tags": []
          },
          "execution_count": 28
        }
      ]
    },
    {
      "cell_type": "code",
      "metadata": {
        "id": "QRmrdeTEP-Ss",
        "colab_type": "code",
        "colab": {
          "base_uri": "https://localhost:8080/",
          "height": 468
        },
        "outputId": "1a58d24c-9a38-4cee-a50c-ffe6ae92645a"
      },
      "source": [
        "binarydf= spark.sql(\"\"\"select * from df where class in ('Standup_chair', 'Use_telephone')\"\"\")\n",
        "binarydf.show()"
      ],
      "execution_count": 31,
      "outputs": [
        {
          "output_type": "stream",
          "text": [
            "+---+---+---+-------------+\n",
            "|  x|  y|  z|        class|\n",
            "+---+---+---+-------------+\n",
            "| 14| 46| 31|Standup_chair|\n",
            "| 49| 24| 40|Use_telephone|\n",
            "|  7| 30| 17|Standup_chair|\n",
            "| 16| 41| 44|Standup_chair|\n",
            "| 34| 43| 44|Use_telephone|\n",
            "| 14| 40| 33|Standup_chair|\n",
            "| 14| 40| 33|Standup_chair|\n",
            "| 14| 40| 33|Standup_chair|\n",
            "| 14| 40| 33|Standup_chair|\n",
            "| 14| 40| 33|Standup_chair|\n",
            "| 14| 40| 33|Standup_chair|\n",
            "| 14| 40| 33|Standup_chair|\n",
            "| 44| 31| 50|Use_telephone|\n",
            "| 44| 31| 50|Use_telephone|\n",
            "| 12| 30| 33|Standup_chair|\n",
            "| 29| 41| 51|Standup_chair|\n",
            "| 29| 41| 51|Standup_chair|\n",
            "| 29| 41| 51|Standup_chair|\n",
            "| 29| 41| 51|Standup_chair|\n",
            "| 25| 36| 44|Use_telephone|\n",
            "+---+---+---+-------------+\n",
            "only showing top 20 rows\n",
            "\n"
          ],
          "name": "stdout"
        }
      ]
    },
    {
      "cell_type": "code",
      "metadata": {
        "id": "3rU-PQR0UsiA",
        "colab_type": "code",
        "colab": {}
      },
      "source": [
        "train_df, test_df= binarydf.randomSplit([0.8, 0.2])"
      ],
      "execution_count": 0,
      "outputs": []
    },
    {
      "cell_type": "code",
      "metadata": {
        "id": "gU0SSr3bQObS",
        "colab_type": "code",
        "colab": {}
      },
      "source": [
        "from pyspark.ml.feature import StringIndexer, VectorAssembler, Normalizer\n",
        "from pyspark.ml import Pipeline\n",
        "from pyspark.ml.classification import GBTClassifier\n",
        "from pyspark.ml.evaluation import MulticlassClassificationEvaluator\n",
        "\n",
        "indexer= StringIndexer(inputCol='class', outputCol= 'label')\n",
        "vectorizer= VectorAssembler(inputCols= ['x', 'y', 'z'], outputCol= 'feats')\n",
        "normalizer= Normalizer(inputCol= 'feats', outputCol= 'features')\n",
        "gbdt= GBTClassifier(labelCol= 'label', featuresCol= 'features', maxIter= 10)\n",
        "\n",
        "eval= MulticlassClassificationEvaluator().setMetricName('accuracy').setPredictionCol('prediction').setLabelCol('label')\n",
        "\n",
        "pipe= Pipeline(stages= [indexer, vectorizer, normalizer, gbdt])\n",
        "model= pipe.fit(train_df)\n",
        "pred_train= model.transform(train_df)"
      ],
      "execution_count": 0,
      "outputs": []
    },
    {
      "cell_type": "code",
      "metadata": {
        "id": "Z8hDYjooTXKh",
        "colab_type": "code",
        "colab": {
          "base_uri": "https://localhost:8080/",
          "height": 34
        },
        "outputId": "095b76ca-f36c-440e-c024-c5fc462eab90"
      },
      "source": [
        "eval.evaluate(pred_train)"
      ],
      "execution_count": 48,
      "outputs": [
        {
          "output_type": "execute_result",
          "data": {
            "text/plain": [
              "0.9113277765816751"
            ]
          },
          "metadata": {
            "tags": []
          },
          "execution_count": 48
        }
      ]
    },
    {
      "cell_type": "code",
      "metadata": {
        "id": "l9m1YBHWWXQM",
        "colab_type": "code",
        "colab": {
          "base_uri": "https://localhost:8080/",
          "height": 34
        },
        "outputId": "0f97135e-0fd1-4132-f42f-fb113e86bd08"
      },
      "source": [
        "pred_test= model.transform(test_df)\n",
        "eval.evaluate(pred_test)"
      ],
      "execution_count": 49,
      "outputs": [
        {
          "output_type": "execute_result",
          "data": {
            "text/plain": [
              "0.90564645097798"
            ]
          },
          "metadata": {
            "tags": []
          },
          "execution_count": 49
        }
      ]
    },
    {
      "cell_type": "code",
      "metadata": {
        "id": "Wa6LNDDVWwEH",
        "colab_type": "code",
        "colab": {}
      },
      "source": [
        ""
      ],
      "execution_count": 0,
      "outputs": []
    }
  ]
}