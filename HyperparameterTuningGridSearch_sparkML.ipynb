{
  "nbformat": 4,
  "nbformat_minor": 0,
  "metadata": {
    "colab": {
      "name": "HyperparameterTuningGridSearch_sparkML.ipynb",
      "provenance": [],
      "collapsed_sections": [],
      "authorship_tag": "ABX9TyMu5R8LPQBch1m4nHhPASXm",
      "include_colab_link": true
    },
    "kernelspec": {
      "name": "python3",
      "display_name": "Python 3"
    }
  },
  "cells": [
    {
      "cell_type": "markdown",
      "metadata": {
        "id": "view-in-github",
        "colab_type": "text"
      },
      "source": [
        "<a href=\"https://colab.research.google.com/github/mridul-eecs/signal-processing-apachesparkml-apachesystemml/blob/master/HyperparameterTuningGridSearch_sparkML.ipynb\" target=\"_parent\"><img src=\"https://colab.research.google.com/assets/colab-badge.svg\" alt=\"Open In Colab\"/></a>"
      ]
    },
    {
      "cell_type": "markdown",
      "metadata": {
        "id": "2L5px8-rm1Tv",
        "colab_type": "text"
      },
      "source": [
        "### Preprocessing to work with spark"
      ]
    },
    {
      "cell_type": "code",
      "metadata": {
        "id": "InunmNFxl1T3",
        "colab_type": "code",
        "outputId": "5880e5e9-508f-4880-c9d2-807537606ddc",
        "colab": {
          "base_uri": "https://localhost:8080/",
          "height": 242
        }
      },
      "source": [
        "\n",
        "# spark dependencies:\n",
        "# citation: http://medium.com/@rmache/big-data-with-spark-in-google-colab-7c046e24b3\n",
        "!apt-get install openjdk-8-jdk-headless -qq > /dev/null\n",
        "!wget -q http://apachemirror.wuchna.com/spark/spark-2.4.4/spark-2.4.4-bin-hadoop2.7.tgz\n",
        "!tar xf spark-2.4.4-bin-hadoop2.7.tgz\n",
        "\n",
        "!pip install -q findspark\n",
        "!pip install pyspark"
      ],
      "execution_count": 1,
      "outputs": [
        {
          "output_type": "stream",
          "text": [
            "Collecting pyspark\n",
            "\u001b[?25l  Downloading https://files.pythonhosted.org/packages/87/21/f05c186f4ddb01d15d0ddc36ef4b7e3cedbeb6412274a41f26b55a650ee5/pyspark-2.4.4.tar.gz (215.7MB)\n",
            "\u001b[K     |████████████████████████████████| 215.7MB 51kB/s \n",
            "\u001b[?25hCollecting py4j==0.10.7\n",
            "\u001b[?25l  Downloading https://files.pythonhosted.org/packages/e3/53/c737818eb9a7dc32a7cd4f1396e787bd94200c3997c72c1dbe028587bd76/py4j-0.10.7-py2.py3-none-any.whl (197kB)\n",
            "\u001b[K     |████████████████████████████████| 204kB 47.5MB/s \n",
            "\u001b[?25hBuilding wheels for collected packages: pyspark\n",
            "  Building wheel for pyspark (setup.py) ... \u001b[?25l\u001b[?25hdone\n",
            "  Created wheel for pyspark: filename=pyspark-2.4.4-py2.py3-none-any.whl size=216130387 sha256=ca8ba23a9d9a57631985373676095332dae7e7104682d09bd5d205886084834c\n",
            "  Stored in directory: /root/.cache/pip/wheels/ab/09/4d/0d184230058e654eb1b04467dbc1292f00eaa186544604b471\n",
            "Successfully built pyspark\n",
            "Installing collected packages: py4j, pyspark\n",
            "Successfully installed py4j-0.10.7 pyspark-2.4.4\n"
          ],
          "name": "stdout"
        }
      ]
    },
    {
      "cell_type": "code",
      "metadata": {
        "id": "N5QOqyklmpnJ",
        "colab_type": "code",
        "outputId": "21f2cb64-f2de-45a5-9510-0d6ca8539e9a",
        "colab": {
          "base_uri": "https://localhost:8080/",
          "height": 121
        }
      },
      "source": [
        "!git clone https://github.com/mridul-eecs/signal-processing-apachesparkml-apachesystemml.git"
      ],
      "execution_count": 2,
      "outputs": [
        {
          "output_type": "stream",
          "text": [
            "Cloning into 'signal-processing-apachesparkml-apachesystemml'...\n",
            "remote: Enumerating objects: 37, done.\u001b[K\n",
            "remote: Counting objects: 100% (37/37), done.\u001b[K\n",
            "remote: Compressing objects: 100% (31/31), done.\u001b[K\n",
            "remote: Total 37 (delta 9), reused 16 (delta 2), pack-reused 0\u001b[K\n",
            "Unpacking objects: 100% (37/37), done.\n"
          ],
          "name": "stdout"
        }
      ]
    },
    {
      "cell_type": "code",
      "metadata": {
        "id": "SYOzb0immrvJ",
        "colab_type": "code",
        "colab": {}
      },
      "source": [
        "from pyspark.sql import SparkSession\n",
        "from pyspark.sql.types import StructField, StructType, IntegerType\n",
        "from pyspark.sql.functions import lit\n",
        "import os\n",
        "from tqdm import tqdm_notebook as tqdm\n",
        "\n",
        "os.environ[\"JAVA_HOME\"] = \"/usr/lib/jvm/java-8-openjdk-amd64\"\n",
        "os.environ[\"SPARK_HOME\"] = \"/content/spark-2.4.4-bin-hadoop2.7\"\n",
        "\n",
        "\n",
        "import findspark\n",
        "findspark.init()\n",
        "\n",
        "APP_NAME= \"Human Motion Premitives\"\n",
        "SPARK_URL= \"local[*]\"\n",
        "RANDOM_SEED = 141109\n",
        "TRAINING_DATA_RATIO = 0.7\n",
        "RF_NUM_TREES = 8\n",
        "RF_MAX_DEPTH = 4\n",
        "RF_NUM_BINS = 32"
      ],
      "execution_count": 0,
      "outputs": []
    },
    {
      "cell_type": "code",
      "metadata": {
        "id": "XZvR3LbdmuAm",
        "colab_type": "code",
        "colab": {}
      },
      "source": [
        "spark= SparkSession.builder.appName(APP_NAME).master(SPARK_URL).getOrCreate()"
      ],
      "execution_count": 0,
      "outputs": []
    },
    {
      "cell_type": "markdown",
      "metadata": {
        "id": "SevzsyxSm8bI",
        "colab_type": "text"
      },
      "source": [
        "### Main program"
      ]
    },
    {
      "cell_type": "code",
      "metadata": {
        "id": "lZpfmKxkqoNo",
        "colab_type": "code",
        "colab": {}
      },
      "source": [
        "df= spark.read.parquet('/content/signal-processing-apachesparkml-apachesystemml/df.parquet')\n",
        "df= df.createOrReplaceTempView('df')"
      ],
      "execution_count": 0,
      "outputs": []
    },
    {
      "cell_type": "code",
      "metadata": {
        "id": "bm0lVDhY0QJK",
        "colab_type": "code",
        "outputId": "060b5759-9797-4d75-f84f-593fc655b88c",
        "colab": {
          "base_uri": "https://localhost:8080/",
          "height": 505
        }
      },
      "source": [
        "## As linear SVC supports binary class only, dropping all classes except 2\n",
        "# print(df.count())\n",
        "classes= spark.sql(\"\"\"select df.class from df\"\"\")\n",
        "classcounts= spark.sql(\"\"\"select class, count(*) from df group by class\"\"\")\n",
        "class_list= classes.distinct().collect()\n",
        "class_list= [i[0] for i in class_list]\n",
        "print(class_list)\n",
        "\n",
        "newdf= spark.sql(\"\"\"select * from df where df.class= 'Use_telephone' or df.class = 'Standup_chair'\"\"\")\n",
        "newdf.show()"
      ],
      "execution_count": 11,
      "outputs": [
        {
          "output_type": "stream",
          "text": [
            "['Use_telephone', 'Standup_chair', 'Eat_meat', 'Getup_bed', 'Drink_glass', 'Pour_water', 'Comb_hair', 'Walk', 'Climb_stairs', 'Sitdown_chair', 'Liedown_bed', 'Descend_stairs', 'Brush_teeth', 'Eat_soup']\n",
            "+---+---+---+-------------+\n",
            "|  x|  y|  z|        class|\n",
            "+---+---+---+-------------+\n",
            "| 14| 46| 31|Standup_chair|\n",
            "| 49| 24| 40|Use_telephone|\n",
            "|  7| 30| 17|Standup_chair|\n",
            "| 16| 41| 44|Standup_chair|\n",
            "| 34| 43| 44|Use_telephone|\n",
            "| 14| 40| 33|Standup_chair|\n",
            "| 14| 40| 33|Standup_chair|\n",
            "| 14| 40| 33|Standup_chair|\n",
            "| 14| 40| 33|Standup_chair|\n",
            "| 14| 40| 33|Standup_chair|\n",
            "| 14| 40| 33|Standup_chair|\n",
            "| 14| 40| 33|Standup_chair|\n",
            "| 44| 31| 50|Use_telephone|\n",
            "| 44| 31| 50|Use_telephone|\n",
            "| 12| 30| 33|Standup_chair|\n",
            "| 29| 41| 51|Standup_chair|\n",
            "| 29| 41| 51|Standup_chair|\n",
            "| 29| 41| 51|Standup_chair|\n",
            "| 29| 41| 51|Standup_chair|\n",
            "| 25| 36| 44|Use_telephone|\n",
            "+---+---+---+-------------+\n",
            "only showing top 20 rows\n",
            "\n"
          ],
          "name": "stdout"
        }
      ]
    },
    {
      "cell_type": "code",
      "metadata": {
        "id": "N_kN5OZ1qoIW",
        "colab_type": "code",
        "colab": {}
      },
      "source": [
        "# df= df.createOrReplaceTempView('df')\n",
        "train_df, test_df= newdf.randomSplit([0.8, 0.2])"
      ],
      "execution_count": 0,
      "outputs": []
    },
    {
      "cell_type": "code",
      "metadata": {
        "id": "ysZPq9ZHmvk2",
        "colab_type": "code",
        "colab": {}
      },
      "source": [
        "from pyspark.ml.feature import StringIndexer, OneHotEncoder, VectorAssembler, Normalizer\n",
        "from pyspark.ml.linalg import Vectors\n",
        "from pyspark.ml import Pipeline\n",
        "\n",
        "from pyspark.ml.classification import LinearSVC"
      ],
      "execution_count": 0,
      "outputs": []
    },
    {
      "cell_type": "code",
      "metadata": {
        "id": "W6ZT5N5yqdyT",
        "colab_type": "code",
        "colab": {}
      },
      "source": [
        "indexer= StringIndexer(inputCol= 'class', outputCol= 'label')\n",
        "vectorizer= VectorAssembler(inputCols= ['x', 'y', 'z'], outputCol= 'feat')\n",
        "normalizer= Normalizer(inputCol= 'feat', outputCol= 'features', p=1.0) \n",
        "\n",
        "\n",
        "svmc= LinearSVC(maxIter=100, regParam= 0.1)\n",
        "pipe= Pipeline(stages= [indexer, vectorizer, normalizer, svmc])#, svmc])\n",
        "model= pipe.fit(train_df)\n",
        "predx= model.transform(train_df)"
      ],
      "execution_count": 0,
      "outputs": []
    },
    {
      "cell_type": "code",
      "metadata": {
        "id": "V82-iQcuyYSf",
        "colab_type": "code",
        "outputId": "79c9dc51-82bd-42ff-f4dd-fb26b620b58c",
        "colab": {
          "base_uri": "https://localhost:8080/",
          "height": 34
        }
      },
      "source": [
        "from pyspark.ml.evaluation import BinaryClassificationEvaluator\n",
        "evaluator= BinaryClassificationEvaluator(rawPredictionCol= 'rawPrediction')\n",
        "evaluator.evaluate(predx)"
      ],
      "execution_count": 15,
      "outputs": [
        {
          "output_type": "execute_result",
          "data": {
            "text/plain": [
              "0.9437265327007998"
            ]
          },
          "metadata": {
            "tags": []
          },
          "execution_count": 15
        }
      ]
    },
    {
      "cell_type": "code",
      "metadata": {
        "id": "rb1aftdd__C8",
        "colab_type": "code",
        "outputId": "0484cda5-77f5-4295-97bd-7d8cd84f1dad",
        "colab": {
          "base_uri": "https://localhost:8080/",
          "height": 34
        }
      },
      "source": [
        "predy= model.transform(test_df)\n",
        "evaluator.evaluate(predy)"
      ],
      "execution_count": 16,
      "outputs": [
        {
          "output_type": "execute_result",
          "data": {
            "text/plain": [
              "0.9441254175358915"
            ]
          },
          "metadata": {
            "tags": []
          },
          "execution_count": 16
        }
      ]
    },
    {
      "cell_type": "code",
      "metadata": {
        "id": "601JbvWoGsXs",
        "colab_type": "code",
        "colab": {}
      },
      "source": [
        "from pyspark.ml.tuning import CrossValidator, ParamGridBuilder\n",
        "params= ParamGridBuilder().addGrid(svmc.regParam, [0.1, 0.01, 1]).build()\n",
        "crossval= CrossValidator(estimator= pipe,\n",
        "                        estimatorParamMaps= params,\n",
        "                        evaluator= BinaryClassificationEvaluator(),\n",
        "                        numFolds= 4,\n",
        "                        )"
      ],
      "execution_count": 0,
      "outputs": []
    },
    {
      "cell_type": "code",
      "metadata": {
        "id": "80R6POH9eDq1",
        "colab_type": "code",
        "colab": {}
      },
      "source": [
        "cvModel= crossval.fit(train_df)"
      ],
      "execution_count": 0,
      "outputs": []
    },
    {
      "cell_type": "code",
      "metadata": {
        "id": "nrjEs1pygm7H",
        "colab_type": "code",
        "colab": {
          "base_uri": "https://localhost:8080/",
          "height": 34
        },
        "outputId": "63173cf0-feee-439b-bd55-eaa75000a606"
      },
      "source": [
        "predx= cvModel.transform(train_df)\n",
        "evaluator.evaluate(predx)"
      ],
      "execution_count": 23,
      "outputs": [
        {
          "output_type": "execute_result",
          "data": {
            "text/plain": [
              "0.9441569432465926"
            ]
          },
          "metadata": {
            "tags": []
          },
          "execution_count": 23
        }
      ]
    },
    {
      "cell_type": "code",
      "metadata": {
        "id": "ayuz8njLhMzV",
        "colab_type": "code",
        "colab": {
          "base_uri": "https://localhost:8080/",
          "height": 34
        },
        "outputId": "84a10927-90b5-43c3-8022-c4cef78ba338"
      },
      "source": [
        "predy= cvModel.transform(test_df)\n",
        "evaluator.evaluate(predy)"
      ],
      "execution_count": 24,
      "outputs": [
        {
          "output_type": "execute_result",
          "data": {
            "text/plain": [
              "0.944655982767246"
            ]
          },
          "metadata": {
            "tags": []
          },
          "execution_count": 24
        }
      ]
    },
    {
      "cell_type": "code",
      "metadata": {
        "id": "tfZ-SDpNkDQo",
        "colab_type": "code",
        "colab": {
          "base_uri": "https://localhost:8080/",
          "height": 34
        },
        "outputId": "5203a76e-295b-46fb-ba1f-e30476a627e4"
      },
      "source": [
        "import numpy as np\n",
        "cvModel.getEstimatorParamMaps()[ np.argmax(cvModel.avgMetrics) ]\n"
      ],
      "execution_count": 50,
      "outputs": [
        {
          "output_type": "execute_result",
          "data": {
            "text/plain": [
              "{Param(parent='LinearSVC_96bf344fc84d', name='regParam', doc='regularization parameter (>= 0).'): 0.01}"
            ]
          },
          "metadata": {
            "tags": []
          },
          "execution_count": 50
        }
      ]
    },
    {
      "cell_type": "code",
      "metadata": {
        "id": "LQOffq51kxyi",
        "colab_type": "code",
        "colab": {}
      },
      "source": [
        ""
      ],
      "execution_count": 0,
      "outputs": []
    }
  ]
}