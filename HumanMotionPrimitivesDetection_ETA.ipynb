{
  "nbformat": 4,
  "nbformat_minor": 0,
  "metadata": {
    "colab": {
      "name": "HumanMotionPrimitivesDetection_ETA.ipynb",
      "provenance": [],
      "collapsed_sections": [],
      "authorship_tag": "ABX9TyMCC4KupgpxyXJQz2BnuXaN",
      "include_colab_link": true
    },
    "kernelspec": {
      "name": "python3",
      "display_name": "Python 3"
    },
    "widgets": {
      "application/vnd.jupyter.widget-state+json": {
        "8e024f3f6fe14662bd566672c3ecfc0d": {
          "model_module": "@jupyter-widgets/controls",
          "model_name": "HBoxModel",
          "state": {
            "_view_name": "HBoxView",
            "_dom_classes": [],
            "_model_name": "HBoxModel",
            "_view_module": "@jupyter-widgets/controls",
            "_model_module_version": "1.5.0",
            "_view_count": null,
            "_view_module_version": "1.5.0",
            "box_style": "",
            "layout": "IPY_MODEL_5fabfdc175f843fead08366e38128716",
            "_model_module": "@jupyter-widgets/controls",
            "children": [
              "IPY_MODEL_1b45877b492b4e74a0517cf8fa5f7dc5",
              "IPY_MODEL_b086768b58494f0c89197ba6b8f9e962"
            ]
          }
        },
        "5fabfdc175f843fead08366e38128716": {
          "model_module": "@jupyter-widgets/base",
          "model_name": "LayoutModel",
          "state": {
            "_view_name": "LayoutView",
            "grid_template_rows": null,
            "right": null,
            "justify_content": null,
            "_view_module": "@jupyter-widgets/base",
            "overflow": null,
            "_model_module_version": "1.2.0",
            "_view_count": null,
            "flex_flow": null,
            "width": null,
            "min_width": null,
            "border": null,
            "align_items": null,
            "bottom": null,
            "_model_module": "@jupyter-widgets/base",
            "top": null,
            "grid_column": null,
            "overflow_y": null,
            "overflow_x": null,
            "grid_auto_flow": null,
            "grid_area": null,
            "grid_template_columns": null,
            "flex": null,
            "_model_name": "LayoutModel",
            "justify_items": null,
            "grid_row": null,
            "max_height": null,
            "align_content": null,
            "visibility": null,
            "align_self": null,
            "height": null,
            "min_height": null,
            "padding": null,
            "grid_auto_rows": null,
            "grid_gap": null,
            "max_width": null,
            "order": null,
            "_view_module_version": "1.2.0",
            "grid_template_areas": null,
            "object_position": null,
            "object_fit": null,
            "grid_auto_columns": null,
            "margin": null,
            "display": null,
            "left": null
          }
        },
        "1b45877b492b4e74a0517cf8fa5f7dc5": {
          "model_module": "@jupyter-widgets/controls",
          "model_name": "IntProgressModel",
          "state": {
            "_view_name": "ProgressView",
            "style": "IPY_MODEL_a952288db2a846ce8771c824081b39a2",
            "_dom_classes": [],
            "description": "",
            "_model_name": "IntProgressModel",
            "bar_style": "success",
            "max": 42,
            "_view_module": "@jupyter-widgets/controls",
            "_model_module_version": "1.5.0",
            "value": 42,
            "_view_count": null,
            "_view_module_version": "1.5.0",
            "orientation": "horizontal",
            "min": 0,
            "description_tooltip": null,
            "_model_module": "@jupyter-widgets/controls",
            "layout": "IPY_MODEL_9ea31288cbcb4e279674a8655115b5a3"
          }
        },
        "b086768b58494f0c89197ba6b8f9e962": {
          "model_module": "@jupyter-widgets/controls",
          "model_name": "HTMLModel",
          "state": {
            "_view_name": "HTMLView",
            "style": "IPY_MODEL_ad8ee0246fcc4e2889b255a57af54c61",
            "_dom_classes": [],
            "description": "",
            "_model_name": "HTMLModel",
            "placeholder": "​",
            "_view_module": "@jupyter-widgets/controls",
            "_model_module_version": "1.5.0",
            "value": "100% 42/42 [00:04&lt;00:00, 11.43it/s]",
            "_view_count": null,
            "_view_module_version": "1.5.0",
            "description_tooltip": null,
            "_model_module": "@jupyter-widgets/controls",
            "layout": "IPY_MODEL_efb27969ed46451581ebc14fe3f01cf6"
          }
        },
        "a952288db2a846ce8771c824081b39a2": {
          "model_module": "@jupyter-widgets/controls",
          "model_name": "ProgressStyleModel",
          "state": {
            "_view_name": "StyleView",
            "_model_name": "ProgressStyleModel",
            "description_width": "",
            "_view_module": "@jupyter-widgets/base",
            "_model_module_version": "1.5.0",
            "_view_count": null,
            "_view_module_version": "1.2.0",
            "bar_color": null,
            "_model_module": "@jupyter-widgets/controls"
          }
        },
        "9ea31288cbcb4e279674a8655115b5a3": {
          "model_module": "@jupyter-widgets/base",
          "model_name": "LayoutModel",
          "state": {
            "_view_name": "LayoutView",
            "grid_template_rows": null,
            "right": null,
            "justify_content": null,
            "_view_module": "@jupyter-widgets/base",
            "overflow": null,
            "_model_module_version": "1.2.0",
            "_view_count": null,
            "flex_flow": null,
            "width": null,
            "min_width": null,
            "border": null,
            "align_items": null,
            "bottom": null,
            "_model_module": "@jupyter-widgets/base",
            "top": null,
            "grid_column": null,
            "overflow_y": null,
            "overflow_x": null,
            "grid_auto_flow": null,
            "grid_area": null,
            "grid_template_columns": null,
            "flex": null,
            "_model_name": "LayoutModel",
            "justify_items": null,
            "grid_row": null,
            "max_height": null,
            "align_content": null,
            "visibility": null,
            "align_self": null,
            "height": null,
            "min_height": null,
            "padding": null,
            "grid_auto_rows": null,
            "grid_gap": null,
            "max_width": null,
            "order": null,
            "_view_module_version": "1.2.0",
            "grid_template_areas": null,
            "object_position": null,
            "object_fit": null,
            "grid_auto_columns": null,
            "margin": null,
            "display": null,
            "left": null
          }
        },
        "ad8ee0246fcc4e2889b255a57af54c61": {
          "model_module": "@jupyter-widgets/controls",
          "model_name": "DescriptionStyleModel",
          "state": {
            "_view_name": "StyleView",
            "_model_name": "DescriptionStyleModel",
            "description_width": "",
            "_view_module": "@jupyter-widgets/base",
            "_model_module_version": "1.5.0",
            "_view_count": null,
            "_view_module_version": "1.2.0",
            "_model_module": "@jupyter-widgets/controls"
          }
        },
        "efb27969ed46451581ebc14fe3f01cf6": {
          "model_module": "@jupyter-widgets/base",
          "model_name": "LayoutModel",
          "state": {
            "_view_name": "LayoutView",
            "grid_template_rows": null,
            "right": null,
            "justify_content": null,
            "_view_module": "@jupyter-widgets/base",
            "overflow": null,
            "_model_module_version": "1.2.0",
            "_view_count": null,
            "flex_flow": null,
            "width": null,
            "min_width": null,
            "border": null,
            "align_items": null,
            "bottom": null,
            "_model_module": "@jupyter-widgets/base",
            "top": null,
            "grid_column": null,
            "overflow_y": null,
            "overflow_x": null,
            "grid_auto_flow": null,
            "grid_area": null,
            "grid_template_columns": null,
            "flex": null,
            "_model_name": "LayoutModel",
            "justify_items": null,
            "grid_row": null,
            "max_height": null,
            "align_content": null,
            "visibility": null,
            "align_self": null,
            "height": null,
            "min_height": null,
            "padding": null,
            "grid_auto_rows": null,
            "grid_gap": null,
            "max_width": null,
            "order": null,
            "_view_module_version": "1.2.0",
            "grid_template_areas": null,
            "object_position": null,
            "object_fit": null,
            "grid_auto_columns": null,
            "margin": null,
            "display": null,
            "left": null
          }
        },
        "adbefb32d2e0450a811637f99489a651": {
          "model_module": "@jupyter-widgets/controls",
          "model_name": "HBoxModel",
          "state": {
            "_view_name": "HBoxView",
            "_dom_classes": [],
            "_model_name": "HBoxModel",
            "_view_module": "@jupyter-widgets/controls",
            "_model_module_version": "1.5.0",
            "_view_count": null,
            "_view_module_version": "1.5.0",
            "box_style": "",
            "layout": "IPY_MODEL_b36c3090efa44162b4c05fe6d13a263a",
            "_model_module": "@jupyter-widgets/controls",
            "children": [
              "IPY_MODEL_7212a24db85a4f54b4456eb629550ab2",
              "IPY_MODEL_b6b36d1d796249819f024ec00cb80de0"
            ]
          }
        },
        "b36c3090efa44162b4c05fe6d13a263a": {
          "model_module": "@jupyter-widgets/base",
          "model_name": "LayoutModel",
          "state": {
            "_view_name": "LayoutView",
            "grid_template_rows": null,
            "right": null,
            "justify_content": null,
            "_view_module": "@jupyter-widgets/base",
            "overflow": null,
            "_model_module_version": "1.2.0",
            "_view_count": null,
            "flex_flow": null,
            "width": null,
            "min_width": null,
            "border": null,
            "align_items": null,
            "bottom": null,
            "_model_module": "@jupyter-widgets/base",
            "top": null,
            "grid_column": null,
            "overflow_y": null,
            "overflow_x": null,
            "grid_auto_flow": null,
            "grid_area": null,
            "grid_template_columns": null,
            "flex": null,
            "_model_name": "LayoutModel",
            "justify_items": null,
            "grid_row": null,
            "max_height": null,
            "align_content": null,
            "visibility": null,
            "align_self": null,
            "height": null,
            "min_height": null,
            "padding": null,
            "grid_auto_rows": null,
            "grid_gap": null,
            "max_width": null,
            "order": null,
            "_view_module_version": "1.2.0",
            "grid_template_areas": null,
            "object_position": null,
            "object_fit": null,
            "grid_auto_columns": null,
            "margin": null,
            "display": null,
            "left": null
          }
        },
        "7212a24db85a4f54b4456eb629550ab2": {
          "model_module": "@jupyter-widgets/controls",
          "model_name": "IntProgressModel",
          "state": {
            "_view_name": "ProgressView",
            "style": "IPY_MODEL_3e1f7c313d3b4f57931bfbe8dd3a8f8e",
            "_dom_classes": [],
            "description": "",
            "_model_name": "IntProgressModel",
            "bar_style": "success",
            "max": 31,
            "_view_module": "@jupyter-widgets/controls",
            "_model_module_version": "1.5.0",
            "value": 31,
            "_view_count": null,
            "_view_module_version": "1.5.0",
            "orientation": "horizontal",
            "min": 0,
            "description_tooltip": null,
            "_model_module": "@jupyter-widgets/controls",
            "layout": "IPY_MODEL_b48f6ff59f094b6bb08b85d943510e16"
          }
        },
        "b6b36d1d796249819f024ec00cb80de0": {
          "model_module": "@jupyter-widgets/controls",
          "model_name": "HTMLModel",
          "state": {
            "_view_name": "HTMLView",
            "style": "IPY_MODEL_797dc14fd61845cea1d830fe0b114152",
            "_dom_classes": [],
            "description": "",
            "_model_name": "HTMLModel",
            "placeholder": "​",
            "_view_module": "@jupyter-widgets/controls",
            "_model_module_version": "1.5.0",
            "value": "100% 31/31 [00:02&lt;00:00, 12.64it/s]",
            "_view_count": null,
            "_view_module_version": "1.5.0",
            "description_tooltip": null,
            "_model_module": "@jupyter-widgets/controls",
            "layout": "IPY_MODEL_3d4dbb21c3784ae49df3621267f02f0e"
          }
        },
        "3e1f7c313d3b4f57931bfbe8dd3a8f8e": {
          "model_module": "@jupyter-widgets/controls",
          "model_name": "ProgressStyleModel",
          "state": {
            "_view_name": "StyleView",
            "_model_name": "ProgressStyleModel",
            "description_width": "",
            "_view_module": "@jupyter-widgets/base",
            "_model_module_version": "1.5.0",
            "_view_count": null,
            "_view_module_version": "1.2.0",
            "bar_color": null,
            "_model_module": "@jupyter-widgets/controls"
          }
        },
        "b48f6ff59f094b6bb08b85d943510e16": {
          "model_module": "@jupyter-widgets/base",
          "model_name": "LayoutModel",
          "state": {
            "_view_name": "LayoutView",
            "grid_template_rows": null,
            "right": null,
            "justify_content": null,
            "_view_module": "@jupyter-widgets/base",
            "overflow": null,
            "_model_module_version": "1.2.0",
            "_view_count": null,
            "flex_flow": null,
            "width": null,
            "min_width": null,
            "border": null,
            "align_items": null,
            "bottom": null,
            "_model_module": "@jupyter-widgets/base",
            "top": null,
            "grid_column": null,
            "overflow_y": null,
            "overflow_x": null,
            "grid_auto_flow": null,
            "grid_area": null,
            "grid_template_columns": null,
            "flex": null,
            "_model_name": "LayoutModel",
            "justify_items": null,
            "grid_row": null,
            "max_height": null,
            "align_content": null,
            "visibility": null,
            "align_self": null,
            "height": null,
            "min_height": null,
            "padding": null,
            "grid_auto_rows": null,
            "grid_gap": null,
            "max_width": null,
            "order": null,
            "_view_module_version": "1.2.0",
            "grid_template_areas": null,
            "object_position": null,
            "object_fit": null,
            "grid_auto_columns": null,
            "margin": null,
            "display": null,
            "left": null
          }
        },
        "797dc14fd61845cea1d830fe0b114152": {
          "model_module": "@jupyter-widgets/controls",
          "model_name": "DescriptionStyleModel",
          "state": {
            "_view_name": "StyleView",
            "_model_name": "DescriptionStyleModel",
            "description_width": "",
            "_view_module": "@jupyter-widgets/base",
            "_model_module_version": "1.5.0",
            "_view_count": null,
            "_view_module_version": "1.2.0",
            "_model_module": "@jupyter-widgets/controls"
          }
        },
        "3d4dbb21c3784ae49df3621267f02f0e": {
          "model_module": "@jupyter-widgets/base",
          "model_name": "LayoutModel",
          "state": {
            "_view_name": "LayoutView",
            "grid_template_rows": null,
            "right": null,
            "justify_content": null,
            "_view_module": "@jupyter-widgets/base",
            "overflow": null,
            "_model_module_version": "1.2.0",
            "_view_count": null,
            "flex_flow": null,
            "width": null,
            "min_width": null,
            "border": null,
            "align_items": null,
            "bottom": null,
            "_model_module": "@jupyter-widgets/base",
            "top": null,
            "grid_column": null,
            "overflow_y": null,
            "overflow_x": null,
            "grid_auto_flow": null,
            "grid_area": null,
            "grid_template_columns": null,
            "flex": null,
            "_model_name": "LayoutModel",
            "justify_items": null,
            "grid_row": null,
            "max_height": null,
            "align_content": null,
            "visibility": null,
            "align_self": null,
            "height": null,
            "min_height": null,
            "padding": null,
            "grid_auto_rows": null,
            "grid_gap": null,
            "max_width": null,
            "order": null,
            "_view_module_version": "1.2.0",
            "grid_template_areas": null,
            "object_position": null,
            "object_fit": null,
            "grid_auto_columns": null,
            "margin": null,
            "display": null,
            "left": null
          }
        },
        "1d32075a4bef476c8f46f7ed21f9bf4f": {
          "model_module": "@jupyter-widgets/controls",
          "model_name": "HBoxModel",
          "state": {
            "_view_name": "HBoxView",
            "_dom_classes": [],
            "_model_name": "HBoxModel",
            "_view_module": "@jupyter-widgets/controls",
            "_model_module_version": "1.5.0",
            "_view_count": null,
            "_view_module_version": "1.5.0",
            "box_style": "",
            "layout": "IPY_MODEL_3aa7c5057dad4f74ab74abdfc6112d2a",
            "_model_module": "@jupyter-widgets/controls",
            "children": [
              "IPY_MODEL_2a288bfc5dde4d2090655ddea68defd2",
              "IPY_MODEL_5fb56fa93f9d47338cb2ff6f135eb5f2"
            ]
          }
        },
        "3aa7c5057dad4f74ab74abdfc6112d2a": {
          "model_module": "@jupyter-widgets/base",
          "model_name": "LayoutModel",
          "state": {
            "_view_name": "LayoutView",
            "grid_template_rows": null,
            "right": null,
            "justify_content": null,
            "_view_module": "@jupyter-widgets/base",
            "overflow": null,
            "_model_module_version": "1.2.0",
            "_view_count": null,
            "flex_flow": null,
            "width": null,
            "min_width": null,
            "border": null,
            "align_items": null,
            "bottom": null,
            "_model_module": "@jupyter-widgets/base",
            "top": null,
            "grid_column": null,
            "overflow_y": null,
            "overflow_x": null,
            "grid_auto_flow": null,
            "grid_area": null,
            "grid_template_columns": null,
            "flex": null,
            "_model_name": "LayoutModel",
            "justify_items": null,
            "grid_row": null,
            "max_height": null,
            "align_content": null,
            "visibility": null,
            "align_self": null,
            "height": null,
            "min_height": null,
            "padding": null,
            "grid_auto_rows": null,
            "grid_gap": null,
            "max_width": null,
            "order": null,
            "_view_module_version": "1.2.0",
            "grid_template_areas": null,
            "object_position": null,
            "object_fit": null,
            "grid_auto_columns": null,
            "margin": null,
            "display": null,
            "left": null
          }
        },
        "2a288bfc5dde4d2090655ddea68defd2": {
          "model_module": "@jupyter-widgets/controls",
          "model_name": "IntProgressModel",
          "state": {
            "_view_name": "ProgressView",
            "style": "IPY_MODEL_5cf66ee570e14e9caebf1c1cc2c5702b",
            "_dom_classes": [],
            "description": "",
            "_model_name": "IntProgressModel",
            "bar_style": "success",
            "max": 100,
            "_view_module": "@jupyter-widgets/controls",
            "_model_module_version": "1.5.0",
            "value": 100,
            "_view_count": null,
            "_view_module_version": "1.5.0",
            "orientation": "horizontal",
            "min": 0,
            "description_tooltip": null,
            "_model_module": "@jupyter-widgets/controls",
            "layout": "IPY_MODEL_9c00a888844f43f0a52000800aa7d770"
          }
        },
        "5fb56fa93f9d47338cb2ff6f135eb5f2": {
          "model_module": "@jupyter-widgets/controls",
          "model_name": "HTMLModel",
          "state": {
            "_view_name": "HTMLView",
            "style": "IPY_MODEL_e3d6fd271738457caa9171fefaee02ca",
            "_dom_classes": [],
            "description": "",
            "_model_name": "HTMLModel",
            "placeholder": "​",
            "_view_module": "@jupyter-widgets/controls",
            "_model_module_version": "1.5.0",
            "value": "100% 100/100 [00:07&lt;00:00, 13.57it/s]",
            "_view_count": null,
            "_view_module_version": "1.5.0",
            "description_tooltip": null,
            "_model_module": "@jupyter-widgets/controls",
            "layout": "IPY_MODEL_d26e64b7334f445b8f79218139d8527d"
          }
        },
        "5cf66ee570e14e9caebf1c1cc2c5702b": {
          "model_module": "@jupyter-widgets/controls",
          "model_name": "ProgressStyleModel",
          "state": {
            "_view_name": "StyleView",
            "_model_name": "ProgressStyleModel",
            "description_width": "",
            "_view_module": "@jupyter-widgets/base",
            "_model_module_version": "1.5.0",
            "_view_count": null,
            "_view_module_version": "1.2.0",
            "bar_color": null,
            "_model_module": "@jupyter-widgets/controls"
          }
        },
        "9c00a888844f43f0a52000800aa7d770": {
          "model_module": "@jupyter-widgets/base",
          "model_name": "LayoutModel",
          "state": {
            "_view_name": "LayoutView",
            "grid_template_rows": null,
            "right": null,
            "justify_content": null,
            "_view_module": "@jupyter-widgets/base",
            "overflow": null,
            "_model_module_version": "1.2.0",
            "_view_count": null,
            "flex_flow": null,
            "width": null,
            "min_width": null,
            "border": null,
            "align_items": null,
            "bottom": null,
            "_model_module": "@jupyter-widgets/base",
            "top": null,
            "grid_column": null,
            "overflow_y": null,
            "overflow_x": null,
            "grid_auto_flow": null,
            "grid_area": null,
            "grid_template_columns": null,
            "flex": null,
            "_model_name": "LayoutModel",
            "justify_items": null,
            "grid_row": null,
            "max_height": null,
            "align_content": null,
            "visibility": null,
            "align_self": null,
            "height": null,
            "min_height": null,
            "padding": null,
            "grid_auto_rows": null,
            "grid_gap": null,
            "max_width": null,
            "order": null,
            "_view_module_version": "1.2.0",
            "grid_template_areas": null,
            "object_position": null,
            "object_fit": null,
            "grid_auto_columns": null,
            "margin": null,
            "display": null,
            "left": null
          }
        },
        "e3d6fd271738457caa9171fefaee02ca": {
          "model_module": "@jupyter-widgets/controls",
          "model_name": "DescriptionStyleModel",
          "state": {
            "_view_name": "StyleView",
            "_model_name": "DescriptionStyleModel",
            "description_width": "",
            "_view_module": "@jupyter-widgets/base",
            "_model_module_version": "1.5.0",
            "_view_count": null,
            "_view_module_version": "1.2.0",
            "_model_module": "@jupyter-widgets/controls"
          }
        },
        "d26e64b7334f445b8f79218139d8527d": {
          "model_module": "@jupyter-widgets/base",
          "model_name": "LayoutModel",
          "state": {
            "_view_name": "LayoutView",
            "grid_template_rows": null,
            "right": null,
            "justify_content": null,
            "_view_module": "@jupyter-widgets/base",
            "overflow": null,
            "_model_module_version": "1.2.0",
            "_view_count": null,
            "flex_flow": null,
            "width": null,
            "min_width": null,
            "border": null,
            "align_items": null,
            "bottom": null,
            "_model_module": "@jupyter-widgets/base",
            "top": null,
            "grid_column": null,
            "overflow_y": null,
            "overflow_x": null,
            "grid_auto_flow": null,
            "grid_area": null,
            "grid_template_columns": null,
            "flex": null,
            "_model_name": "LayoutModel",
            "justify_items": null,
            "grid_row": null,
            "max_height": null,
            "align_content": null,
            "visibility": null,
            "align_self": null,
            "height": null,
            "min_height": null,
            "padding": null,
            "grid_auto_rows": null,
            "grid_gap": null,
            "max_width": null,
            "order": null,
            "_view_module_version": "1.2.0",
            "grid_template_areas": null,
            "object_position": null,
            "object_fit": null,
            "grid_auto_columns": null,
            "margin": null,
            "display": null,
            "left": null
          }
        },
        "49dffe1564fc4dd690b2d21803e5157a": {
          "model_module": "@jupyter-widgets/controls",
          "model_name": "HBoxModel",
          "state": {
            "_view_name": "HBoxView",
            "_dom_classes": [],
            "_model_name": "HBoxModel",
            "_view_module": "@jupyter-widgets/controls",
            "_model_module_version": "1.5.0",
            "_view_count": null,
            "_view_module_version": "1.5.0",
            "box_style": "",
            "layout": "IPY_MODEL_a579709ef2a742bdbe011fc22c6ca102",
            "_model_module": "@jupyter-widgets/controls",
            "children": [
              "IPY_MODEL_955ca740f1a640409b84730f39fcfacf",
              "IPY_MODEL_b7bdb0776c594ca38a82de8e6e9e600d"
            ]
          }
        },
        "a579709ef2a742bdbe011fc22c6ca102": {
          "model_module": "@jupyter-widgets/base",
          "model_name": "LayoutModel",
          "state": {
            "_view_name": "LayoutView",
            "grid_template_rows": null,
            "right": null,
            "justify_content": null,
            "_view_module": "@jupyter-widgets/base",
            "overflow": null,
            "_model_module_version": "1.2.0",
            "_view_count": null,
            "flex_flow": null,
            "width": null,
            "min_width": null,
            "border": null,
            "align_items": null,
            "bottom": null,
            "_model_module": "@jupyter-widgets/base",
            "top": null,
            "grid_column": null,
            "overflow_y": null,
            "overflow_x": null,
            "grid_auto_flow": null,
            "grid_area": null,
            "grid_template_columns": null,
            "flex": null,
            "_model_name": "LayoutModel",
            "justify_items": null,
            "grid_row": null,
            "max_height": null,
            "align_content": null,
            "visibility": null,
            "align_self": null,
            "height": null,
            "min_height": null,
            "padding": null,
            "grid_auto_rows": null,
            "grid_gap": null,
            "max_width": null,
            "order": null,
            "_view_module_version": "1.2.0",
            "grid_template_areas": null,
            "object_position": null,
            "object_fit": null,
            "grid_auto_columns": null,
            "margin": null,
            "display": null,
            "left": null
          }
        },
        "955ca740f1a640409b84730f39fcfacf": {
          "model_module": "@jupyter-widgets/controls",
          "model_name": "IntProgressModel",
          "state": {
            "_view_name": "ProgressView",
            "style": "IPY_MODEL_f0f9565a54494806996b0db758c995a2",
            "_dom_classes": [],
            "description": "",
            "_model_name": "IntProgressModel",
            "bar_style": "success",
            "max": 3,
            "_view_module": "@jupyter-widgets/controls",
            "_model_module_version": "1.5.0",
            "value": 3,
            "_view_count": null,
            "_view_module_version": "1.5.0",
            "orientation": "horizontal",
            "min": 0,
            "description_tooltip": null,
            "_model_module": "@jupyter-widgets/controls",
            "layout": "IPY_MODEL_8670f47a830d47debadb0f5c4eea8cb4"
          }
        },
        "b7bdb0776c594ca38a82de8e6e9e600d": {
          "model_module": "@jupyter-widgets/controls",
          "model_name": "HTMLModel",
          "state": {
            "_view_name": "HTMLView",
            "style": "IPY_MODEL_1c29e92395a44502a430e870b69f025f",
            "_dom_classes": [],
            "description": "",
            "_model_name": "HTMLModel",
            "placeholder": "​",
            "_view_module": "@jupyter-widgets/controls",
            "_model_module_version": "1.5.0",
            "value": "100% 3/3 [00:00&lt;00:00,  9.24it/s]",
            "_view_count": null,
            "_view_module_version": "1.5.0",
            "description_tooltip": null,
            "_model_module": "@jupyter-widgets/controls",
            "layout": "IPY_MODEL_27b9e29bd259486882036426dd30057d"
          }
        },
        "f0f9565a54494806996b0db758c995a2": {
          "model_module": "@jupyter-widgets/controls",
          "model_name": "ProgressStyleModel",
          "state": {
            "_view_name": "StyleView",
            "_model_name": "ProgressStyleModel",
            "description_width": "",
            "_view_module": "@jupyter-widgets/base",
            "_model_module_version": "1.5.0",
            "_view_count": null,
            "_view_module_version": "1.2.0",
            "bar_color": null,
            "_model_module": "@jupyter-widgets/controls"
          }
        },
        "8670f47a830d47debadb0f5c4eea8cb4": {
          "model_module": "@jupyter-widgets/base",
          "model_name": "LayoutModel",
          "state": {
            "_view_name": "LayoutView",
            "grid_template_rows": null,
            "right": null,
            "justify_content": null,
            "_view_module": "@jupyter-widgets/base",
            "overflow": null,
            "_model_module_version": "1.2.0",
            "_view_count": null,
            "flex_flow": null,
            "width": null,
            "min_width": null,
            "border": null,
            "align_items": null,
            "bottom": null,
            "_model_module": "@jupyter-widgets/base",
            "top": null,
            "grid_column": null,
            "overflow_y": null,
            "overflow_x": null,
            "grid_auto_flow": null,
            "grid_area": null,
            "grid_template_columns": null,
            "flex": null,
            "_model_name": "LayoutModel",
            "justify_items": null,
            "grid_row": null,
            "max_height": null,
            "align_content": null,
            "visibility": null,
            "align_self": null,
            "height": null,
            "min_height": null,
            "padding": null,
            "grid_auto_rows": null,
            "grid_gap": null,
            "max_width": null,
            "order": null,
            "_view_module_version": "1.2.0",
            "grid_template_areas": null,
            "object_position": null,
            "object_fit": null,
            "grid_auto_columns": null,
            "margin": null,
            "display": null,
            "left": null
          }
        },
        "1c29e92395a44502a430e870b69f025f": {
          "model_module": "@jupyter-widgets/controls",
          "model_name": "DescriptionStyleModel",
          "state": {
            "_view_name": "StyleView",
            "_model_name": "DescriptionStyleModel",
            "description_width": "",
            "_view_module": "@jupyter-widgets/base",
            "_model_module_version": "1.5.0",
            "_view_count": null,
            "_view_module_version": "1.2.0",
            "_model_module": "@jupyter-widgets/controls"
          }
        },
        "27b9e29bd259486882036426dd30057d": {
          "model_module": "@jupyter-widgets/base",
          "model_name": "LayoutModel",
          "state": {
            "_view_name": "LayoutView",
            "grid_template_rows": null,
            "right": null,
            "justify_content": null,
            "_view_module": "@jupyter-widgets/base",
            "overflow": null,
            "_model_module_version": "1.2.0",
            "_view_count": null,
            "flex_flow": null,
            "width": null,
            "min_width": null,
            "border": null,
            "align_items": null,
            "bottom": null,
            "_model_module": "@jupyter-widgets/base",
            "top": null,
            "grid_column": null,
            "overflow_y": null,
            "overflow_x": null,
            "grid_auto_flow": null,
            "grid_area": null,
            "grid_template_columns": null,
            "flex": null,
            "_model_name": "LayoutModel",
            "justify_items": null,
            "grid_row": null,
            "max_height": null,
            "align_content": null,
            "visibility": null,
            "align_self": null,
            "height": null,
            "min_height": null,
            "padding": null,
            "grid_auto_rows": null,
            "grid_gap": null,
            "max_width": null,
            "order": null,
            "_view_module_version": "1.2.0",
            "grid_template_areas": null,
            "object_position": null,
            "object_fit": null,
            "grid_auto_columns": null,
            "margin": null,
            "display": null,
            "left": null
          }
        },
        "906c92c8f6804efa8ae38c82cc20e7a6": {
          "model_module": "@jupyter-widgets/controls",
          "model_name": "HBoxModel",
          "state": {
            "_view_name": "HBoxView",
            "_dom_classes": [],
            "_model_name": "HBoxModel",
            "_view_module": "@jupyter-widgets/controls",
            "_model_module_version": "1.5.0",
            "_view_count": null,
            "_view_module_version": "1.5.0",
            "box_style": "",
            "layout": "IPY_MODEL_b02196b28a7e42aa9aafcc1415b1059a",
            "_model_module": "@jupyter-widgets/controls",
            "children": [
              "IPY_MODEL_ff67bffa1e4148cabee1631185150453",
              "IPY_MODEL_e6d34c3527c648278733e51a288f4465"
            ]
          }
        },
        "b02196b28a7e42aa9aafcc1415b1059a": {
          "model_module": "@jupyter-widgets/base",
          "model_name": "LayoutModel",
          "state": {
            "_view_name": "LayoutView",
            "grid_template_rows": null,
            "right": null,
            "justify_content": null,
            "_view_module": "@jupyter-widgets/base",
            "overflow": null,
            "_model_module_version": "1.2.0",
            "_view_count": null,
            "flex_flow": null,
            "width": null,
            "min_width": null,
            "border": null,
            "align_items": null,
            "bottom": null,
            "_model_module": "@jupyter-widgets/base",
            "top": null,
            "grid_column": null,
            "overflow_y": null,
            "overflow_x": null,
            "grid_auto_flow": null,
            "grid_area": null,
            "grid_template_columns": null,
            "flex": null,
            "_model_name": "LayoutModel",
            "justify_items": null,
            "grid_row": null,
            "max_height": null,
            "align_content": null,
            "visibility": null,
            "align_self": null,
            "height": null,
            "min_height": null,
            "padding": null,
            "grid_auto_rows": null,
            "grid_gap": null,
            "max_width": null,
            "order": null,
            "_view_module_version": "1.2.0",
            "grid_template_areas": null,
            "object_position": null,
            "object_fit": null,
            "grid_auto_columns": null,
            "margin": null,
            "display": null,
            "left": null
          }
        },
        "ff67bffa1e4148cabee1631185150453": {
          "model_module": "@jupyter-widgets/controls",
          "model_name": "IntProgressModel",
          "state": {
            "_view_name": "ProgressView",
            "style": "IPY_MODEL_10d8cd0482564d5386e50a4009cdd01c",
            "_dom_classes": [],
            "description": "",
            "_model_name": "IntProgressModel",
            "bar_style": "success",
            "max": 100,
            "_view_module": "@jupyter-widgets/controls",
            "_model_module_version": "1.5.0",
            "value": 100,
            "_view_count": null,
            "_view_module_version": "1.5.0",
            "orientation": "horizontal",
            "min": 0,
            "description_tooltip": null,
            "_model_module": "@jupyter-widgets/controls",
            "layout": "IPY_MODEL_86d0a572896c4acc9641c82b139c10d1"
          }
        },
        "e6d34c3527c648278733e51a288f4465": {
          "model_module": "@jupyter-widgets/controls",
          "model_name": "HTMLModel",
          "state": {
            "_view_name": "HTMLView",
            "style": "IPY_MODEL_4235e3c5417d406ba385c978a4f9a4d2",
            "_dom_classes": [],
            "description": "",
            "_model_name": "HTMLModel",
            "placeholder": "​",
            "_view_module": "@jupyter-widgets/controls",
            "_model_module_version": "1.5.0",
            "value": "100% 100/100 [00:07&lt;00:00, 12.94it/s]",
            "_view_count": null,
            "_view_module_version": "1.5.0",
            "description_tooltip": null,
            "_model_module": "@jupyter-widgets/controls",
            "layout": "IPY_MODEL_b97c05031bf84667bb699dc5d2093b63"
          }
        },
        "10d8cd0482564d5386e50a4009cdd01c": {
          "model_module": "@jupyter-widgets/controls",
          "model_name": "ProgressStyleModel",
          "state": {
            "_view_name": "StyleView",
            "_model_name": "ProgressStyleModel",
            "description_width": "",
            "_view_module": "@jupyter-widgets/base",
            "_model_module_version": "1.5.0",
            "_view_count": null,
            "_view_module_version": "1.2.0",
            "bar_color": null,
            "_model_module": "@jupyter-widgets/controls"
          }
        },
        "86d0a572896c4acc9641c82b139c10d1": {
          "model_module": "@jupyter-widgets/base",
          "model_name": "LayoutModel",
          "state": {
            "_view_name": "LayoutView",
            "grid_template_rows": null,
            "right": null,
            "justify_content": null,
            "_view_module": "@jupyter-widgets/base",
            "overflow": null,
            "_model_module_version": "1.2.0",
            "_view_count": null,
            "flex_flow": null,
            "width": null,
            "min_width": null,
            "border": null,
            "align_items": null,
            "bottom": null,
            "_model_module": "@jupyter-widgets/base",
            "top": null,
            "grid_column": null,
            "overflow_y": null,
            "overflow_x": null,
            "grid_auto_flow": null,
            "grid_area": null,
            "grid_template_columns": null,
            "flex": null,
            "_model_name": "LayoutModel",
            "justify_items": null,
            "grid_row": null,
            "max_height": null,
            "align_content": null,
            "visibility": null,
            "align_self": null,
            "height": null,
            "min_height": null,
            "padding": null,
            "grid_auto_rows": null,
            "grid_gap": null,
            "max_width": null,
            "order": null,
            "_view_module_version": "1.2.0",
            "grid_template_areas": null,
            "object_position": null,
            "object_fit": null,
            "grid_auto_columns": null,
            "margin": null,
            "display": null,
            "left": null
          }
        },
        "4235e3c5417d406ba385c978a4f9a4d2": {
          "model_module": "@jupyter-widgets/controls",
          "model_name": "DescriptionStyleModel",
          "state": {
            "_view_name": "StyleView",
            "_model_name": "DescriptionStyleModel",
            "description_width": "",
            "_view_module": "@jupyter-widgets/base",
            "_model_module_version": "1.5.0",
            "_view_count": null,
            "_view_module_version": "1.2.0",
            "_model_module": "@jupyter-widgets/controls"
          }
        },
        "b97c05031bf84667bb699dc5d2093b63": {
          "model_module": "@jupyter-widgets/base",
          "model_name": "LayoutModel",
          "state": {
            "_view_name": "LayoutView",
            "grid_template_rows": null,
            "right": null,
            "justify_content": null,
            "_view_module": "@jupyter-widgets/base",
            "overflow": null,
            "_model_module_version": "1.2.0",
            "_view_count": null,
            "flex_flow": null,
            "width": null,
            "min_width": null,
            "border": null,
            "align_items": null,
            "bottom": null,
            "_model_module": "@jupyter-widgets/base",
            "top": null,
            "grid_column": null,
            "overflow_y": null,
            "overflow_x": null,
            "grid_auto_flow": null,
            "grid_area": null,
            "grid_template_columns": null,
            "flex": null,
            "_model_name": "LayoutModel",
            "justify_items": null,
            "grid_row": null,
            "max_height": null,
            "align_content": null,
            "visibility": null,
            "align_self": null,
            "height": null,
            "min_height": null,
            "padding": null,
            "grid_auto_rows": null,
            "grid_gap": null,
            "max_width": null,
            "order": null,
            "_view_module_version": "1.2.0",
            "grid_template_areas": null,
            "object_position": null,
            "object_fit": null,
            "grid_auto_columns": null,
            "margin": null,
            "display": null,
            "left": null
          }
        },
        "99a1e1d4eaf14540a5d5218f2cdb719d": {
          "model_module": "@jupyter-widgets/controls",
          "model_name": "HBoxModel",
          "state": {
            "_view_name": "HBoxView",
            "_dom_classes": [],
            "_model_name": "HBoxModel",
            "_view_module": "@jupyter-widgets/controls",
            "_model_module_version": "1.5.0",
            "_view_count": null,
            "_view_module_version": "1.5.0",
            "box_style": "",
            "layout": "IPY_MODEL_d91d7cb96a744b66a50e2a37f1008ced",
            "_model_module": "@jupyter-widgets/controls",
            "children": [
              "IPY_MODEL_da555d5713254f9598d4a1c663856e27",
              "IPY_MODEL_004ca1d3a9ca40989d150090f5ce8954"
            ]
          }
        },
        "d91d7cb96a744b66a50e2a37f1008ced": {
          "model_module": "@jupyter-widgets/base",
          "model_name": "LayoutModel",
          "state": {
            "_view_name": "LayoutView",
            "grid_template_rows": null,
            "right": null,
            "justify_content": null,
            "_view_module": "@jupyter-widgets/base",
            "overflow": null,
            "_model_module_version": "1.2.0",
            "_view_count": null,
            "flex_flow": null,
            "width": null,
            "min_width": null,
            "border": null,
            "align_items": null,
            "bottom": null,
            "_model_module": "@jupyter-widgets/base",
            "top": null,
            "grid_column": null,
            "overflow_y": null,
            "overflow_x": null,
            "grid_auto_flow": null,
            "grid_area": null,
            "grid_template_columns": null,
            "flex": null,
            "_model_name": "LayoutModel",
            "justify_items": null,
            "grid_row": null,
            "max_height": null,
            "align_content": null,
            "visibility": null,
            "align_self": null,
            "height": null,
            "min_height": null,
            "padding": null,
            "grid_auto_rows": null,
            "grid_gap": null,
            "max_width": null,
            "order": null,
            "_view_module_version": "1.2.0",
            "grid_template_areas": null,
            "object_position": null,
            "object_fit": null,
            "grid_auto_columns": null,
            "margin": null,
            "display": null,
            "left": null
          }
        },
        "da555d5713254f9598d4a1c663856e27": {
          "model_module": "@jupyter-widgets/controls",
          "model_name": "IntProgressModel",
          "state": {
            "_view_name": "ProgressView",
            "style": "IPY_MODEL_87009e753c8940ed9c108f72fd16c6c1",
            "_dom_classes": [],
            "description": "",
            "_model_name": "IntProgressModel",
            "bar_style": "success",
            "max": 100,
            "_view_module": "@jupyter-widgets/controls",
            "_model_module_version": "1.5.0",
            "value": 100,
            "_view_count": null,
            "_view_module_version": "1.5.0",
            "orientation": "horizontal",
            "min": 0,
            "description_tooltip": null,
            "_model_module": "@jupyter-widgets/controls",
            "layout": "IPY_MODEL_4c8a749ee6b9465fbe31361d7078c990"
          }
        },
        "004ca1d3a9ca40989d150090f5ce8954": {
          "model_module": "@jupyter-widgets/controls",
          "model_name": "HTMLModel",
          "state": {
            "_view_name": "HTMLView",
            "style": "IPY_MODEL_b7cf88d062c041369ae2aaaaea723dfa",
            "_dom_classes": [],
            "description": "",
            "_model_name": "HTMLModel",
            "placeholder": "​",
            "_view_module": "@jupyter-widgets/controls",
            "_model_module_version": "1.5.0",
            "value": "100% 100/100 [00:08&lt;00:00, 12.29it/s]",
            "_view_count": null,
            "_view_module_version": "1.5.0",
            "description_tooltip": null,
            "_model_module": "@jupyter-widgets/controls",
            "layout": "IPY_MODEL_bbd279b4f3994bd191a4581241d07712"
          }
        },
        "87009e753c8940ed9c108f72fd16c6c1": {
          "model_module": "@jupyter-widgets/controls",
          "model_name": "ProgressStyleModel",
          "state": {
            "_view_name": "StyleView",
            "_model_name": "ProgressStyleModel",
            "description_width": "",
            "_view_module": "@jupyter-widgets/base",
            "_model_module_version": "1.5.0",
            "_view_count": null,
            "_view_module_version": "1.2.0",
            "bar_color": null,
            "_model_module": "@jupyter-widgets/controls"
          }
        },
        "4c8a749ee6b9465fbe31361d7078c990": {
          "model_module": "@jupyter-widgets/base",
          "model_name": "LayoutModel",
          "state": {
            "_view_name": "LayoutView",
            "grid_template_rows": null,
            "right": null,
            "justify_content": null,
            "_view_module": "@jupyter-widgets/base",
            "overflow": null,
            "_model_module_version": "1.2.0",
            "_view_count": null,
            "flex_flow": null,
            "width": null,
            "min_width": null,
            "border": null,
            "align_items": null,
            "bottom": null,
            "_model_module": "@jupyter-widgets/base",
            "top": null,
            "grid_column": null,
            "overflow_y": null,
            "overflow_x": null,
            "grid_auto_flow": null,
            "grid_area": null,
            "grid_template_columns": null,
            "flex": null,
            "_model_name": "LayoutModel",
            "justify_items": null,
            "grid_row": null,
            "max_height": null,
            "align_content": null,
            "visibility": null,
            "align_self": null,
            "height": null,
            "min_height": null,
            "padding": null,
            "grid_auto_rows": null,
            "grid_gap": null,
            "max_width": null,
            "order": null,
            "_view_module_version": "1.2.0",
            "grid_template_areas": null,
            "object_position": null,
            "object_fit": null,
            "grid_auto_columns": null,
            "margin": null,
            "display": null,
            "left": null
          }
        },
        "b7cf88d062c041369ae2aaaaea723dfa": {
          "model_module": "@jupyter-widgets/controls",
          "model_name": "DescriptionStyleModel",
          "state": {
            "_view_name": "StyleView",
            "_model_name": "DescriptionStyleModel",
            "description_width": "",
            "_view_module": "@jupyter-widgets/base",
            "_model_module_version": "1.5.0",
            "_view_count": null,
            "_view_module_version": "1.2.0",
            "_model_module": "@jupyter-widgets/controls"
          }
        },
        "bbd279b4f3994bd191a4581241d07712": {
          "model_module": "@jupyter-widgets/base",
          "model_name": "LayoutModel",
          "state": {
            "_view_name": "LayoutView",
            "grid_template_rows": null,
            "right": null,
            "justify_content": null,
            "_view_module": "@jupyter-widgets/base",
            "overflow": null,
            "_model_module_version": "1.2.0",
            "_view_count": null,
            "flex_flow": null,
            "width": null,
            "min_width": null,
            "border": null,
            "align_items": null,
            "bottom": null,
            "_model_module": "@jupyter-widgets/base",
            "top": null,
            "grid_column": null,
            "overflow_y": null,
            "overflow_x": null,
            "grid_auto_flow": null,
            "grid_area": null,
            "grid_template_columns": null,
            "flex": null,
            "_model_name": "LayoutModel",
            "justify_items": null,
            "grid_row": null,
            "max_height": null,
            "align_content": null,
            "visibility": null,
            "align_self": null,
            "height": null,
            "min_height": null,
            "padding": null,
            "grid_auto_rows": null,
            "grid_gap": null,
            "max_width": null,
            "order": null,
            "_view_module_version": "1.2.0",
            "grid_template_areas": null,
            "object_position": null,
            "object_fit": null,
            "grid_auto_columns": null,
            "margin": null,
            "display": null,
            "left": null
          }
        },
        "94eaf71eda0043e28280898b595093d9": {
          "model_module": "@jupyter-widgets/controls",
          "model_name": "HBoxModel",
          "state": {
            "_view_name": "HBoxView",
            "_dom_classes": [],
            "_model_name": "HBoxModel",
            "_view_module": "@jupyter-widgets/controls",
            "_model_module_version": "1.5.0",
            "_view_count": null,
            "_view_module_version": "1.5.0",
            "box_style": "",
            "layout": "IPY_MODEL_7281a52e46734f58b666863ae233abc5",
            "_model_module": "@jupyter-widgets/controls",
            "children": [
              "IPY_MODEL_497bd0434c4d4e138b78acbeab77f9a0",
              "IPY_MODEL_aa1965bfb79548bd8f2d09cde4184598"
            ]
          }
        },
        "7281a52e46734f58b666863ae233abc5": {
          "model_module": "@jupyter-widgets/base",
          "model_name": "LayoutModel",
          "state": {
            "_view_name": "LayoutView",
            "grid_template_rows": null,
            "right": null,
            "justify_content": null,
            "_view_module": "@jupyter-widgets/base",
            "overflow": null,
            "_model_module_version": "1.2.0",
            "_view_count": null,
            "flex_flow": null,
            "width": null,
            "min_width": null,
            "border": null,
            "align_items": null,
            "bottom": null,
            "_model_module": "@jupyter-widgets/base",
            "top": null,
            "grid_column": null,
            "overflow_y": null,
            "overflow_x": null,
            "grid_auto_flow": null,
            "grid_area": null,
            "grid_template_columns": null,
            "flex": null,
            "_model_name": "LayoutModel",
            "justify_items": null,
            "grid_row": null,
            "max_height": null,
            "align_content": null,
            "visibility": null,
            "align_self": null,
            "height": null,
            "min_height": null,
            "padding": null,
            "grid_auto_rows": null,
            "grid_gap": null,
            "max_width": null,
            "order": null,
            "_view_module_version": "1.2.0",
            "grid_template_areas": null,
            "object_position": null,
            "object_fit": null,
            "grid_auto_columns": null,
            "margin": null,
            "display": null,
            "left": null
          }
        },
        "497bd0434c4d4e138b78acbeab77f9a0": {
          "model_module": "@jupyter-widgets/controls",
          "model_name": "IntProgressModel",
          "state": {
            "_view_name": "ProgressView",
            "style": "IPY_MODEL_972dc38c9bf24674963191c05c8f9ea7",
            "_dom_classes": [],
            "description": "",
            "_model_name": "IntProgressModel",
            "bar_style": "success",
            "max": 102,
            "_view_module": "@jupyter-widgets/controls",
            "_model_module_version": "1.5.0",
            "value": 102,
            "_view_count": null,
            "_view_module_version": "1.5.0",
            "orientation": "horizontal",
            "min": 0,
            "description_tooltip": null,
            "_model_module": "@jupyter-widgets/controls",
            "layout": "IPY_MODEL_9860290e15b0424bbbfad24263fac7f3"
          }
        },
        "aa1965bfb79548bd8f2d09cde4184598": {
          "model_module": "@jupyter-widgets/controls",
          "model_name": "HTMLModel",
          "state": {
            "_view_name": "HTMLView",
            "style": "IPY_MODEL_89bab8d698824214a0812db213bd78a1",
            "_dom_classes": [],
            "description": "",
            "_model_name": "HTMLModel",
            "placeholder": "​",
            "_view_module": "@jupyter-widgets/controls",
            "_model_module_version": "1.5.0",
            "value": "100% 102/102 [00:09&lt;00:00, 11.56it/s]",
            "_view_count": null,
            "_view_module_version": "1.5.0",
            "description_tooltip": null,
            "_model_module": "@jupyter-widgets/controls",
            "layout": "IPY_MODEL_49dd2c85826c4b1ba9f8b2e838665c14"
          }
        },
        "972dc38c9bf24674963191c05c8f9ea7": {
          "model_module": "@jupyter-widgets/controls",
          "model_name": "ProgressStyleModel",
          "state": {
            "_view_name": "StyleView",
            "_model_name": "ProgressStyleModel",
            "description_width": "",
            "_view_module": "@jupyter-widgets/base",
            "_model_module_version": "1.5.0",
            "_view_count": null,
            "_view_module_version": "1.2.0",
            "bar_color": null,
            "_model_module": "@jupyter-widgets/controls"
          }
        },
        "9860290e15b0424bbbfad24263fac7f3": {
          "model_module": "@jupyter-widgets/base",
          "model_name": "LayoutModel",
          "state": {
            "_view_name": "LayoutView",
            "grid_template_rows": null,
            "right": null,
            "justify_content": null,
            "_view_module": "@jupyter-widgets/base",
            "overflow": null,
            "_model_module_version": "1.2.0",
            "_view_count": null,
            "flex_flow": null,
            "width": null,
            "min_width": null,
            "border": null,
            "align_items": null,
            "bottom": null,
            "_model_module": "@jupyter-widgets/base",
            "top": null,
            "grid_column": null,
            "overflow_y": null,
            "overflow_x": null,
            "grid_auto_flow": null,
            "grid_area": null,
            "grid_template_columns": null,
            "flex": null,
            "_model_name": "LayoutModel",
            "justify_items": null,
            "grid_row": null,
            "max_height": null,
            "align_content": null,
            "visibility": null,
            "align_self": null,
            "height": null,
            "min_height": null,
            "padding": null,
            "grid_auto_rows": null,
            "grid_gap": null,
            "max_width": null,
            "order": null,
            "_view_module_version": "1.2.0",
            "grid_template_areas": null,
            "object_position": null,
            "object_fit": null,
            "grid_auto_columns": null,
            "margin": null,
            "display": null,
            "left": null
          }
        },
        "89bab8d698824214a0812db213bd78a1": {
          "model_module": "@jupyter-widgets/controls",
          "model_name": "DescriptionStyleModel",
          "state": {
            "_view_name": "StyleView",
            "_model_name": "DescriptionStyleModel",
            "description_width": "",
            "_view_module": "@jupyter-widgets/base",
            "_model_module_version": "1.5.0",
            "_view_count": null,
            "_view_module_version": "1.2.0",
            "_model_module": "@jupyter-widgets/controls"
          }
        },
        "49dd2c85826c4b1ba9f8b2e838665c14": {
          "model_module": "@jupyter-widgets/base",
          "model_name": "LayoutModel",
          "state": {
            "_view_name": "LayoutView",
            "grid_template_rows": null,
            "right": null,
            "justify_content": null,
            "_view_module": "@jupyter-widgets/base",
            "overflow": null,
            "_model_module_version": "1.2.0",
            "_view_count": null,
            "flex_flow": null,
            "width": null,
            "min_width": null,
            "border": null,
            "align_items": null,
            "bottom": null,
            "_model_module": "@jupyter-widgets/base",
            "top": null,
            "grid_column": null,
            "overflow_y": null,
            "overflow_x": null,
            "grid_auto_flow": null,
            "grid_area": null,
            "grid_template_columns": null,
            "flex": null,
            "_model_name": "LayoutModel",
            "justify_items": null,
            "grid_row": null,
            "max_height": null,
            "align_content": null,
            "visibility": null,
            "align_self": null,
            "height": null,
            "min_height": null,
            "padding": null,
            "grid_auto_rows": null,
            "grid_gap": null,
            "max_width": null,
            "order": null,
            "_view_module_version": "1.2.0",
            "grid_template_areas": null,
            "object_position": null,
            "object_fit": null,
            "grid_auto_columns": null,
            "margin": null,
            "display": null,
            "left": null
          }
        },
        "78c2cdc527aa413da9acbfa80fdf7389": {
          "model_module": "@jupyter-widgets/controls",
          "model_name": "HBoxModel",
          "state": {
            "_view_name": "HBoxView",
            "_dom_classes": [],
            "_model_name": "HBoxModel",
            "_view_module": "@jupyter-widgets/controls",
            "_model_module_version": "1.5.0",
            "_view_count": null,
            "_view_module_version": "1.5.0",
            "box_style": "",
            "layout": "IPY_MODEL_d3f36ddf714246dfa5d431b9aa1951b6",
            "_model_module": "@jupyter-widgets/controls",
            "children": [
              "IPY_MODEL_9a56aeccb14d4e308a4c390811f6b683",
              "IPY_MODEL_d2c1a9c88bf7449b99ba88192a76398e"
            ]
          }
        },
        "d3f36ddf714246dfa5d431b9aa1951b6": {
          "model_module": "@jupyter-widgets/base",
          "model_name": "LayoutModel",
          "state": {
            "_view_name": "LayoutView",
            "grid_template_rows": null,
            "right": null,
            "justify_content": null,
            "_view_module": "@jupyter-widgets/base",
            "overflow": null,
            "_model_module_version": "1.2.0",
            "_view_count": null,
            "flex_flow": null,
            "width": null,
            "min_width": null,
            "border": null,
            "align_items": null,
            "bottom": null,
            "_model_module": "@jupyter-widgets/base",
            "top": null,
            "grid_column": null,
            "overflow_y": null,
            "overflow_x": null,
            "grid_auto_flow": null,
            "grid_area": null,
            "grid_template_columns": null,
            "flex": null,
            "_model_name": "LayoutModel",
            "justify_items": null,
            "grid_row": null,
            "max_height": null,
            "align_content": null,
            "visibility": null,
            "align_self": null,
            "height": null,
            "min_height": null,
            "padding": null,
            "grid_auto_rows": null,
            "grid_gap": null,
            "max_width": null,
            "order": null,
            "_view_module_version": "1.2.0",
            "grid_template_areas": null,
            "object_position": null,
            "object_fit": null,
            "grid_auto_columns": null,
            "margin": null,
            "display": null,
            "left": null
          }
        },
        "9a56aeccb14d4e308a4c390811f6b683": {
          "model_module": "@jupyter-widgets/controls",
          "model_name": "IntProgressModel",
          "state": {
            "_view_name": "ProgressView",
            "style": "IPY_MODEL_4aaac071566c4379860a5dd74f7e9e27",
            "_dom_classes": [],
            "description": "",
            "_model_name": "IntProgressModel",
            "bar_style": "success",
            "max": 101,
            "_view_module": "@jupyter-widgets/controls",
            "_model_module_version": "1.5.0",
            "value": 101,
            "_view_count": null,
            "_view_module_version": "1.5.0",
            "orientation": "horizontal",
            "min": 0,
            "description_tooltip": null,
            "_model_module": "@jupyter-widgets/controls",
            "layout": "IPY_MODEL_8647b722d7f846c9a3f539d1afa8f6c2"
          }
        },
        "d2c1a9c88bf7449b99ba88192a76398e": {
          "model_module": "@jupyter-widgets/controls",
          "model_name": "HTMLModel",
          "state": {
            "_view_name": "HTMLView",
            "style": "IPY_MODEL_75dc3000d72e449d8f9d24c4a12a3741",
            "_dom_classes": [],
            "description": "",
            "_model_name": "HTMLModel",
            "placeholder": "​",
            "_view_module": "@jupyter-widgets/controls",
            "_model_module_version": "1.5.0",
            "value": "100% 101/101 [00:09&lt;00:00, 10.05it/s]",
            "_view_count": null,
            "_view_module_version": "1.5.0",
            "description_tooltip": null,
            "_model_module": "@jupyter-widgets/controls",
            "layout": "IPY_MODEL_f28afc97afbc48a5ab347de31013e425"
          }
        },
        "4aaac071566c4379860a5dd74f7e9e27": {
          "model_module": "@jupyter-widgets/controls",
          "model_name": "ProgressStyleModel",
          "state": {
            "_view_name": "StyleView",
            "_model_name": "ProgressStyleModel",
            "description_width": "",
            "_view_module": "@jupyter-widgets/base",
            "_model_module_version": "1.5.0",
            "_view_count": null,
            "_view_module_version": "1.2.0",
            "bar_color": null,
            "_model_module": "@jupyter-widgets/controls"
          }
        },
        "8647b722d7f846c9a3f539d1afa8f6c2": {
          "model_module": "@jupyter-widgets/base",
          "model_name": "LayoutModel",
          "state": {
            "_view_name": "LayoutView",
            "grid_template_rows": null,
            "right": null,
            "justify_content": null,
            "_view_module": "@jupyter-widgets/base",
            "overflow": null,
            "_model_module_version": "1.2.0",
            "_view_count": null,
            "flex_flow": null,
            "width": null,
            "min_width": null,
            "border": null,
            "align_items": null,
            "bottom": null,
            "_model_module": "@jupyter-widgets/base",
            "top": null,
            "grid_column": null,
            "overflow_y": null,
            "overflow_x": null,
            "grid_auto_flow": null,
            "grid_area": null,
            "grid_template_columns": null,
            "flex": null,
            "_model_name": "LayoutModel",
            "justify_items": null,
            "grid_row": null,
            "max_height": null,
            "align_content": null,
            "visibility": null,
            "align_self": null,
            "height": null,
            "min_height": null,
            "padding": null,
            "grid_auto_rows": null,
            "grid_gap": null,
            "max_width": null,
            "order": null,
            "_view_module_version": "1.2.0",
            "grid_template_areas": null,
            "object_position": null,
            "object_fit": null,
            "grid_auto_columns": null,
            "margin": null,
            "display": null,
            "left": null
          }
        },
        "75dc3000d72e449d8f9d24c4a12a3741": {
          "model_module": "@jupyter-widgets/controls",
          "model_name": "DescriptionStyleModel",
          "state": {
            "_view_name": "StyleView",
            "_model_name": "DescriptionStyleModel",
            "description_width": "",
            "_view_module": "@jupyter-widgets/base",
            "_model_module_version": "1.5.0",
            "_view_count": null,
            "_view_module_version": "1.2.0",
            "_model_module": "@jupyter-widgets/controls"
          }
        },
        "f28afc97afbc48a5ab347de31013e425": {
          "model_module": "@jupyter-widgets/base",
          "model_name": "LayoutModel",
          "state": {
            "_view_name": "LayoutView",
            "grid_template_rows": null,
            "right": null,
            "justify_content": null,
            "_view_module": "@jupyter-widgets/base",
            "overflow": null,
            "_model_module_version": "1.2.0",
            "_view_count": null,
            "flex_flow": null,
            "width": null,
            "min_width": null,
            "border": null,
            "align_items": null,
            "bottom": null,
            "_model_module": "@jupyter-widgets/base",
            "top": null,
            "grid_column": null,
            "overflow_y": null,
            "overflow_x": null,
            "grid_auto_flow": null,
            "grid_area": null,
            "grid_template_columns": null,
            "flex": null,
            "_model_name": "LayoutModel",
            "justify_items": null,
            "grid_row": null,
            "max_height": null,
            "align_content": null,
            "visibility": null,
            "align_self": null,
            "height": null,
            "min_height": null,
            "padding": null,
            "grid_auto_rows": null,
            "grid_gap": null,
            "max_width": null,
            "order": null,
            "_view_module_version": "1.2.0",
            "grid_template_areas": null,
            "object_position": null,
            "object_fit": null,
            "grid_auto_columns": null,
            "margin": null,
            "display": null,
            "left": null
          }
        },
        "f44c451c4d5b4d8bae61565b626ee78e": {
          "model_module": "@jupyter-widgets/controls",
          "model_name": "HBoxModel",
          "state": {
            "_view_name": "HBoxView",
            "_dom_classes": [],
            "_model_name": "HBoxModel",
            "_view_module": "@jupyter-widgets/controls",
            "_model_module_version": "1.5.0",
            "_view_count": null,
            "_view_module_version": "1.5.0",
            "box_style": "",
            "layout": "IPY_MODEL_d8ed62fea25e429f8e17e5f1d06cc631",
            "_model_module": "@jupyter-widgets/controls",
            "children": [
              "IPY_MODEL_aaa8ab2bf67245f79c6ccff16c8ffe65",
              "IPY_MODEL_fd2799a4d291417a96441e17e4b4da77"
            ]
          }
        },
        "d8ed62fea25e429f8e17e5f1d06cc631": {
          "model_module": "@jupyter-widgets/base",
          "model_name": "LayoutModel",
          "state": {
            "_view_name": "LayoutView",
            "grid_template_rows": null,
            "right": null,
            "justify_content": null,
            "_view_module": "@jupyter-widgets/base",
            "overflow": null,
            "_model_module_version": "1.2.0",
            "_view_count": null,
            "flex_flow": null,
            "width": null,
            "min_width": null,
            "border": null,
            "align_items": null,
            "bottom": null,
            "_model_module": "@jupyter-widgets/base",
            "top": null,
            "grid_column": null,
            "overflow_y": null,
            "overflow_x": null,
            "grid_auto_flow": null,
            "grid_area": null,
            "grid_template_columns": null,
            "flex": null,
            "_model_name": "LayoutModel",
            "justify_items": null,
            "grid_row": null,
            "max_height": null,
            "align_content": null,
            "visibility": null,
            "align_self": null,
            "height": null,
            "min_height": null,
            "padding": null,
            "grid_auto_rows": null,
            "grid_gap": null,
            "max_width": null,
            "order": null,
            "_view_module_version": "1.2.0",
            "grid_template_areas": null,
            "object_position": null,
            "object_fit": null,
            "grid_auto_columns": null,
            "margin": null,
            "display": null,
            "left": null
          }
        },
        "aaa8ab2bf67245f79c6ccff16c8ffe65": {
          "model_module": "@jupyter-widgets/controls",
          "model_name": "IntProgressModel",
          "state": {
            "_view_name": "ProgressView",
            "style": "IPY_MODEL_47a09602b69d4038ad8000c3bedce724",
            "_dom_classes": [],
            "description": "",
            "_model_name": "IntProgressModel",
            "bar_style": "success",
            "max": 12,
            "_view_module": "@jupyter-widgets/controls",
            "_model_module_version": "1.5.0",
            "value": 12,
            "_view_count": null,
            "_view_module_version": "1.5.0",
            "orientation": "horizontal",
            "min": 0,
            "description_tooltip": null,
            "_model_module": "@jupyter-widgets/controls",
            "layout": "IPY_MODEL_3bc445a9c78f40d693ce207ae6e7b81f"
          }
        },
        "fd2799a4d291417a96441e17e4b4da77": {
          "model_module": "@jupyter-widgets/controls",
          "model_name": "HTMLModel",
          "state": {
            "_view_name": "HTMLView",
            "style": "IPY_MODEL_3c25e651a5df419bb30cd35b68d8fb8b",
            "_dom_classes": [],
            "description": "",
            "_model_name": "HTMLModel",
            "placeholder": "​",
            "_view_module": "@jupyter-widgets/controls",
            "_model_module_version": "1.5.0",
            "value": "100% 12/12 [00:01&lt;00:00,  9.73it/s]",
            "_view_count": null,
            "_view_module_version": "1.5.0",
            "description_tooltip": null,
            "_model_module": "@jupyter-widgets/controls",
            "layout": "IPY_MODEL_270f3be091714805a4b5d8e042885914"
          }
        },
        "47a09602b69d4038ad8000c3bedce724": {
          "model_module": "@jupyter-widgets/controls",
          "model_name": "ProgressStyleModel",
          "state": {
            "_view_name": "StyleView",
            "_model_name": "ProgressStyleModel",
            "description_width": "",
            "_view_module": "@jupyter-widgets/base",
            "_model_module_version": "1.5.0",
            "_view_count": null,
            "_view_module_version": "1.2.0",
            "bar_color": null,
            "_model_module": "@jupyter-widgets/controls"
          }
        },
        "3bc445a9c78f40d693ce207ae6e7b81f": {
          "model_module": "@jupyter-widgets/base",
          "model_name": "LayoutModel",
          "state": {
            "_view_name": "LayoutView",
            "grid_template_rows": null,
            "right": null,
            "justify_content": null,
            "_view_module": "@jupyter-widgets/base",
            "overflow": null,
            "_model_module_version": "1.2.0",
            "_view_count": null,
            "flex_flow": null,
            "width": null,
            "min_width": null,
            "border": null,
            "align_items": null,
            "bottom": null,
            "_model_module": "@jupyter-widgets/base",
            "top": null,
            "grid_column": null,
            "overflow_y": null,
            "overflow_x": null,
            "grid_auto_flow": null,
            "grid_area": null,
            "grid_template_columns": null,
            "flex": null,
            "_model_name": "LayoutModel",
            "justify_items": null,
            "grid_row": null,
            "max_height": null,
            "align_content": null,
            "visibility": null,
            "align_self": null,
            "height": null,
            "min_height": null,
            "padding": null,
            "grid_auto_rows": null,
            "grid_gap": null,
            "max_width": null,
            "order": null,
            "_view_module_version": "1.2.0",
            "grid_template_areas": null,
            "object_position": null,
            "object_fit": null,
            "grid_auto_columns": null,
            "margin": null,
            "display": null,
            "left": null
          }
        },
        "3c25e651a5df419bb30cd35b68d8fb8b": {
          "model_module": "@jupyter-widgets/controls",
          "model_name": "DescriptionStyleModel",
          "state": {
            "_view_name": "StyleView",
            "_model_name": "DescriptionStyleModel",
            "description_width": "",
            "_view_module": "@jupyter-widgets/base",
            "_model_module_version": "1.5.0",
            "_view_count": null,
            "_view_module_version": "1.2.0",
            "_model_module": "@jupyter-widgets/controls"
          }
        },
        "270f3be091714805a4b5d8e042885914": {
          "model_module": "@jupyter-widgets/base",
          "model_name": "LayoutModel",
          "state": {
            "_view_name": "LayoutView",
            "grid_template_rows": null,
            "right": null,
            "justify_content": null,
            "_view_module": "@jupyter-widgets/base",
            "overflow": null,
            "_model_module_version": "1.2.0",
            "_view_count": null,
            "flex_flow": null,
            "width": null,
            "min_width": null,
            "border": null,
            "align_items": null,
            "bottom": null,
            "_model_module": "@jupyter-widgets/base",
            "top": null,
            "grid_column": null,
            "overflow_y": null,
            "overflow_x": null,
            "grid_auto_flow": null,
            "grid_area": null,
            "grid_template_columns": null,
            "flex": null,
            "_model_name": "LayoutModel",
            "justify_items": null,
            "grid_row": null,
            "max_height": null,
            "align_content": null,
            "visibility": null,
            "align_self": null,
            "height": null,
            "min_height": null,
            "padding": null,
            "grid_auto_rows": null,
            "grid_gap": null,
            "max_width": null,
            "order": null,
            "_view_module_version": "1.2.0",
            "grid_template_areas": null,
            "object_position": null,
            "object_fit": null,
            "grid_auto_columns": null,
            "margin": null,
            "display": null,
            "left": null
          }
        },
        "411f357707c844018921913f2c55ddd8": {
          "model_module": "@jupyter-widgets/controls",
          "model_name": "HBoxModel",
          "state": {
            "_view_name": "HBoxView",
            "_dom_classes": [],
            "_model_name": "HBoxModel",
            "_view_module": "@jupyter-widgets/controls",
            "_model_module_version": "1.5.0",
            "_view_count": null,
            "_view_module_version": "1.5.0",
            "box_style": "",
            "layout": "IPY_MODEL_2b547ce6992d43208409025875fb5e8d",
            "_model_module": "@jupyter-widgets/controls",
            "children": [
              "IPY_MODEL_cef285ed942a4223bac45b9488c68783",
              "IPY_MODEL_481774400b114de98e0c9de6f58da67e"
            ]
          }
        },
        "2b547ce6992d43208409025875fb5e8d": {
          "model_module": "@jupyter-widgets/base",
          "model_name": "LayoutModel",
          "state": {
            "_view_name": "LayoutView",
            "grid_template_rows": null,
            "right": null,
            "justify_content": null,
            "_view_module": "@jupyter-widgets/base",
            "overflow": null,
            "_model_module_version": "1.2.0",
            "_view_count": null,
            "flex_flow": null,
            "width": null,
            "min_width": null,
            "border": null,
            "align_items": null,
            "bottom": null,
            "_model_module": "@jupyter-widgets/base",
            "top": null,
            "grid_column": null,
            "overflow_y": null,
            "overflow_x": null,
            "grid_auto_flow": null,
            "grid_area": null,
            "grid_template_columns": null,
            "flex": null,
            "_model_name": "LayoutModel",
            "justify_items": null,
            "grid_row": null,
            "max_height": null,
            "align_content": null,
            "visibility": null,
            "align_self": null,
            "height": null,
            "min_height": null,
            "padding": null,
            "grid_auto_rows": null,
            "grid_gap": null,
            "max_width": null,
            "order": null,
            "_view_module_version": "1.2.0",
            "grid_template_areas": null,
            "object_position": null,
            "object_fit": null,
            "grid_auto_columns": null,
            "margin": null,
            "display": null,
            "left": null
          }
        },
        "cef285ed942a4223bac45b9488c68783": {
          "model_module": "@jupyter-widgets/controls",
          "model_name": "IntProgressModel",
          "state": {
            "_view_name": "ProgressView",
            "style": "IPY_MODEL_d43d0546901243c7a40cac6f7e78bcf6",
            "_dom_classes": [],
            "description": "",
            "_model_name": "IntProgressModel",
            "bar_style": "success",
            "max": 28,
            "_view_module": "@jupyter-widgets/controls",
            "_model_module_version": "1.5.0",
            "value": 28,
            "_view_count": null,
            "_view_module_version": "1.5.0",
            "orientation": "horizontal",
            "min": 0,
            "description_tooltip": null,
            "_model_module": "@jupyter-widgets/controls",
            "layout": "IPY_MODEL_5824f435bda94c618c17b18e109da73c"
          }
        },
        "481774400b114de98e0c9de6f58da67e": {
          "model_module": "@jupyter-widgets/controls",
          "model_name": "HTMLModel",
          "state": {
            "_view_name": "HTMLView",
            "style": "IPY_MODEL_80858dad64b24c3188ce7dc6173bd092",
            "_dom_classes": [],
            "description": "",
            "_model_name": "HTMLModel",
            "placeholder": "​",
            "_view_module": "@jupyter-widgets/controls",
            "_model_module_version": "1.5.0",
            "value": "100% 28/28 [00:02&lt;00:00,  9.92it/s]",
            "_view_count": null,
            "_view_module_version": "1.5.0",
            "description_tooltip": null,
            "_model_module": "@jupyter-widgets/controls",
            "layout": "IPY_MODEL_72ee158ea79a4522a9b6571b8e0d7f88"
          }
        },
        "d43d0546901243c7a40cac6f7e78bcf6": {
          "model_module": "@jupyter-widgets/controls",
          "model_name": "ProgressStyleModel",
          "state": {
            "_view_name": "StyleView",
            "_model_name": "ProgressStyleModel",
            "description_width": "",
            "_view_module": "@jupyter-widgets/base",
            "_model_module_version": "1.5.0",
            "_view_count": null,
            "_view_module_version": "1.2.0",
            "bar_color": null,
            "_model_module": "@jupyter-widgets/controls"
          }
        },
        "5824f435bda94c618c17b18e109da73c": {
          "model_module": "@jupyter-widgets/base",
          "model_name": "LayoutModel",
          "state": {
            "_view_name": "LayoutView",
            "grid_template_rows": null,
            "right": null,
            "justify_content": null,
            "_view_module": "@jupyter-widgets/base",
            "overflow": null,
            "_model_module_version": "1.2.0",
            "_view_count": null,
            "flex_flow": null,
            "width": null,
            "min_width": null,
            "border": null,
            "align_items": null,
            "bottom": null,
            "_model_module": "@jupyter-widgets/base",
            "top": null,
            "grid_column": null,
            "overflow_y": null,
            "overflow_x": null,
            "grid_auto_flow": null,
            "grid_area": null,
            "grid_template_columns": null,
            "flex": null,
            "_model_name": "LayoutModel",
            "justify_items": null,
            "grid_row": null,
            "max_height": null,
            "align_content": null,
            "visibility": null,
            "align_self": null,
            "height": null,
            "min_height": null,
            "padding": null,
            "grid_auto_rows": null,
            "grid_gap": null,
            "max_width": null,
            "order": null,
            "_view_module_version": "1.2.0",
            "grid_template_areas": null,
            "object_position": null,
            "object_fit": null,
            "grid_auto_columns": null,
            "margin": null,
            "display": null,
            "left": null
          }
        },
        "80858dad64b24c3188ce7dc6173bd092": {
          "model_module": "@jupyter-widgets/controls",
          "model_name": "DescriptionStyleModel",
          "state": {
            "_view_name": "StyleView",
            "_model_name": "DescriptionStyleModel",
            "description_width": "",
            "_view_module": "@jupyter-widgets/base",
            "_model_module_version": "1.5.0",
            "_view_count": null,
            "_view_module_version": "1.2.0",
            "_model_module": "@jupyter-widgets/controls"
          }
        },
        "72ee158ea79a4522a9b6571b8e0d7f88": {
          "model_module": "@jupyter-widgets/base",
          "model_name": "LayoutModel",
          "state": {
            "_view_name": "LayoutView",
            "grid_template_rows": null,
            "right": null,
            "justify_content": null,
            "_view_module": "@jupyter-widgets/base",
            "overflow": null,
            "_model_module_version": "1.2.0",
            "_view_count": null,
            "flex_flow": null,
            "width": null,
            "min_width": null,
            "border": null,
            "align_items": null,
            "bottom": null,
            "_model_module": "@jupyter-widgets/base",
            "top": null,
            "grid_column": null,
            "overflow_y": null,
            "overflow_x": null,
            "grid_auto_flow": null,
            "grid_area": null,
            "grid_template_columns": null,
            "flex": null,
            "_model_name": "LayoutModel",
            "justify_items": null,
            "grid_row": null,
            "max_height": null,
            "align_content": null,
            "visibility": null,
            "align_self": null,
            "height": null,
            "min_height": null,
            "padding": null,
            "grid_auto_rows": null,
            "grid_gap": null,
            "max_width": null,
            "order": null,
            "_view_module_version": "1.2.0",
            "grid_template_areas": null,
            "object_position": null,
            "object_fit": null,
            "grid_auto_columns": null,
            "margin": null,
            "display": null,
            "left": null
          }
        },
        "f3df2cb169fe4a4d9917509227691e51": {
          "model_module": "@jupyter-widgets/controls",
          "model_name": "HBoxModel",
          "state": {
            "_view_name": "HBoxView",
            "_dom_classes": [],
            "_model_name": "HBoxModel",
            "_view_module": "@jupyter-widgets/controls",
            "_model_module_version": "1.5.0",
            "_view_count": null,
            "_view_module_version": "1.5.0",
            "box_style": "",
            "layout": "IPY_MODEL_ba0e5d33bf154ddb8c124c6ce7bf2679",
            "_model_module": "@jupyter-widgets/controls",
            "children": [
              "IPY_MODEL_131968eec94f4bf19c482d67f3fc0b17",
              "IPY_MODEL_1f035c554e8a4d8e9dd452d2ec51f47e"
            ]
          }
        },
        "ba0e5d33bf154ddb8c124c6ce7bf2679": {
          "model_module": "@jupyter-widgets/base",
          "model_name": "LayoutModel",
          "state": {
            "_view_name": "LayoutView",
            "grid_template_rows": null,
            "right": null,
            "justify_content": null,
            "_view_module": "@jupyter-widgets/base",
            "overflow": null,
            "_model_module_version": "1.2.0",
            "_view_count": null,
            "flex_flow": null,
            "width": null,
            "min_width": null,
            "border": null,
            "align_items": null,
            "bottom": null,
            "_model_module": "@jupyter-widgets/base",
            "top": null,
            "grid_column": null,
            "overflow_y": null,
            "overflow_x": null,
            "grid_auto_flow": null,
            "grid_area": null,
            "grid_template_columns": null,
            "flex": null,
            "_model_name": "LayoutModel",
            "justify_items": null,
            "grid_row": null,
            "max_height": null,
            "align_content": null,
            "visibility": null,
            "align_self": null,
            "height": null,
            "min_height": null,
            "padding": null,
            "grid_auto_rows": null,
            "grid_gap": null,
            "max_width": null,
            "order": null,
            "_view_module_version": "1.2.0",
            "grid_template_areas": null,
            "object_position": null,
            "object_fit": null,
            "grid_auto_columns": null,
            "margin": null,
            "display": null,
            "left": null
          }
        },
        "131968eec94f4bf19c482d67f3fc0b17": {
          "model_module": "@jupyter-widgets/controls",
          "model_name": "IntProgressModel",
          "state": {
            "_view_name": "ProgressView",
            "style": "IPY_MODEL_e85c18190e244d9d81c4f459b960a8ac",
            "_dom_classes": [],
            "description": "",
            "_model_name": "IntProgressModel",
            "bar_style": "success",
            "max": 100,
            "_view_module": "@jupyter-widgets/controls",
            "_model_module_version": "1.5.0",
            "value": 100,
            "_view_count": null,
            "_view_module_version": "1.5.0",
            "orientation": "horizontal",
            "min": 0,
            "description_tooltip": null,
            "_model_module": "@jupyter-widgets/controls",
            "layout": "IPY_MODEL_b04128afcb3a4895a62618584f027c4c"
          }
        },
        "1f035c554e8a4d8e9dd452d2ec51f47e": {
          "model_module": "@jupyter-widgets/controls",
          "model_name": "HTMLModel",
          "state": {
            "_view_name": "HTMLView",
            "style": "IPY_MODEL_7a7848123b404d26be7343d0408b8136",
            "_dom_classes": [],
            "description": "",
            "_model_name": "HTMLModel",
            "placeholder": "​",
            "_view_module": "@jupyter-widgets/controls",
            "_model_module_version": "1.5.0",
            "value": "100% 100/100 [00:10&lt;00:00,  8.79it/s]",
            "_view_count": null,
            "_view_module_version": "1.5.0",
            "description_tooltip": null,
            "_model_module": "@jupyter-widgets/controls",
            "layout": "IPY_MODEL_d8670a48577547048c02dbc2a05590f0"
          }
        },
        "e85c18190e244d9d81c4f459b960a8ac": {
          "model_module": "@jupyter-widgets/controls",
          "model_name": "ProgressStyleModel",
          "state": {
            "_view_name": "StyleView",
            "_model_name": "ProgressStyleModel",
            "description_width": "",
            "_view_module": "@jupyter-widgets/base",
            "_model_module_version": "1.5.0",
            "_view_count": null,
            "_view_module_version": "1.2.0",
            "bar_color": null,
            "_model_module": "@jupyter-widgets/controls"
          }
        },
        "b04128afcb3a4895a62618584f027c4c": {
          "model_module": "@jupyter-widgets/base",
          "model_name": "LayoutModel",
          "state": {
            "_view_name": "LayoutView",
            "grid_template_rows": null,
            "right": null,
            "justify_content": null,
            "_view_module": "@jupyter-widgets/base",
            "overflow": null,
            "_model_module_version": "1.2.0",
            "_view_count": null,
            "flex_flow": null,
            "width": null,
            "min_width": null,
            "border": null,
            "align_items": null,
            "bottom": null,
            "_model_module": "@jupyter-widgets/base",
            "top": null,
            "grid_column": null,
            "overflow_y": null,
            "overflow_x": null,
            "grid_auto_flow": null,
            "grid_area": null,
            "grid_template_columns": null,
            "flex": null,
            "_model_name": "LayoutModel",
            "justify_items": null,
            "grid_row": null,
            "max_height": null,
            "align_content": null,
            "visibility": null,
            "align_self": null,
            "height": null,
            "min_height": null,
            "padding": null,
            "grid_auto_rows": null,
            "grid_gap": null,
            "max_width": null,
            "order": null,
            "_view_module_version": "1.2.0",
            "grid_template_areas": null,
            "object_position": null,
            "object_fit": null,
            "grid_auto_columns": null,
            "margin": null,
            "display": null,
            "left": null
          }
        },
        "7a7848123b404d26be7343d0408b8136": {
          "model_module": "@jupyter-widgets/controls",
          "model_name": "DescriptionStyleModel",
          "state": {
            "_view_name": "StyleView",
            "_model_name": "DescriptionStyleModel",
            "description_width": "",
            "_view_module": "@jupyter-widgets/base",
            "_model_module_version": "1.5.0",
            "_view_count": null,
            "_view_module_version": "1.2.0",
            "_model_module": "@jupyter-widgets/controls"
          }
        },
        "d8670a48577547048c02dbc2a05590f0": {
          "model_module": "@jupyter-widgets/base",
          "model_name": "LayoutModel",
          "state": {
            "_view_name": "LayoutView",
            "grid_template_rows": null,
            "right": null,
            "justify_content": null,
            "_view_module": "@jupyter-widgets/base",
            "overflow": null,
            "_model_module_version": "1.2.0",
            "_view_count": null,
            "flex_flow": null,
            "width": null,
            "min_width": null,
            "border": null,
            "align_items": null,
            "bottom": null,
            "_model_module": "@jupyter-widgets/base",
            "top": null,
            "grid_column": null,
            "overflow_y": null,
            "overflow_x": null,
            "grid_auto_flow": null,
            "grid_area": null,
            "grid_template_columns": null,
            "flex": null,
            "_model_name": "LayoutModel",
            "justify_items": null,
            "grid_row": null,
            "max_height": null,
            "align_content": null,
            "visibility": null,
            "align_self": null,
            "height": null,
            "min_height": null,
            "padding": null,
            "grid_auto_rows": null,
            "grid_gap": null,
            "max_width": null,
            "order": null,
            "_view_module_version": "1.2.0",
            "grid_template_areas": null,
            "object_position": null,
            "object_fit": null,
            "grid_auto_columns": null,
            "margin": null,
            "display": null,
            "left": null
          }
        },
        "071b25eb1c95462689d1515b88d18b8f": {
          "model_module": "@jupyter-widgets/controls",
          "model_name": "HBoxModel",
          "state": {
            "_view_name": "HBoxView",
            "_dom_classes": [],
            "_model_name": "HBoxModel",
            "_view_module": "@jupyter-widgets/controls",
            "_model_module_version": "1.5.0",
            "_view_count": null,
            "_view_module_version": "1.5.0",
            "box_style": "",
            "layout": "IPY_MODEL_136ab1cdbca3474cbd54623c0b4c096f",
            "_model_module": "@jupyter-widgets/controls",
            "children": [
              "IPY_MODEL_271d849aaba24000b14fb0f71ac56ad0",
              "IPY_MODEL_4d39686c65194b4fb093ec6b85d38902"
            ]
          }
        },
        "136ab1cdbca3474cbd54623c0b4c096f": {
          "model_module": "@jupyter-widgets/base",
          "model_name": "LayoutModel",
          "state": {
            "_view_name": "LayoutView",
            "grid_template_rows": null,
            "right": null,
            "justify_content": null,
            "_view_module": "@jupyter-widgets/base",
            "overflow": null,
            "_model_module_version": "1.2.0",
            "_view_count": null,
            "flex_flow": null,
            "width": null,
            "min_width": null,
            "border": null,
            "align_items": null,
            "bottom": null,
            "_model_module": "@jupyter-widgets/base",
            "top": null,
            "grid_column": null,
            "overflow_y": null,
            "overflow_x": null,
            "grid_auto_flow": null,
            "grid_area": null,
            "grid_template_columns": null,
            "flex": null,
            "_model_name": "LayoutModel",
            "justify_items": null,
            "grid_row": null,
            "max_height": null,
            "align_content": null,
            "visibility": null,
            "align_self": null,
            "height": null,
            "min_height": null,
            "padding": null,
            "grid_auto_rows": null,
            "grid_gap": null,
            "max_width": null,
            "order": null,
            "_view_module_version": "1.2.0",
            "grid_template_areas": null,
            "object_position": null,
            "object_fit": null,
            "grid_auto_columns": null,
            "margin": null,
            "display": null,
            "left": null
          }
        },
        "271d849aaba24000b14fb0f71ac56ad0": {
          "model_module": "@jupyter-widgets/controls",
          "model_name": "IntProgressModel",
          "state": {
            "_view_name": "ProgressView",
            "style": "IPY_MODEL_14f8826ff68e466cb8416ac4aee20e97",
            "_dom_classes": [],
            "description": "",
            "_model_name": "IntProgressModel",
            "bar_style": "success",
            "max": 13,
            "_view_module": "@jupyter-widgets/controls",
            "_model_module_version": "1.5.0",
            "value": 13,
            "_view_count": null,
            "_view_module_version": "1.5.0",
            "orientation": "horizontal",
            "min": 0,
            "description_tooltip": null,
            "_model_module": "@jupyter-widgets/controls",
            "layout": "IPY_MODEL_ea2b6c5d89fa467b951279ed19dc3aef"
          }
        },
        "4d39686c65194b4fb093ec6b85d38902": {
          "model_module": "@jupyter-widgets/controls",
          "model_name": "HTMLModel",
          "state": {
            "_view_name": "HTMLView",
            "style": "IPY_MODEL_6c34398625bf4d32b5f3deb379eedd1d",
            "_dom_classes": [],
            "description": "",
            "_model_name": "HTMLModel",
            "placeholder": "​",
            "_view_module": "@jupyter-widgets/controls",
            "_model_module_version": "1.5.0",
            "value": "100% 13/13 [00:01&lt;00:00,  9.01it/s]",
            "_view_count": null,
            "_view_module_version": "1.5.0",
            "description_tooltip": null,
            "_model_module": "@jupyter-widgets/controls",
            "layout": "IPY_MODEL_24feb8eef37c498d994f84a29024d1a6"
          }
        },
        "14f8826ff68e466cb8416ac4aee20e97": {
          "model_module": "@jupyter-widgets/controls",
          "model_name": "ProgressStyleModel",
          "state": {
            "_view_name": "StyleView",
            "_model_name": "ProgressStyleModel",
            "description_width": "",
            "_view_module": "@jupyter-widgets/base",
            "_model_module_version": "1.5.0",
            "_view_count": null,
            "_view_module_version": "1.2.0",
            "bar_color": null,
            "_model_module": "@jupyter-widgets/controls"
          }
        },
        "ea2b6c5d89fa467b951279ed19dc3aef": {
          "model_module": "@jupyter-widgets/base",
          "model_name": "LayoutModel",
          "state": {
            "_view_name": "LayoutView",
            "grid_template_rows": null,
            "right": null,
            "justify_content": null,
            "_view_module": "@jupyter-widgets/base",
            "overflow": null,
            "_model_module_version": "1.2.0",
            "_view_count": null,
            "flex_flow": null,
            "width": null,
            "min_width": null,
            "border": null,
            "align_items": null,
            "bottom": null,
            "_model_module": "@jupyter-widgets/base",
            "top": null,
            "grid_column": null,
            "overflow_y": null,
            "overflow_x": null,
            "grid_auto_flow": null,
            "grid_area": null,
            "grid_template_columns": null,
            "flex": null,
            "_model_name": "LayoutModel",
            "justify_items": null,
            "grid_row": null,
            "max_height": null,
            "align_content": null,
            "visibility": null,
            "align_self": null,
            "height": null,
            "min_height": null,
            "padding": null,
            "grid_auto_rows": null,
            "grid_gap": null,
            "max_width": null,
            "order": null,
            "_view_module_version": "1.2.0",
            "grid_template_areas": null,
            "object_position": null,
            "object_fit": null,
            "grid_auto_columns": null,
            "margin": null,
            "display": null,
            "left": null
          }
        },
        "6c34398625bf4d32b5f3deb379eedd1d": {
          "model_module": "@jupyter-widgets/controls",
          "model_name": "DescriptionStyleModel",
          "state": {
            "_view_name": "StyleView",
            "_model_name": "DescriptionStyleModel",
            "description_width": "",
            "_view_module": "@jupyter-widgets/base",
            "_model_module_version": "1.5.0",
            "_view_count": null,
            "_view_module_version": "1.2.0",
            "_model_module": "@jupyter-widgets/controls"
          }
        },
        "24feb8eef37c498d994f84a29024d1a6": {
          "model_module": "@jupyter-widgets/base",
          "model_name": "LayoutModel",
          "state": {
            "_view_name": "LayoutView",
            "grid_template_rows": null,
            "right": null,
            "justify_content": null,
            "_view_module": "@jupyter-widgets/base",
            "overflow": null,
            "_model_module_version": "1.2.0",
            "_view_count": null,
            "flex_flow": null,
            "width": null,
            "min_width": null,
            "border": null,
            "align_items": null,
            "bottom": null,
            "_model_module": "@jupyter-widgets/base",
            "top": null,
            "grid_column": null,
            "overflow_y": null,
            "overflow_x": null,
            "grid_auto_flow": null,
            "grid_area": null,
            "grid_template_columns": null,
            "flex": null,
            "_model_name": "LayoutModel",
            "justify_items": null,
            "grid_row": null,
            "max_height": null,
            "align_content": null,
            "visibility": null,
            "align_self": null,
            "height": null,
            "min_height": null,
            "padding": null,
            "grid_auto_rows": null,
            "grid_gap": null,
            "max_width": null,
            "order": null,
            "_view_module_version": "1.2.0",
            "grid_template_areas": null,
            "object_position": null,
            "object_fit": null,
            "grid_auto_columns": null,
            "margin": null,
            "display": null,
            "left": null
          }
        },
        "b321d0df53644278bbcd6f714d5b0e23": {
          "model_module": "@jupyter-widgets/controls",
          "model_name": "HBoxModel",
          "state": {
            "_view_name": "HBoxView",
            "_dom_classes": [],
            "_model_name": "HBoxModel",
            "_view_module": "@jupyter-widgets/controls",
            "_model_module_version": "1.5.0",
            "_view_count": null,
            "_view_module_version": "1.5.0",
            "box_style": "",
            "layout": "IPY_MODEL_72d0e2688e484dbcb9f1a4d0d58a4088",
            "_model_module": "@jupyter-widgets/controls",
            "children": [
              "IPY_MODEL_eb95e5dc5c05414b991f39f6fa04ca1d",
              "IPY_MODEL_9d9e040e83624567b7f2c3395217aa81"
            ]
          }
        },
        "72d0e2688e484dbcb9f1a4d0d58a4088": {
          "model_module": "@jupyter-widgets/base",
          "model_name": "LayoutModel",
          "state": {
            "_view_name": "LayoutView",
            "grid_template_rows": null,
            "right": null,
            "justify_content": null,
            "_view_module": "@jupyter-widgets/base",
            "overflow": null,
            "_model_module_version": "1.2.0",
            "_view_count": null,
            "flex_flow": null,
            "width": null,
            "min_width": null,
            "border": null,
            "align_items": null,
            "bottom": null,
            "_model_module": "@jupyter-widgets/base",
            "top": null,
            "grid_column": null,
            "overflow_y": null,
            "overflow_x": null,
            "grid_auto_flow": null,
            "grid_area": null,
            "grid_template_columns": null,
            "flex": null,
            "_model_name": "LayoutModel",
            "justify_items": null,
            "grid_row": null,
            "max_height": null,
            "align_content": null,
            "visibility": null,
            "align_self": null,
            "height": null,
            "min_height": null,
            "padding": null,
            "grid_auto_rows": null,
            "grid_gap": null,
            "max_width": null,
            "order": null,
            "_view_module_version": "1.2.0",
            "grid_template_areas": null,
            "object_position": null,
            "object_fit": null,
            "grid_auto_columns": null,
            "margin": null,
            "display": null,
            "left": null
          }
        },
        "eb95e5dc5c05414b991f39f6fa04ca1d": {
          "model_module": "@jupyter-widgets/controls",
          "model_name": "IntProgressModel",
          "state": {
            "_view_name": "ProgressView",
            "style": "IPY_MODEL_96fc81a39844448083567b6ea3a4fa98",
            "_dom_classes": [],
            "description": "",
            "_model_name": "IntProgressModel",
            "bar_style": "success",
            "max": 5,
            "_view_module": "@jupyter-widgets/controls",
            "_model_module_version": "1.5.0",
            "value": 5,
            "_view_count": null,
            "_view_module_version": "1.5.0",
            "orientation": "horizontal",
            "min": 0,
            "description_tooltip": null,
            "_model_module": "@jupyter-widgets/controls",
            "layout": "IPY_MODEL_31948f5e983044408ef85f7599ea4593"
          }
        },
        "9d9e040e83624567b7f2c3395217aa81": {
          "model_module": "@jupyter-widgets/controls",
          "model_name": "HTMLModel",
          "state": {
            "_view_name": "HTMLView",
            "style": "IPY_MODEL_f133e7871cc2421b9c09e99d4dc760af",
            "_dom_classes": [],
            "description": "",
            "_model_name": "HTMLModel",
            "placeholder": "​",
            "_view_module": "@jupyter-widgets/controls",
            "_model_module_version": "1.5.0",
            "value": "100% 5/5 [00:00&lt;00:00,  7.96it/s]",
            "_view_count": null,
            "_view_module_version": "1.5.0",
            "description_tooltip": null,
            "_model_module": "@jupyter-widgets/controls",
            "layout": "IPY_MODEL_a57242572014470586e0fb915d288f89"
          }
        },
        "96fc81a39844448083567b6ea3a4fa98": {
          "model_module": "@jupyter-widgets/controls",
          "model_name": "ProgressStyleModel",
          "state": {
            "_view_name": "StyleView",
            "_model_name": "ProgressStyleModel",
            "description_width": "",
            "_view_module": "@jupyter-widgets/base",
            "_model_module_version": "1.5.0",
            "_view_count": null,
            "_view_module_version": "1.2.0",
            "bar_color": null,
            "_model_module": "@jupyter-widgets/controls"
          }
        },
        "31948f5e983044408ef85f7599ea4593": {
          "model_module": "@jupyter-widgets/base",
          "model_name": "LayoutModel",
          "state": {
            "_view_name": "LayoutView",
            "grid_template_rows": null,
            "right": null,
            "justify_content": null,
            "_view_module": "@jupyter-widgets/base",
            "overflow": null,
            "_model_module_version": "1.2.0",
            "_view_count": null,
            "flex_flow": null,
            "width": null,
            "min_width": null,
            "border": null,
            "align_items": null,
            "bottom": null,
            "_model_module": "@jupyter-widgets/base",
            "top": null,
            "grid_column": null,
            "overflow_y": null,
            "overflow_x": null,
            "grid_auto_flow": null,
            "grid_area": null,
            "grid_template_columns": null,
            "flex": null,
            "_model_name": "LayoutModel",
            "justify_items": null,
            "grid_row": null,
            "max_height": null,
            "align_content": null,
            "visibility": null,
            "align_self": null,
            "height": null,
            "min_height": null,
            "padding": null,
            "grid_auto_rows": null,
            "grid_gap": null,
            "max_width": null,
            "order": null,
            "_view_module_version": "1.2.0",
            "grid_template_areas": null,
            "object_position": null,
            "object_fit": null,
            "grid_auto_columns": null,
            "margin": null,
            "display": null,
            "left": null
          }
        },
        "f133e7871cc2421b9c09e99d4dc760af": {
          "model_module": "@jupyter-widgets/controls",
          "model_name": "DescriptionStyleModel",
          "state": {
            "_view_name": "StyleView",
            "_model_name": "DescriptionStyleModel",
            "description_width": "",
            "_view_module": "@jupyter-widgets/base",
            "_model_module_version": "1.5.0",
            "_view_count": null,
            "_view_module_version": "1.2.0",
            "_model_module": "@jupyter-widgets/controls"
          }
        },
        "a57242572014470586e0fb915d288f89": {
          "model_module": "@jupyter-widgets/base",
          "model_name": "LayoutModel",
          "state": {
            "_view_name": "LayoutView",
            "grid_template_rows": null,
            "right": null,
            "justify_content": null,
            "_view_module": "@jupyter-widgets/base",
            "overflow": null,
            "_model_module_version": "1.2.0",
            "_view_count": null,
            "flex_flow": null,
            "width": null,
            "min_width": null,
            "border": null,
            "align_items": null,
            "bottom": null,
            "_model_module": "@jupyter-widgets/base",
            "top": null,
            "grid_column": null,
            "overflow_y": null,
            "overflow_x": null,
            "grid_auto_flow": null,
            "grid_area": null,
            "grid_template_columns": null,
            "flex": null,
            "_model_name": "LayoutModel",
            "justify_items": null,
            "grid_row": null,
            "max_height": null,
            "align_content": null,
            "visibility": null,
            "align_self": null,
            "height": null,
            "min_height": null,
            "padding": null,
            "grid_auto_rows": null,
            "grid_gap": null,
            "max_width": null,
            "order": null,
            "_view_module_version": "1.2.0",
            "grid_template_areas": null,
            "object_position": null,
            "object_fit": null,
            "grid_auto_columns": null,
            "margin": null,
            "display": null,
            "left": null
          }
        },
        "049cf86727474c4fa3d4e7c14d0b9dcd": {
          "model_module": "@jupyter-widgets/controls",
          "model_name": "HBoxModel",
          "state": {
            "_view_name": "HBoxView",
            "_dom_classes": [],
            "_model_name": "HBoxModel",
            "_view_module": "@jupyter-widgets/controls",
            "_model_module_version": "1.5.0",
            "_view_count": null,
            "_view_module_version": "1.5.0",
            "box_style": "",
            "layout": "IPY_MODEL_5784bdeb9ceb4e1cabc5de3c3fd62a2f",
            "_model_module": "@jupyter-widgets/controls",
            "children": [
              "IPY_MODEL_a76a09b9dee14a3d83a247f53ba1d40c",
              "IPY_MODEL_d8ca8cd9b0a641a69c027d3fd279324e"
            ]
          }
        },
        "5784bdeb9ceb4e1cabc5de3c3fd62a2f": {
          "model_module": "@jupyter-widgets/base",
          "model_name": "LayoutModel",
          "state": {
            "_view_name": "LayoutView",
            "grid_template_rows": null,
            "right": null,
            "justify_content": null,
            "_view_module": "@jupyter-widgets/base",
            "overflow": null,
            "_model_module_version": "1.2.0",
            "_view_count": null,
            "flex_flow": null,
            "width": null,
            "min_width": null,
            "border": null,
            "align_items": null,
            "bottom": null,
            "_model_module": "@jupyter-widgets/base",
            "top": null,
            "grid_column": null,
            "overflow_y": null,
            "overflow_x": null,
            "grid_auto_flow": null,
            "grid_area": null,
            "grid_template_columns": null,
            "flex": null,
            "_model_name": "LayoutModel",
            "justify_items": null,
            "grid_row": null,
            "max_height": null,
            "align_content": null,
            "visibility": null,
            "align_self": null,
            "height": null,
            "min_height": null,
            "padding": null,
            "grid_auto_rows": null,
            "grid_gap": null,
            "max_width": null,
            "order": null,
            "_view_module_version": "1.2.0",
            "grid_template_areas": null,
            "object_position": null,
            "object_fit": null,
            "grid_auto_columns": null,
            "margin": null,
            "display": null,
            "left": null
          }
        },
        "a76a09b9dee14a3d83a247f53ba1d40c": {
          "model_module": "@jupyter-widgets/controls",
          "model_name": "IntProgressModel",
          "state": {
            "_view_name": "ProgressView",
            "style": "IPY_MODEL_325d17e92ba3416da6ab1dead1720961",
            "_dom_classes": [],
            "description": "",
            "_model_name": "IntProgressModel",
            "bar_style": "success",
            "max": 102,
            "_view_module": "@jupyter-widgets/controls",
            "_model_module_version": "1.5.0",
            "value": 102,
            "_view_count": null,
            "_view_module_version": "1.5.0",
            "orientation": "horizontal",
            "min": 0,
            "description_tooltip": null,
            "_model_module": "@jupyter-widgets/controls",
            "layout": "IPY_MODEL_cd17e3e286a6492481064f6c3c383f5f"
          }
        },
        "d8ca8cd9b0a641a69c027d3fd279324e": {
          "model_module": "@jupyter-widgets/controls",
          "model_name": "HTMLModel",
          "state": {
            "_view_name": "HTMLView",
            "style": "IPY_MODEL_8721ea9b887743e8afb323adcba79af4",
            "_dom_classes": [],
            "description": "",
            "_model_name": "HTMLModel",
            "placeholder": "​",
            "_view_module": "@jupyter-widgets/controls",
            "_model_module_version": "1.5.0",
            "value": "100% 102/102 [00:11&lt;00:00,  9.23it/s]",
            "_view_count": null,
            "_view_module_version": "1.5.0",
            "description_tooltip": null,
            "_model_module": "@jupyter-widgets/controls",
            "layout": "IPY_MODEL_1a1cedf716244b3b9f9d057b584c57af"
          }
        },
        "325d17e92ba3416da6ab1dead1720961": {
          "model_module": "@jupyter-widgets/controls",
          "model_name": "ProgressStyleModel",
          "state": {
            "_view_name": "StyleView",
            "_model_name": "ProgressStyleModel",
            "description_width": "",
            "_view_module": "@jupyter-widgets/base",
            "_model_module_version": "1.5.0",
            "_view_count": null,
            "_view_module_version": "1.2.0",
            "bar_color": null,
            "_model_module": "@jupyter-widgets/controls"
          }
        },
        "cd17e3e286a6492481064f6c3c383f5f": {
          "model_module": "@jupyter-widgets/base",
          "model_name": "LayoutModel",
          "state": {
            "_view_name": "LayoutView",
            "grid_template_rows": null,
            "right": null,
            "justify_content": null,
            "_view_module": "@jupyter-widgets/base",
            "overflow": null,
            "_model_module_version": "1.2.0",
            "_view_count": null,
            "flex_flow": null,
            "width": null,
            "min_width": null,
            "border": null,
            "align_items": null,
            "bottom": null,
            "_model_module": "@jupyter-widgets/base",
            "top": null,
            "grid_column": null,
            "overflow_y": null,
            "overflow_x": null,
            "grid_auto_flow": null,
            "grid_area": null,
            "grid_template_columns": null,
            "flex": null,
            "_model_name": "LayoutModel",
            "justify_items": null,
            "grid_row": null,
            "max_height": null,
            "align_content": null,
            "visibility": null,
            "align_self": null,
            "height": null,
            "min_height": null,
            "padding": null,
            "grid_auto_rows": null,
            "grid_gap": null,
            "max_width": null,
            "order": null,
            "_view_module_version": "1.2.0",
            "grid_template_areas": null,
            "object_position": null,
            "object_fit": null,
            "grid_auto_columns": null,
            "margin": null,
            "display": null,
            "left": null
          }
        },
        "8721ea9b887743e8afb323adcba79af4": {
          "model_module": "@jupyter-widgets/controls",
          "model_name": "DescriptionStyleModel",
          "state": {
            "_view_name": "StyleView",
            "_model_name": "DescriptionStyleModel",
            "description_width": "",
            "_view_module": "@jupyter-widgets/base",
            "_model_module_version": "1.5.0",
            "_view_count": null,
            "_view_module_version": "1.2.0",
            "_model_module": "@jupyter-widgets/controls"
          }
        },
        "1a1cedf716244b3b9f9d057b584c57af": {
          "model_module": "@jupyter-widgets/base",
          "model_name": "LayoutModel",
          "state": {
            "_view_name": "LayoutView",
            "grid_template_rows": null,
            "right": null,
            "justify_content": null,
            "_view_module": "@jupyter-widgets/base",
            "overflow": null,
            "_model_module_version": "1.2.0",
            "_view_count": null,
            "flex_flow": null,
            "width": null,
            "min_width": null,
            "border": null,
            "align_items": null,
            "bottom": null,
            "_model_module": "@jupyter-widgets/base",
            "top": null,
            "grid_column": null,
            "overflow_y": null,
            "overflow_x": null,
            "grid_auto_flow": null,
            "grid_area": null,
            "grid_template_columns": null,
            "flex": null,
            "_model_name": "LayoutModel",
            "justify_items": null,
            "grid_row": null,
            "max_height": null,
            "align_content": null,
            "visibility": null,
            "align_self": null,
            "height": null,
            "min_height": null,
            "padding": null,
            "grid_auto_rows": null,
            "grid_gap": null,
            "max_width": null,
            "order": null,
            "_view_module_version": "1.2.0",
            "grid_template_areas": null,
            "object_position": null,
            "object_fit": null,
            "grid_auto_columns": null,
            "margin": null,
            "display": null,
            "left": null
          }
        }
      }
    }
  },
  "cells": [
    {
      "cell_type": "markdown",
      "metadata": {
        "id": "view-in-github",
        "colab_type": "text"
      },
      "source": [
        "<a href=\"https://colab.research.google.com/github/mridul-eecs/signal-processing-apachesparkml-apachesystemml/blob/master/HumanMotionPrimitivesDetection_ETA.ipynb\" target=\"_parent\"><img src=\"https://colab.research.google.com/assets/colab-badge.svg\" alt=\"Open In Colab\"/></a>"
      ]
    },
    {
      "cell_type": "markdown",
      "metadata": {
        "id": "0oD7Xh2odmUE",
        "colab_type": "text"
      },
      "source": [
        "\n",
        "# Notebook: Extract Transform Load\n"
      ]
    },
    {
      "cell_type": "code",
      "metadata": {
        "id": "6WNWlyYsHQ9G",
        "colab_type": "code",
        "outputId": "d91dba62-9f3a-4fdd-eb4e-5dac33455f59",
        "colab": {
          "base_uri": "https://localhost:8080/",
          "height": 258
        }
      },
      "source": [
        "\n",
        "# spark dependencies:\n",
        "# citation: http://medium.com/@rmache/big-data-with-spark-in-google-colab-7c046e24b3\n",
        "!apt-get install openjdk-8-jdk-headless -qq > /dev/null\n",
        "!wget -q http://apachemirror.wuchna.com/spark/spark-2.4.4/spark-2.4.4-bin-hadoop2.7.tgz\n",
        "!tar xf spark-2.4.4-bin-hadoop2.7.tgz\n",
        "\n",
        "!pip install -q findspark\n",
        "!pip install pyspark"
      ],
      "execution_count": 0,
      "outputs": [
        {
          "output_type": "stream",
          "text": [
            "Collecting pyspark\n",
            "\u001b[?25l  Downloading https://files.pythonhosted.org/packages/87/21/f05c186f4ddb01d15d0ddc36ef4b7e3cedbeb6412274a41f26b55a650ee5/pyspark-2.4.4.tar.gz (215.7MB)\n",
            "\u001b[K     |████████████████████████████████| 215.7MB 60kB/s \n",
            "\u001b[?25hCollecting py4j==0.10.7\n",
            "\u001b[?25l  Downloading https://files.pythonhosted.org/packages/e3/53/c737818eb9a7dc32a7cd4f1396e787bd94200c3997c72c1dbe028587bd76/py4j-0.10.7-py2.py3-none-any.whl (197kB)\n",
            "\u001b[K     |████████████████████████████████| 204kB 49.7MB/s \n",
            "\u001b[?25hBuilding wheels for collected packages: pyspark\n",
            "  Building wheel for pyspark (setup.py) ... \u001b[?25l\u001b[?25hdone\n",
            "  Created wheel for pyspark: filename=pyspark-2.4.4-py2.py3-none-any.whl size=216130387 sha256=3873d546831d484ed557a52ebf9f1aad1ae6ebb8bf4d804616aa5202d140e356\n",
            "  Stored in directory: /root/.cache/pip/wheels/ab/09/4d/0d184230058e654eb1b04467dbc1292f00eaa186544604b471\n",
            "Successfully built pyspark\n",
            "Installing collected packages: py4j, pyspark\n",
            "Successfully installed py4j-0.10.7 pyspark-2.4.4\n"
          ],
          "name": "stdout"
        }
      ]
    },
    {
      "cell_type": "code",
      "metadata": {
        "id": "TzbFrLA4GY3s",
        "colab_type": "code",
        "outputId": "6e3eb7bc-13ca-409a-f34e-35b55336f5c2",
        "colab": {
          "base_uri": "https://localhost:8080/",
          "height": 85
        }
      },
      "source": [
        "!git clone https://github.com/wchill/HMP_Dataset.git"
      ],
      "execution_count": 0,
      "outputs": [
        {
          "output_type": "stream",
          "text": [
            "Cloning into 'HMP_Dataset'...\n",
            "remote: Enumerating objects: 865, done.\u001b[K\n",
            "Receiving objects:   0% (1/865)   \rReceiving objects:   1% (9/865)   \rReceiving objects:   2% (18/865)   \rReceiving objects:   3% (26/865)   \rReceiving objects:   4% (35/865)   \rReceiving objects:   5% (44/865)   \rReceiving objects:   6% (52/865)   \rReceiving objects:   7% (61/865)   \rReceiving objects:   8% (70/865)   \rReceiving objects:   9% (78/865)   \rReceiving objects:  10% (87/865)   \rReceiving objects:  11% (96/865)   \rReceiving objects:  12% (104/865)   \rReceiving objects:  13% (113/865)   \rReceiving objects:  14% (122/865)   \rReceiving objects:  15% (130/865)   \rReceiving objects:  16% (139/865)   \rReceiving objects:  17% (148/865)   \rReceiving objects:  18% (156/865)   \rReceiving objects:  19% (165/865)   \rReceiving objects:  20% (173/865)   \rReceiving objects:  21% (182/865)   \rReceiving objects:  22% (191/865)   \rReceiving objects:  23% (199/865)   \rReceiving objects:  24% (208/865)   \rReceiving objects:  25% (217/865)   \rReceiving objects:  26% (225/865)   \rReceiving objects:  27% (234/865)   \rReceiving objects:  28% (243/865)   \rReceiving objects:  29% (251/865)   \rReceiving objects:  30% (260/865)   \rReceiving objects:  31% (269/865)   \rReceiving objects:  32% (277/865)   \rReceiving objects:  33% (286/865)   \rReceiving objects:  34% (295/865)   \rReceiving objects:  35% (303/865)   \rReceiving objects:  36% (312/865)   \rReceiving objects:  37% (321/865)   \rReceiving objects:  38% (329/865)   \rReceiving objects:  39% (338/865)   \rReceiving objects:  40% (346/865)   \rReceiving objects:  41% (355/865)   \rReceiving objects:  42% (364/865)   \rReceiving objects:  43% (372/865)   \rReceiving objects:  44% (381/865)   \rReceiving objects:  45% (390/865)   \rReceiving objects:  46% (398/865)   \rReceiving objects:  47% (407/865)   \rReceiving objects:  48% (416/865)   \rReceiving objects:  49% (424/865)   \rReceiving objects:  50% (433/865)   \rReceiving objects:  51% (442/865)   \rReceiving objects:  52% (450/865)   \rReceiving objects:  53% (459/865)   \rReceiving objects:  54% (468/865)   \rReceiving objects:  55% (476/865)   \rReceiving objects:  56% (485/865)   \rReceiving objects:  57% (494/865)   \rReceiving objects:  58% (502/865)   \rReceiving objects:  59% (511/865)   \rReceiving objects:  60% (519/865)   \rReceiving objects:  61% (528/865)   \rReceiving objects:  62% (537/865)   \rReceiving objects:  63% (545/865)   \rReceiving objects:  64% (554/865)   \rReceiving objects:  65% (563/865)   \rReceiving objects:  66% (571/865)   \rReceiving objects:  67% (580/865)   \rReceiving objects:  68% (589/865)   \rReceiving objects:  69% (597/865)   \rReceiving objects:  70% (606/865)   \rReceiving objects:  71% (615/865)   \rReceiving objects:  72% (623/865)   \rReceiving objects:  73% (632/865)   \rReceiving objects:  74% (641/865)   \rReceiving objects:  75% (649/865)   \rReceiving objects:  76% (658/865)   \rReceiving objects:  77% (667/865)   \rReceiving objects:  78% (675/865)   \rReceiving objects:  79% (684/865)   \rReceiving objects:  80% (692/865)   \rReceiving objects:  81% (701/865)   \rReceiving objects:  82% (710/865)   \rReceiving objects:  83% (718/865)   \rReceiving objects:  84% (727/865)   \rReceiving objects:  85% (736/865)   \rReceiving objects:  86% (744/865)   \rReceiving objects:  87% (753/865)   \rReceiving objects:  88% (762/865)   \rReceiving objects:  89% (770/865)   \rReceiving objects:  90% (779/865)   \rReceiving objects:  91% (788/865)   \rReceiving objects:  92% (796/865)   \rReceiving objects:  93% (805/865)   \rReceiving objects:  94% (814/865)   \rReceiving objects:  95% (822/865)   \rremote: Total 865 (delta 0), reused 0 (delta 0), pack-reused 865\u001b[K\n",
            "Receiving objects:  96% (831/865)   \rReceiving objects:  97% (840/865)   \rReceiving objects:  98% (848/865)   \rReceiving objects:  99% (857/865)   \rReceiving objects: 100% (865/865)   \rReceiving objects: 100% (865/865), 1010.96 KiB | 12.04 MiB/s, done.\n"
          ],
          "name": "stdout"
        }
      ]
    },
    {
      "cell_type": "code",
      "metadata": {
        "id": "Ww1TDHjreh5J",
        "colab_type": "code",
        "outputId": "a8282e26-9118-4369-dde4-5e4ff265b620",
        "colab": {
          "base_uri": "https://localhost:8080/",
          "height": 581
        }
      },
      "source": [
        "!pip install pixiedust"
      ],
      "execution_count": 0,
      "outputs": [
        {
          "output_type": "stream",
          "text": [
            "Collecting pixiedust\n",
            "\u001b[?25l  Downloading https://files.pythonhosted.org/packages/16/ba/7488f06b48238205562f9d63aaae2303c060c5dfd63b1ddd3bd9d4656eb1/pixiedust-1.1.18.tar.gz (197kB)\n",
            "\u001b[K     |████████████████████████████████| 204kB 2.8MB/s \n",
            "\u001b[?25hCollecting mpld3\n",
            "\u001b[?25l  Downloading https://files.pythonhosted.org/packages/91/95/a52d3a83d0a29ba0d6898f6727e9858fe7a43f6c2ce81a5fe7e05f0f4912/mpld3-0.3.tar.gz (788kB)\n",
            "\u001b[K     |████████████████████████████████| 798kB 48.5MB/s \n",
            "\u001b[?25hRequirement already satisfied: lxml in /usr/local/lib/python3.6/dist-packages (from pixiedust) (4.2.6)\n",
            "Collecting geojson\n",
            "  Downloading https://files.pythonhosted.org/packages/e4/8d/9e28e9af95739e6d2d2f8d4bef0b3432da40b7c3588fbad4298c1be09e48/geojson-2.5.0-py2.py3-none-any.whl\n",
            "Collecting astunparse\n",
            "  Downloading https://files.pythonhosted.org/packages/2b/03/13dde6512ad7b4557eb792fbcf0c653af6076b81e5941d36ec61f7ce6028/astunparse-1.6.3-py2.py3-none-any.whl\n",
            "Requirement already satisfied: markdown in /usr/local/lib/python3.6/dist-packages (from pixiedust) (3.1.1)\n",
            "Collecting colour\n",
            "  Downloading https://files.pythonhosted.org/packages/74/46/e81907704ab203206769dee1385dc77e1407576ff8f50a0681d0a6b541be/colour-0.1.5-py2.py3-none-any.whl\n",
            "Requirement already satisfied: requests in /usr/local/lib/python3.6/dist-packages (from pixiedust) (2.21.0)\n",
            "Requirement already satisfied: six<2.0,>=1.6.1 in /usr/local/lib/python3.6/dist-packages (from astunparse->pixiedust) (1.12.0)\n",
            "Requirement already satisfied: wheel<1.0,>=0.23.0 in /usr/local/lib/python3.6/dist-packages (from astunparse->pixiedust) (0.33.6)\n",
            "Requirement already satisfied: setuptools>=36 in /usr/local/lib/python3.6/dist-packages (from markdown->pixiedust) (42.0.2)\n",
            "Requirement already satisfied: certifi>=2017.4.17 in /usr/local/lib/python3.6/dist-packages (from requests->pixiedust) (2019.11.28)\n",
            "Requirement already satisfied: idna<2.9,>=2.5 in /usr/local/lib/python3.6/dist-packages (from requests->pixiedust) (2.8)\n",
            "Requirement already satisfied: chardet<3.1.0,>=3.0.2 in /usr/local/lib/python3.6/dist-packages (from requests->pixiedust) (3.0.4)\n",
            "Requirement already satisfied: urllib3<1.25,>=1.21.1 in /usr/local/lib/python3.6/dist-packages (from requests->pixiedust) (1.24.3)\n",
            "Building wheels for collected packages: pixiedust, mpld3\n",
            "  Building wheel for pixiedust (setup.py) ... \u001b[?25l\u001b[?25hdone\n",
            "  Created wheel for pixiedust: filename=pixiedust-1.1.18-cp36-none-any.whl size=321728 sha256=ce95df1c0a173aad5b444a27e2b3a893b6dfc0122842a72c523f0ca7b877d022\n",
            "  Stored in directory: /root/.cache/pip/wheels/e8/b1/86/c2f2e16e6bf9bfe556f9dbf8adb9f41816c476d73078c7d0eb\n",
            "  Building wheel for mpld3 (setup.py) ... \u001b[?25l\u001b[?25hdone\n",
            "  Created wheel for mpld3: filename=mpld3-0.3-cp36-none-any.whl size=116679 sha256=05b1051f129e522fe63249859e37f9aa78deadc5e8c29b43c661dac7bceeba00\n",
            "  Stored in directory: /root/.cache/pip/wheels/c0/47/fb/8a64f89aecfe0059830479308ad42d62e898a3e3cefdf6ba28\n",
            "Successfully built pixiedust mpld3\n",
            "Installing collected packages: mpld3, geojson, astunparse, colour, pixiedust\n",
            "Successfully installed astunparse-1.6.3 colour-0.1.5 geojson-2.5.0 mpld3-0.3 pixiedust-1.1.18\n"
          ],
          "name": "stdout"
        }
      ]
    },
    {
      "cell_type": "code",
      "metadata": {
        "id": "eFAObmGHT1Nq",
        "colab_type": "code",
        "colab": {}
      },
      "source": [
        "from pyspark.sql import SparkSession\n",
        "from pyspark.sql.types import StructField, StructType, IntegerType\n",
        "from pyspark.sql.functions import lit\n",
        "import os\n",
        "from tqdm import tqdm_notebook as tqdm\n",
        "import pixiedust\n",
        "pixiedust.get_ipython()\n",
        "\n",
        "os.environ[\"JAVA_HOME\"] = \"/usr/lib/jvm/java-8-openjdk-amd64\"\n",
        "os.environ[\"SPARK_HOME\"] = \"/content/spark-2.4.4-bin-hadoop2.7\"\n",
        "\n",
        "\n",
        "import findspark\n",
        "findspark.init()\n",
        "\n",
        "APP_NAME= \"Human Motion Premitives\"\n",
        "SPARK_URL= \"local[*]\"\n",
        "RANDOM_SEED = 141109\n",
        "TRAINING_DATA_RATIO = 0.7\n",
        "RF_NUM_TREES = 8\n",
        "RF_MAX_DEPTH = 4\n",
        "RF_NUM_BINS = 32"
      ],
      "execution_count": 0,
      "outputs": []
    },
    {
      "cell_type": "code",
      "metadata": {
        "id": "U4YjdnUzGijZ",
        "colab_type": "code",
        "outputId": "d30cf785-7375-4485-af22-530e2c7121c9",
        "colab": {
          "base_uri": "https://localhost:8080/",
          "height": 255
        }
      },
      "source": [
        "import os\n",
        "basedir= 'HMP_Dataset'\n",
        "activitylist= os.listdir(basedir)\n",
        "activitylist= [x for x in activitylist if \n",
        "               (os.path.isdir(os.path.join(basedir, x)) and not x.startswith('.'))]\n",
        "activitylist"
      ],
      "execution_count": 0,
      "outputs": [
        {
          "output_type": "execute_result",
          "data": {
            "text/plain": [
              "['Descend_stairs',\n",
              " 'Comb_hair',\n",
              " 'Drink_glass',\n",
              " 'Eat_soup',\n",
              " 'Walk',\n",
              " 'Sitdown_chair',\n",
              " 'Climb_stairs',\n",
              " 'Getup_bed',\n",
              " 'Brush_teeth',\n",
              " 'Liedown_bed',\n",
              " 'Pour_water',\n",
              " 'Use_telephone',\n",
              " 'Eat_meat',\n",
              " 'Standup_chair']"
            ]
          },
          "metadata": {
            "tags": []
          },
          "execution_count": 3
        }
      ]
    },
    {
      "cell_type": "code",
      "metadata": {
        "id": "5OWhpD2EG9Xw",
        "colab_type": "code",
        "outputId": "67756e41-daca-4adc-e7ab-0652493a9af3",
        "colab": {
          "base_uri": "https://localhost:8080/",
          "height": 941,
          "referenced_widgets": [
            "8e024f3f6fe14662bd566672c3ecfc0d",
            "5fabfdc175f843fead08366e38128716",
            "1b45877b492b4e74a0517cf8fa5f7dc5",
            "b086768b58494f0c89197ba6b8f9e962",
            "a952288db2a846ce8771c824081b39a2",
            "9ea31288cbcb4e279674a8655115b5a3",
            "ad8ee0246fcc4e2889b255a57af54c61",
            "efb27969ed46451581ebc14fe3f01cf6",
            "adbefb32d2e0450a811637f99489a651",
            "b36c3090efa44162b4c05fe6d13a263a",
            "7212a24db85a4f54b4456eb629550ab2",
            "b6b36d1d796249819f024ec00cb80de0",
            "3e1f7c313d3b4f57931bfbe8dd3a8f8e",
            "b48f6ff59f094b6bb08b85d943510e16",
            "797dc14fd61845cea1d830fe0b114152",
            "3d4dbb21c3784ae49df3621267f02f0e",
            "1d32075a4bef476c8f46f7ed21f9bf4f",
            "3aa7c5057dad4f74ab74abdfc6112d2a",
            "2a288bfc5dde4d2090655ddea68defd2",
            "5fb56fa93f9d47338cb2ff6f135eb5f2",
            "5cf66ee570e14e9caebf1c1cc2c5702b",
            "9c00a888844f43f0a52000800aa7d770",
            "e3d6fd271738457caa9171fefaee02ca",
            "d26e64b7334f445b8f79218139d8527d",
            "49dffe1564fc4dd690b2d21803e5157a",
            "a579709ef2a742bdbe011fc22c6ca102",
            "955ca740f1a640409b84730f39fcfacf",
            "b7bdb0776c594ca38a82de8e6e9e600d",
            "f0f9565a54494806996b0db758c995a2",
            "8670f47a830d47debadb0f5c4eea8cb4",
            "1c29e92395a44502a430e870b69f025f",
            "27b9e29bd259486882036426dd30057d",
            "906c92c8f6804efa8ae38c82cc20e7a6",
            "b02196b28a7e42aa9aafcc1415b1059a",
            "ff67bffa1e4148cabee1631185150453",
            "e6d34c3527c648278733e51a288f4465",
            "10d8cd0482564d5386e50a4009cdd01c",
            "86d0a572896c4acc9641c82b139c10d1",
            "4235e3c5417d406ba385c978a4f9a4d2",
            "b97c05031bf84667bb699dc5d2093b63",
            "99a1e1d4eaf14540a5d5218f2cdb719d",
            "d91d7cb96a744b66a50e2a37f1008ced",
            "da555d5713254f9598d4a1c663856e27",
            "004ca1d3a9ca40989d150090f5ce8954",
            "87009e753c8940ed9c108f72fd16c6c1",
            "4c8a749ee6b9465fbe31361d7078c990",
            "b7cf88d062c041369ae2aaaaea723dfa",
            "bbd279b4f3994bd191a4581241d07712",
            "94eaf71eda0043e28280898b595093d9",
            "7281a52e46734f58b666863ae233abc5",
            "497bd0434c4d4e138b78acbeab77f9a0",
            "aa1965bfb79548bd8f2d09cde4184598",
            "972dc38c9bf24674963191c05c8f9ea7",
            "9860290e15b0424bbbfad24263fac7f3",
            "89bab8d698824214a0812db213bd78a1",
            "49dd2c85826c4b1ba9f8b2e838665c14",
            "78c2cdc527aa413da9acbfa80fdf7389",
            "d3f36ddf714246dfa5d431b9aa1951b6",
            "9a56aeccb14d4e308a4c390811f6b683",
            "d2c1a9c88bf7449b99ba88192a76398e",
            "4aaac071566c4379860a5dd74f7e9e27",
            "8647b722d7f846c9a3f539d1afa8f6c2",
            "75dc3000d72e449d8f9d24c4a12a3741",
            "f28afc97afbc48a5ab347de31013e425",
            "f44c451c4d5b4d8bae61565b626ee78e",
            "d8ed62fea25e429f8e17e5f1d06cc631",
            "aaa8ab2bf67245f79c6ccff16c8ffe65",
            "fd2799a4d291417a96441e17e4b4da77",
            "47a09602b69d4038ad8000c3bedce724",
            "3bc445a9c78f40d693ce207ae6e7b81f",
            "3c25e651a5df419bb30cd35b68d8fb8b",
            "270f3be091714805a4b5d8e042885914",
            "411f357707c844018921913f2c55ddd8",
            "2b547ce6992d43208409025875fb5e8d",
            "cef285ed942a4223bac45b9488c68783",
            "481774400b114de98e0c9de6f58da67e",
            "d43d0546901243c7a40cac6f7e78bcf6",
            "5824f435bda94c618c17b18e109da73c",
            "80858dad64b24c3188ce7dc6173bd092",
            "72ee158ea79a4522a9b6571b8e0d7f88",
            "f3df2cb169fe4a4d9917509227691e51",
            "ba0e5d33bf154ddb8c124c6ce7bf2679",
            "131968eec94f4bf19c482d67f3fc0b17",
            "1f035c554e8a4d8e9dd452d2ec51f47e",
            "e85c18190e244d9d81c4f459b960a8ac",
            "b04128afcb3a4895a62618584f027c4c",
            "7a7848123b404d26be7343d0408b8136",
            "d8670a48577547048c02dbc2a05590f0",
            "071b25eb1c95462689d1515b88d18b8f",
            "136ab1cdbca3474cbd54623c0b4c096f",
            "271d849aaba24000b14fb0f71ac56ad0",
            "4d39686c65194b4fb093ec6b85d38902",
            "14f8826ff68e466cb8416ac4aee20e97",
            "ea2b6c5d89fa467b951279ed19dc3aef",
            "6c34398625bf4d32b5f3deb379eedd1d",
            "24feb8eef37c498d994f84a29024d1a6",
            "b321d0df53644278bbcd6f714d5b0e23",
            "72d0e2688e484dbcb9f1a4d0d58a4088",
            "eb95e5dc5c05414b991f39f6fa04ca1d",
            "9d9e040e83624567b7f2c3395217aa81",
            "96fc81a39844448083567b6ea3a4fa98",
            "31948f5e983044408ef85f7599ea4593",
            "f133e7871cc2421b9c09e99d4dc760af",
            "a57242572014470586e0fb915d288f89",
            "049cf86727474c4fa3d4e7c14d0b9dcd",
            "5784bdeb9ceb4e1cabc5de3c3fd62a2f",
            "a76a09b9dee14a3d83a247f53ba1d40c",
            "d8ca8cd9b0a641a69c027d3fd279324e",
            "325d17e92ba3416da6ab1dead1720961",
            "cd17e3e286a6492481064f6c3c383f5f",
            "8721ea9b887743e8afb323adcba79af4",
            "1a1cedf716244b3b9f9d057b584c57af"
          ]
        }
      },
      "source": [
        "spark= SparkSession.builder.appName(APP_NAME).master(SPARK_URL).getOrCreate()\n",
        "df= None\n",
        "schema= StructType([\n",
        "                    StructField('x', IntegerType(), True),\n",
        "                    StructField('y', IntegerType(), True),\n",
        "                    StructField('z', IntegerType(), True),\n",
        "])\n",
        "for category in activitylist:\n",
        "  datafiles= os.listdir(os.path.join(basedir, category))\n",
        "  print('Collecting', category)\n",
        "  for datafile in tqdm(datafiles):\n",
        "    temp_df= spark.read.option('header', 'false').option(\n",
        "        'delimiter', ' ').csv(os.path.join(basedir, category, datafile), schema= schema)\n",
        "    temp_df= temp_df.withColumn('class', lit(category))\n",
        "    if df == None:\n",
        "      df= temp_df\n",
        "    else:\n",
        "      df= df.union(temp_df)"
      ],
      "execution_count": 0,
      "outputs": [
        {
          "output_type": "stream",
          "text": [
            "Collecting Descend_stairs\n"
          ],
          "name": "stdout"
        },
        {
          "output_type": "display_data",
          "data": {
            "application/vnd.jupyter.widget-view+json": {
              "model_id": "8e024f3f6fe14662bd566672c3ecfc0d",
              "version_minor": 0,
              "version_major": 2
            },
            "text/plain": [
              "HBox(children=(IntProgress(value=0, max=42), HTML(value='')))"
            ]
          },
          "metadata": {
            "tags": []
          }
        },
        {
          "output_type": "stream",
          "text": [
            "\n",
            "Collecting Comb_hair\n"
          ],
          "name": "stdout"
        },
        {
          "output_type": "display_data",
          "data": {
            "application/vnd.jupyter.widget-view+json": {
              "model_id": "adbefb32d2e0450a811637f99489a651",
              "version_minor": 0,
              "version_major": 2
            },
            "text/plain": [
              "HBox(children=(IntProgress(value=0, max=31), HTML(value='')))"
            ]
          },
          "metadata": {
            "tags": []
          }
        },
        {
          "output_type": "stream",
          "text": [
            "\n",
            "Collecting Drink_glass\n"
          ],
          "name": "stdout"
        },
        {
          "output_type": "display_data",
          "data": {
            "application/vnd.jupyter.widget-view+json": {
              "model_id": "1d32075a4bef476c8f46f7ed21f9bf4f",
              "version_minor": 0,
              "version_major": 2
            },
            "text/plain": [
              "HBox(children=(IntProgress(value=0), HTML(value='')))"
            ]
          },
          "metadata": {
            "tags": []
          }
        },
        {
          "output_type": "stream",
          "text": [
            "\n",
            "Collecting Eat_soup\n"
          ],
          "name": "stdout"
        },
        {
          "output_type": "display_data",
          "data": {
            "application/vnd.jupyter.widget-view+json": {
              "model_id": "49dffe1564fc4dd690b2d21803e5157a",
              "version_minor": 0,
              "version_major": 2
            },
            "text/plain": [
              "HBox(children=(IntProgress(value=0, max=3), HTML(value='')))"
            ]
          },
          "metadata": {
            "tags": []
          }
        },
        {
          "output_type": "stream",
          "text": [
            "\n",
            "Collecting Walk\n"
          ],
          "name": "stdout"
        },
        {
          "output_type": "display_data",
          "data": {
            "application/vnd.jupyter.widget-view+json": {
              "model_id": "906c92c8f6804efa8ae38c82cc20e7a6",
              "version_minor": 0,
              "version_major": 2
            },
            "text/plain": [
              "HBox(children=(IntProgress(value=0), HTML(value='')))"
            ]
          },
          "metadata": {
            "tags": []
          }
        },
        {
          "output_type": "stream",
          "text": [
            "\n",
            "Collecting Sitdown_chair\n"
          ],
          "name": "stdout"
        },
        {
          "output_type": "display_data",
          "data": {
            "application/vnd.jupyter.widget-view+json": {
              "model_id": "99a1e1d4eaf14540a5d5218f2cdb719d",
              "version_minor": 0,
              "version_major": 2
            },
            "text/plain": [
              "HBox(children=(IntProgress(value=0), HTML(value='')))"
            ]
          },
          "metadata": {
            "tags": []
          }
        },
        {
          "output_type": "stream",
          "text": [
            "\n",
            "Collecting Climb_stairs\n"
          ],
          "name": "stdout"
        },
        {
          "output_type": "display_data",
          "data": {
            "application/vnd.jupyter.widget-view+json": {
              "model_id": "94eaf71eda0043e28280898b595093d9",
              "version_minor": 0,
              "version_major": 2
            },
            "text/plain": [
              "HBox(children=(IntProgress(value=0, max=102), HTML(value='')))"
            ]
          },
          "metadata": {
            "tags": []
          }
        },
        {
          "output_type": "stream",
          "text": [
            "\n",
            "Collecting Getup_bed\n"
          ],
          "name": "stdout"
        },
        {
          "output_type": "display_data",
          "data": {
            "application/vnd.jupyter.widget-view+json": {
              "model_id": "78c2cdc527aa413da9acbfa80fdf7389",
              "version_minor": 0,
              "version_major": 2
            },
            "text/plain": [
              "HBox(children=(IntProgress(value=0, max=101), HTML(value='')))"
            ]
          },
          "metadata": {
            "tags": []
          }
        },
        {
          "output_type": "stream",
          "text": [
            "\n",
            "Collecting Brush_teeth\n"
          ],
          "name": "stdout"
        },
        {
          "output_type": "display_data",
          "data": {
            "application/vnd.jupyter.widget-view+json": {
              "model_id": "f44c451c4d5b4d8bae61565b626ee78e",
              "version_minor": 0,
              "version_major": 2
            },
            "text/plain": [
              "HBox(children=(IntProgress(value=0, max=12), HTML(value='')))"
            ]
          },
          "metadata": {
            "tags": []
          }
        },
        {
          "output_type": "stream",
          "text": [
            "\n",
            "Collecting Liedown_bed\n"
          ],
          "name": "stdout"
        },
        {
          "output_type": "display_data",
          "data": {
            "application/vnd.jupyter.widget-view+json": {
              "model_id": "411f357707c844018921913f2c55ddd8",
              "version_minor": 0,
              "version_major": 2
            },
            "text/plain": [
              "HBox(children=(IntProgress(value=0, max=28), HTML(value='')))"
            ]
          },
          "metadata": {
            "tags": []
          }
        },
        {
          "output_type": "stream",
          "text": [
            "\n",
            "Collecting Pour_water\n"
          ],
          "name": "stdout"
        },
        {
          "output_type": "display_data",
          "data": {
            "application/vnd.jupyter.widget-view+json": {
              "model_id": "f3df2cb169fe4a4d9917509227691e51",
              "version_minor": 0,
              "version_major": 2
            },
            "text/plain": [
              "HBox(children=(IntProgress(value=0), HTML(value='')))"
            ]
          },
          "metadata": {
            "tags": []
          }
        },
        {
          "output_type": "stream",
          "text": [
            "\n",
            "Collecting Use_telephone\n"
          ],
          "name": "stdout"
        },
        {
          "output_type": "display_data",
          "data": {
            "application/vnd.jupyter.widget-view+json": {
              "model_id": "071b25eb1c95462689d1515b88d18b8f",
              "version_minor": 0,
              "version_major": 2
            },
            "text/plain": [
              "HBox(children=(IntProgress(value=0, max=13), HTML(value='')))"
            ]
          },
          "metadata": {
            "tags": []
          }
        },
        {
          "output_type": "stream",
          "text": [
            "\n",
            "Collecting Eat_meat\n"
          ],
          "name": "stdout"
        },
        {
          "output_type": "display_data",
          "data": {
            "application/vnd.jupyter.widget-view+json": {
              "model_id": "b321d0df53644278bbcd6f714d5b0e23",
              "version_minor": 0,
              "version_major": 2
            },
            "text/plain": [
              "HBox(children=(IntProgress(value=0, max=5), HTML(value='')))"
            ]
          },
          "metadata": {
            "tags": []
          }
        },
        {
          "output_type": "stream",
          "text": [
            "\n",
            "Collecting Standup_chair\n"
          ],
          "name": "stdout"
        },
        {
          "output_type": "display_data",
          "data": {
            "application/vnd.jupyter.widget-view+json": {
              "model_id": "049cf86727474c4fa3d4e7c14d0b9dcd",
              "version_minor": 0,
              "version_major": 2
            },
            "text/plain": [
              "HBox(children=(IntProgress(value=0, max=102), HTML(value='')))"
            ]
          },
          "metadata": {
            "tags": []
          }
        },
        {
          "output_type": "stream",
          "text": [
            "\n"
          ],
          "name": "stdout"
        }
      ]
    },
    {
      "cell_type": "code",
      "metadata": {
        "id": "qzAD8ZqrQGXl",
        "colab_type": "code",
        "outputId": "c6fb391f-8f90-4bdd-cf1c-478515e82556",
        "colab": {
          "base_uri": "https://localhost:8080/",
          "height": 459
        }
      },
      "source": [
        "df.show()"
      ],
      "execution_count": 0,
      "outputs": [
        {
          "output_type": "stream",
          "text": [
            "+---+---+---+--------------+\n",
            "|  x|  y|  z|         class|\n",
            "+---+---+---+--------------+\n",
            "| 36| 44| 43|Descend_stairs|\n",
            "| 36| 44| 43|Descend_stairs|\n",
            "| 36| 38| 41|Descend_stairs|\n",
            "| 36| 38| 41|Descend_stairs|\n",
            "| 36| 40| 42|Descend_stairs|\n",
            "| 33| 44| 45|Descend_stairs|\n",
            "| 32| 41| 43|Descend_stairs|\n",
            "| 32| 44| 45|Descend_stairs|\n",
            "| 29| 49| 48|Descend_stairs|\n",
            "| 27| 44| 44|Descend_stairs|\n",
            "| 25| 53| 45|Descend_stairs|\n",
            "| 22| 53| 45|Descend_stairs|\n",
            "| 22| 46| 40|Descend_stairs|\n",
            "| 20| 47| 39|Descend_stairs|\n",
            "| 18| 48| 39|Descend_stairs|\n",
            "| 19| 45| 38|Descend_stairs|\n",
            "| 16| 43| 36|Descend_stairs|\n",
            "| 18| 46| 37|Descend_stairs|\n",
            "| 16| 44| 37|Descend_stairs|\n",
            "| 16| 43| 36|Descend_stairs|\n",
            "+---+---+---+--------------+\n",
            "only showing top 20 rows\n",
            "\n"
          ],
          "name": "stdout"
        }
      ]
    },
    {
      "cell_type": "code",
      "metadata": {
        "id": "TjH73po7WiKG",
        "colab_type": "code",
        "outputId": "5a11d1aa-e69b-48a9-9b6e-1eed63805b36",
        "colab": {
          "base_uri": "https://localhost:8080/",
          "height": 459
        }
      },
      "source": [
        "from pyspark.ml.feature import StringIndexer\n",
        "\n",
        "indexer= StringIndexer(inputCol= 'class', outputCol= 'class_idx')\n",
        "indexed= indexer.fit(df).transform(df)\n",
        "indexed.show()"
      ],
      "execution_count": 0,
      "outputs": [
        {
          "output_type": "stream",
          "text": [
            "+---+---+---+--------------+---------+\n",
            "|  x|  y|  z|         class|class_idx|\n",
            "+---+---+---+--------------+---------+\n",
            "| 36| 44| 43|Descend_stairs|     10.0|\n",
            "| 36| 44| 43|Descend_stairs|     10.0|\n",
            "| 36| 38| 41|Descend_stairs|     10.0|\n",
            "| 36| 38| 41|Descend_stairs|     10.0|\n",
            "| 36| 40| 42|Descend_stairs|     10.0|\n",
            "| 33| 44| 45|Descend_stairs|     10.0|\n",
            "| 32| 41| 43|Descend_stairs|     10.0|\n",
            "| 32| 44| 45|Descend_stairs|     10.0|\n",
            "| 29| 49| 48|Descend_stairs|     10.0|\n",
            "| 27| 44| 44|Descend_stairs|     10.0|\n",
            "| 25| 53| 45|Descend_stairs|     10.0|\n",
            "| 22| 53| 45|Descend_stairs|     10.0|\n",
            "| 22| 46| 40|Descend_stairs|     10.0|\n",
            "| 20| 47| 39|Descend_stairs|     10.0|\n",
            "| 18| 48| 39|Descend_stairs|     10.0|\n",
            "| 19| 45| 38|Descend_stairs|     10.0|\n",
            "| 16| 43| 36|Descend_stairs|     10.0|\n",
            "| 18| 46| 37|Descend_stairs|     10.0|\n",
            "| 16| 44| 37|Descend_stairs|     10.0|\n",
            "| 16| 43| 36|Descend_stairs|     10.0|\n",
            "+---+---+---+--------------+---------+\n",
            "only showing top 20 rows\n",
            "\n"
          ],
          "name": "stdout"
        }
      ]
    },
    {
      "cell_type": "code",
      "metadata": {
        "id": "5nD61hgtWkoE",
        "colab_type": "code",
        "outputId": "e3d6c2eb-9d6a-40da-eff1-40c1563bcdcb",
        "colab": {
          "base_uri": "https://localhost:8080/",
          "height": 459
        }
      },
      "source": [
        "from pyspark.ml.feature import OneHotEncoder\n",
        "\n",
        "encode= OneHotEncoder(inputCol= 'class_idx', outputCol= 'class_onehot')\n",
        "encoded= encode.transform(indexed)\n",
        "encoded.show()"
      ],
      "execution_count": 0,
      "outputs": [
        {
          "output_type": "stream",
          "text": [
            "+---+---+---+--------------+---------+---------------+\n",
            "|  x|  y|  z|         class|class_idx|   class_onehot|\n",
            "+---+---+---+--------------+---------+---------------+\n",
            "| 36| 44| 43|Descend_stairs|     10.0|(13,[10],[1.0])|\n",
            "| 36| 44| 43|Descend_stairs|     10.0|(13,[10],[1.0])|\n",
            "| 36| 38| 41|Descend_stairs|     10.0|(13,[10],[1.0])|\n",
            "| 36| 38| 41|Descend_stairs|     10.0|(13,[10],[1.0])|\n",
            "| 36| 40| 42|Descend_stairs|     10.0|(13,[10],[1.0])|\n",
            "| 33| 44| 45|Descend_stairs|     10.0|(13,[10],[1.0])|\n",
            "| 32| 41| 43|Descend_stairs|     10.0|(13,[10],[1.0])|\n",
            "| 32| 44| 45|Descend_stairs|     10.0|(13,[10],[1.0])|\n",
            "| 29| 49| 48|Descend_stairs|     10.0|(13,[10],[1.0])|\n",
            "| 27| 44| 44|Descend_stairs|     10.0|(13,[10],[1.0])|\n",
            "| 25| 53| 45|Descend_stairs|     10.0|(13,[10],[1.0])|\n",
            "| 22| 53| 45|Descend_stairs|     10.0|(13,[10],[1.0])|\n",
            "| 22| 46| 40|Descend_stairs|     10.0|(13,[10],[1.0])|\n",
            "| 20| 47| 39|Descend_stairs|     10.0|(13,[10],[1.0])|\n",
            "| 18| 48| 39|Descend_stairs|     10.0|(13,[10],[1.0])|\n",
            "| 19| 45| 38|Descend_stairs|     10.0|(13,[10],[1.0])|\n",
            "| 16| 43| 36|Descend_stairs|     10.0|(13,[10],[1.0])|\n",
            "| 18| 46| 37|Descend_stairs|     10.0|(13,[10],[1.0])|\n",
            "| 16| 44| 37|Descend_stairs|     10.0|(13,[10],[1.0])|\n",
            "| 16| 43| 36|Descend_stairs|     10.0|(13,[10],[1.0])|\n",
            "+---+---+---+--------------+---------+---------------+\n",
            "only showing top 20 rows\n",
            "\n"
          ],
          "name": "stdout"
        }
      ]
    },
    {
      "cell_type": "code",
      "metadata": {
        "id": "bLORaY9FiaSe",
        "colab_type": "code",
        "outputId": "471d4d0c-95a2-421f-cfcd-0f1d8f99ec2f",
        "colab": {
          "base_uri": "https://localhost:8080/",
          "height": 459
        }
      },
      "source": [
        "from pyspark.ml.linalg import Vectors\n",
        "from pyspark.ml.feature import VectorAssembler, Normalizer\n",
        "\n",
        "assembler= VectorAssembler(inputCols= ['x', 'y', 'z'], outputCol= 'features')\n",
        "featurized= assembler.transform(encoded)\n",
        "featurized.show()"
      ],
      "execution_count": 0,
      "outputs": [
        {
          "output_type": "stream",
          "text": [
            "+---+---+---+--------------+---------+---------------+----------------+\n",
            "|  x|  y|  z|         class|class_idx|   class_onehot|        features|\n",
            "+---+---+---+--------------+---------+---------------+----------------+\n",
            "| 36| 44| 43|Descend_stairs|     10.0|(13,[10],[1.0])|[36.0,44.0,43.0]|\n",
            "| 36| 44| 43|Descend_stairs|     10.0|(13,[10],[1.0])|[36.0,44.0,43.0]|\n",
            "| 36| 38| 41|Descend_stairs|     10.0|(13,[10],[1.0])|[36.0,38.0,41.0]|\n",
            "| 36| 38| 41|Descend_stairs|     10.0|(13,[10],[1.0])|[36.0,38.0,41.0]|\n",
            "| 36| 40| 42|Descend_stairs|     10.0|(13,[10],[1.0])|[36.0,40.0,42.0]|\n",
            "| 33| 44| 45|Descend_stairs|     10.0|(13,[10],[1.0])|[33.0,44.0,45.0]|\n",
            "| 32| 41| 43|Descend_stairs|     10.0|(13,[10],[1.0])|[32.0,41.0,43.0]|\n",
            "| 32| 44| 45|Descend_stairs|     10.0|(13,[10],[1.0])|[32.0,44.0,45.0]|\n",
            "| 29| 49| 48|Descend_stairs|     10.0|(13,[10],[1.0])|[29.0,49.0,48.0]|\n",
            "| 27| 44| 44|Descend_stairs|     10.0|(13,[10],[1.0])|[27.0,44.0,44.0]|\n",
            "| 25| 53| 45|Descend_stairs|     10.0|(13,[10],[1.0])|[25.0,53.0,45.0]|\n",
            "| 22| 53| 45|Descend_stairs|     10.0|(13,[10],[1.0])|[22.0,53.0,45.0]|\n",
            "| 22| 46| 40|Descend_stairs|     10.0|(13,[10],[1.0])|[22.0,46.0,40.0]|\n",
            "| 20| 47| 39|Descend_stairs|     10.0|(13,[10],[1.0])|[20.0,47.0,39.0]|\n",
            "| 18| 48| 39|Descend_stairs|     10.0|(13,[10],[1.0])|[18.0,48.0,39.0]|\n",
            "| 19| 45| 38|Descend_stairs|     10.0|(13,[10],[1.0])|[19.0,45.0,38.0]|\n",
            "| 16| 43| 36|Descend_stairs|     10.0|(13,[10],[1.0])|[16.0,43.0,36.0]|\n",
            "| 18| 46| 37|Descend_stairs|     10.0|(13,[10],[1.0])|[18.0,46.0,37.0]|\n",
            "| 16| 44| 37|Descend_stairs|     10.0|(13,[10],[1.0])|[16.0,44.0,37.0]|\n",
            "| 16| 43| 36|Descend_stairs|     10.0|(13,[10],[1.0])|[16.0,43.0,36.0]|\n",
            "+---+---+---+--------------+---------+---------------+----------------+\n",
            "only showing top 20 rows\n",
            "\n"
          ],
          "name": "stdout"
        }
      ]
    },
    {
      "cell_type": "code",
      "metadata": {
        "id": "e7RUuSzOjVFE",
        "colab_type": "code",
        "outputId": "927c6ed1-6158-49e7-8e70-c0183cf3ffa3",
        "colab": {
          "base_uri": "https://localhost:8080/",
          "height": 459
        }
      },
      "source": [
        "normalizer= Normalizer(inputCol= 'features', outputCol= 'norm_feats')\n",
        "normfeats= normalizer.transform(featurized)\n",
        "\n",
        "normfeats.show()"
      ],
      "execution_count": 0,
      "outputs": [
        {
          "output_type": "stream",
          "text": [
            "+---+---+---+--------------+---------+---------------+----------------+--------------------+\n",
            "|  x|  y|  z|         class|class_idx|   class_onehot|        features|          norm_feats|\n",
            "+---+---+---+--------------+---------+---------------+----------------+--------------------+\n",
            "| 36| 44| 43|Descend_stairs|     10.0|(13,[10],[1.0])|[36.0,44.0,43.0]|[0.50504247348087...|\n",
            "| 36| 44| 43|Descend_stairs|     10.0|(13,[10],[1.0])|[36.0,44.0,43.0]|[0.50504247348087...|\n",
            "| 36| 38| 41|Descend_stairs|     10.0|(13,[10],[1.0])|[36.0,38.0,41.0]|[0.54142990957308...|\n",
            "| 36| 38| 41|Descend_stairs|     10.0|(13,[10],[1.0])|[36.0,38.0,41.0]|[0.54142990957308...|\n",
            "| 36| 40| 42|Descend_stairs|     10.0|(13,[10],[1.0])|[36.0,40.0,42.0]|[0.52736286177814...|\n",
            "| 33| 44| 45|Descend_stairs|     10.0|(13,[10],[1.0])|[33.0,44.0,45.0]|[0.46437437952199...|\n",
            "| 32| 41| 43|Descend_stairs|     10.0|(13,[10],[1.0])|[32.0,41.0,43.0]|[0.47419117277267...|\n",
            "| 32| 44| 45|Descend_stairs|     10.0|(13,[10],[1.0])|[32.0,44.0,45.0]|[0.45322869364840...|\n",
            "| 29| 49| 48|Descend_stairs|     10.0|(13,[10],[1.0])|[29.0,49.0,48.0]|[0.38941086555745...|\n",
            "| 27| 44| 44|Descend_stairs|     10.0|(13,[10],[1.0])|[27.0,44.0,44.0]|[0.39805001766312...|\n",
            "| 25| 53| 45|Descend_stairs|     10.0|(13,[10],[1.0])|[25.0,53.0,45.0]|[0.33836346330950...|\n",
            "| 22| 53| 45|Descend_stairs|     10.0|(13,[10],[1.0])|[22.0,53.0,45.0]|[0.30168138576690...|\n",
            "| 22| 46| 40|Descend_stairs|     10.0|(13,[10],[1.0])|[22.0,46.0,40.0]|[0.33946736991660...|\n",
            "| 20| 47| 39|Descend_stairs|     10.0|(13,[10],[1.0])|[20.0,47.0,39.0]|[0.31121102204473...|\n",
            "| 18| 48| 39|Descend_stairs|     10.0|(13,[10],[1.0])|[18.0,48.0,39.0]|[0.27944785969957...|\n",
            "| 19| 45| 38|Descend_stairs|     10.0|(13,[10],[1.0])|[19.0,45.0,38.0]|[0.30701119633268...|\n",
            "| 16| 43| 36|Descend_stairs|     10.0|(13,[10],[1.0])|[16.0,43.0,36.0]|[0.27435739251887...|\n",
            "| 18| 46| 37|Descend_stairs|     10.0|(13,[10],[1.0])|[18.0,46.0,37.0]|[0.29165338328776...|\n",
            "| 16| 44| 37|Descend_stairs|     10.0|(13,[10],[1.0])|[16.0,44.0,37.0]|[0.26812295418744...|\n",
            "| 16| 43| 36|Descend_stairs|     10.0|(13,[10],[1.0])|[16.0,43.0,36.0]|[0.27435739251887...|\n",
            "+---+---+---+--------------+---------+---------------+----------------+--------------------+\n",
            "only showing top 20 rows\n",
            "\n"
          ],
          "name": "stdout"
        }
      ]
    },
    {
      "cell_type": "code",
      "metadata": {
        "id": "QRW3S5IzkBhf",
        "colab_type": "code",
        "colab": {}
      },
      "source": [
        "# All of the above in a pipeline"
      ],
      "execution_count": 0,
      "outputs": []
    },
    {
      "cell_type": "code",
      "metadata": {
        "id": "fWS57hhtkLii",
        "colab_type": "code",
        "outputId": "dcde5adb-4346-4135-9858-5b19538c84f8",
        "colab": {
          "base_uri": "https://localhost:8080/",
          "height": 459
        }
      },
      "source": [
        "from pyspark.ml import Pipeline\n",
        "\n",
        "indexer= StringIndexer(inputCol= 'class', outputCol= 'class_idx')\n",
        "encode= OneHotEncoder(inputCol= 'class_idx', outputCol= 'class_onehot')\n",
        "assembler= VectorAssembler(inputCols= ['x', 'y', 'z'], outputCol= 'features')\n",
        "normalizer= Normalizer(inputCol= 'features', outputCol= 'norm_feats')\n",
        "\n",
        "pipe= Pipeline(stages= [indexer, encode, assembler, normalizer])\n",
        "model= pipe.fit(df)\n",
        "prediction= model.transform(df)\n",
        "prediction.show()"
      ],
      "execution_count": 0,
      "outputs": [
        {
          "output_type": "stream",
          "text": [
            "+---+---+---+--------------+---------+---------------+----------------+--------------------+\n",
            "|  x|  y|  z|         class|class_idx|   class_onehot|        features|          norm_feats|\n",
            "+---+---+---+--------------+---------+---------------+----------------+--------------------+\n",
            "| 36| 44| 43|Descend_stairs|     10.0|(13,[10],[1.0])|[36.0,44.0,43.0]|[0.50504247348087...|\n",
            "| 36| 44| 43|Descend_stairs|     10.0|(13,[10],[1.0])|[36.0,44.0,43.0]|[0.50504247348087...|\n",
            "| 36| 38| 41|Descend_stairs|     10.0|(13,[10],[1.0])|[36.0,38.0,41.0]|[0.54142990957308...|\n",
            "| 36| 38| 41|Descend_stairs|     10.0|(13,[10],[1.0])|[36.0,38.0,41.0]|[0.54142990957308...|\n",
            "| 36| 40| 42|Descend_stairs|     10.0|(13,[10],[1.0])|[36.0,40.0,42.0]|[0.52736286177814...|\n",
            "| 33| 44| 45|Descend_stairs|     10.0|(13,[10],[1.0])|[33.0,44.0,45.0]|[0.46437437952199...|\n",
            "| 32| 41| 43|Descend_stairs|     10.0|(13,[10],[1.0])|[32.0,41.0,43.0]|[0.47419117277267...|\n",
            "| 32| 44| 45|Descend_stairs|     10.0|(13,[10],[1.0])|[32.0,44.0,45.0]|[0.45322869364840...|\n",
            "| 29| 49| 48|Descend_stairs|     10.0|(13,[10],[1.0])|[29.0,49.0,48.0]|[0.38941086555745...|\n",
            "| 27| 44| 44|Descend_stairs|     10.0|(13,[10],[1.0])|[27.0,44.0,44.0]|[0.39805001766312...|\n",
            "| 25| 53| 45|Descend_stairs|     10.0|(13,[10],[1.0])|[25.0,53.0,45.0]|[0.33836346330950...|\n",
            "| 22| 53| 45|Descend_stairs|     10.0|(13,[10],[1.0])|[22.0,53.0,45.0]|[0.30168138576690...|\n",
            "| 22| 46| 40|Descend_stairs|     10.0|(13,[10],[1.0])|[22.0,46.0,40.0]|[0.33946736991660...|\n",
            "| 20| 47| 39|Descend_stairs|     10.0|(13,[10],[1.0])|[20.0,47.0,39.0]|[0.31121102204473...|\n",
            "| 18| 48| 39|Descend_stairs|     10.0|(13,[10],[1.0])|[18.0,48.0,39.0]|[0.27944785969957...|\n",
            "| 19| 45| 38|Descend_stairs|     10.0|(13,[10],[1.0])|[19.0,45.0,38.0]|[0.30701119633268...|\n",
            "| 16| 43| 36|Descend_stairs|     10.0|(13,[10],[1.0])|[16.0,43.0,36.0]|[0.27435739251887...|\n",
            "| 18| 46| 37|Descend_stairs|     10.0|(13,[10],[1.0])|[18.0,46.0,37.0]|[0.29165338328776...|\n",
            "| 16| 44| 37|Descend_stairs|     10.0|(13,[10],[1.0])|[16.0,44.0,37.0]|[0.26812295418744...|\n",
            "| 16| 43| 36|Descend_stairs|     10.0|(13,[10],[1.0])|[16.0,43.0,36.0]|[0.27435739251887...|\n",
            "+---+---+---+--------------+---------+---------------+----------------+--------------------+\n",
            "only showing top 20 rows\n",
            "\n"
          ],
          "name": "stdout"
        }
      ]
    },
    {
      "cell_type": "code",
      "metadata": {
        "id": "o6zaZxDwlCt4",
        "colab_type": "code",
        "outputId": "8310cbda-404d-48cb-a8ff-4539f733a5f3",
        "colab": {
          "base_uri": "https://localhost:8080/",
          "height": 459
        }
      },
      "source": [
        "df_train= prediction.drop('x').drop('y').drop('z').drop('class').drop('class_idx').drop('features')\n",
        "df_train.show()"
      ],
      "execution_count": 0,
      "outputs": [
        {
          "output_type": "stream",
          "text": [
            "+---------------+--------------------+\n",
            "|   class_onehot|          norm_feats|\n",
            "+---------------+--------------------+\n",
            "|(13,[10],[1.0])|[0.50504247348087...|\n",
            "|(13,[10],[1.0])|[0.50504247348087...|\n",
            "|(13,[10],[1.0])|[0.54142990957308...|\n",
            "|(13,[10],[1.0])|[0.54142990957308...|\n",
            "|(13,[10],[1.0])|[0.52736286177814...|\n",
            "|(13,[10],[1.0])|[0.46437437952199...|\n",
            "|(13,[10],[1.0])|[0.47419117277267...|\n",
            "|(13,[10],[1.0])|[0.45322869364840...|\n",
            "|(13,[10],[1.0])|[0.38941086555745...|\n",
            "|(13,[10],[1.0])|[0.39805001766312...|\n",
            "|(13,[10],[1.0])|[0.33836346330950...|\n",
            "|(13,[10],[1.0])|[0.30168138576690...|\n",
            "|(13,[10],[1.0])|[0.33946736991660...|\n",
            "|(13,[10],[1.0])|[0.31121102204473...|\n",
            "|(13,[10],[1.0])|[0.27944785969957...|\n",
            "|(13,[10],[1.0])|[0.30701119633268...|\n",
            "|(13,[10],[1.0])|[0.27435739251887...|\n",
            "|(13,[10],[1.0])|[0.29165338328776...|\n",
            "|(13,[10],[1.0])|[0.26812295418744...|\n",
            "|(13,[10],[1.0])|[0.27435739251887...|\n",
            "+---------------+--------------------+\n",
            "only showing top 20 rows\n",
            "\n"
          ],
          "name": "stdout"
        }
      ]
    },
    {
      "cell_type": "code",
      "metadata": {
        "id": "dd7Gqr1ilTCd",
        "colab_type": "code",
        "outputId": "3b595165-2d03-4a06-e109-046d918ab4a4",
        "colab": {
          "base_uri": "https://localhost:8080/",
          "height": 119
        }
      },
      "source": [
        "df.printSchema()"
      ],
      "execution_count": 0,
      "outputs": [
        {
          "output_type": "stream",
          "text": [
            "root\n",
            " |-- x: integer (nullable = true)\n",
            " |-- y: integer (nullable = true)\n",
            " |-- z: integer (nullable = true)\n",
            " |-- class: string (nullable = false)\n",
            "\n"
          ],
          "name": "stdout"
        }
      ]
    },
    {
      "cell_type": "code",
      "metadata": {
        "id": "jEx8KXdXqZ_r",
        "colab_type": "code",
        "colab": {}
      },
      "source": [
        "df= df.repartition(4)\n",
        "df.write.parquet('df_4part.parquet')"
      ],
      "execution_count": 0,
      "outputs": []
    },
    {
      "cell_type": "code",
      "metadata": {
        "id": "01ygrTo4rMEW",
        "colab_type": "code",
        "colab": {}
      },
      "source": [
        "df_from_objectstore= spark.read.parquet('df_4part.parquet')"
      ],
      "execution_count": 0,
      "outputs": []
    },
    {
      "cell_type": "code",
      "metadata": {
        "id": "SEYtdWtkxaDz",
        "colab_type": "code",
        "colab": {
          "base_uri": "https://localhost:8080/",
          "height": 119
        },
        "outputId": "5c75d4cb-5242-4e1d-9499-dbe8006fb79b"
      },
      "source": [
        "df_from_objectstore.printSchema()"
      ],
      "execution_count": 46,
      "outputs": [
        {
          "output_type": "stream",
          "text": [
            "root\n",
            " |-- x: integer (nullable = true)\n",
            " |-- y: integer (nullable = true)\n",
            " |-- z: integer (nullable = true)\n",
            " |-- class: string (nullable = true)\n",
            "\n"
          ],
          "name": "stdout"
        }
      ]
    },
    {
      "cell_type": "code",
      "metadata": {
        "id": "No7WYNMmxakk",
        "colab_type": "code",
        "colab": {
          "base_uri": "https://localhost:8080/",
          "height": 459
        },
        "outputId": "978b227a-a999-4b8d-917f-b787f19b54ff"
      },
      "source": [
        "df_from_objectstore.show()"
      ],
      "execution_count": 48,
      "outputs": [
        {
          "output_type": "stream",
          "text": [
            "+---+---+---+--------------+\n",
            "|  x|  y|  z|         class|\n",
            "+---+---+---+--------------+\n",
            "|  5| 40| 33|Descend_stairs|\n",
            "|  0| 41| 36|Descend_stairs|\n",
            "|  0| 40| 32|Descend_stairs|\n",
            "| 18| 36| 32|Descend_stairs|\n",
            "|  1| 39| 30|Descend_stairs|\n",
            "|  0| 41| 32|Descend_stairs|\n",
            "| 13| 39| 32|Descend_stairs|\n",
            "| 36| 40| 42|Descend_stairs|\n",
            "| 18| 40| 38|Descend_stairs|\n",
            "| 42| 36| 51|Descend_stairs|\n",
            "| 24| 38| 36|Descend_stairs|\n",
            "| 11| 38| 33|Descend_stairs|\n",
            "| 41| 34| 51|Descend_stairs|\n",
            "| 11| 37| 31|Descend_stairs|\n",
            "|  5| 40| 36|Descend_stairs|\n",
            "|  1| 43| 34|Descend_stairs|\n",
            "| 15| 46| 38|Descend_stairs|\n",
            "|  1| 41| 31|Descend_stairs|\n",
            "|  9| 41| 40|Descend_stairs|\n",
            "| 23| 34| 30|Descend_stairs|\n",
            "+---+---+---+--------------+\n",
            "only showing top 20 rows\n",
            "\n"
          ],
          "name": "stdout"
        }
      ]
    },
    {
      "cell_type": "code",
      "metadata": {
        "id": "Pn4GFDnZxdjT",
        "colab_type": "code",
        "colab": {
          "base_uri": "https://localhost:8080/",
          "height": 459
        },
        "outputId": "77cef415-4ce9-45be-8c6d-34ec25725f11"
      },
      "source": [
        "df= df_from_objectstore\n",
        "df.show()"
      ],
      "execution_count": 49,
      "outputs": [
        {
          "output_type": "stream",
          "text": [
            "+---+---+---+--------------+\n",
            "|  x|  y|  z|         class|\n",
            "+---+---+---+--------------+\n",
            "|  5| 40| 33|Descend_stairs|\n",
            "|  0| 41| 36|Descend_stairs|\n",
            "|  0| 40| 32|Descend_stairs|\n",
            "| 18| 36| 32|Descend_stairs|\n",
            "|  1| 39| 30|Descend_stairs|\n",
            "|  0| 41| 32|Descend_stairs|\n",
            "| 13| 39| 32|Descend_stairs|\n",
            "| 36| 40| 42|Descend_stairs|\n",
            "| 18| 40| 38|Descend_stairs|\n",
            "| 42| 36| 51|Descend_stairs|\n",
            "| 24| 38| 36|Descend_stairs|\n",
            "| 11| 38| 33|Descend_stairs|\n",
            "| 41| 34| 51|Descend_stairs|\n",
            "| 11| 37| 31|Descend_stairs|\n",
            "|  5| 40| 36|Descend_stairs|\n",
            "|  1| 43| 34|Descend_stairs|\n",
            "| 15| 46| 38|Descend_stairs|\n",
            "|  1| 41| 31|Descend_stairs|\n",
            "|  9| 41| 40|Descend_stairs|\n",
            "| 23| 34| 30|Descend_stairs|\n",
            "+---+---+---+--------------+\n",
            "only showing top 20 rows\n",
            "\n"
          ],
          "name": "stdout"
        }
      ]
    },
    {
      "cell_type": "code",
      "metadata": {
        "id": "PzzuuI793G2g",
        "colab_type": "code",
        "colab": {
          "base_uri": "https://localhost:8080/",
          "height": 340
        },
        "outputId": "69b6d681-6563-4756-ae52-99037320aecc"
      },
      "source": [
        "df.createOrReplaceTempView('df')\n",
        "# spark.sql(\"\"\"select sqrt(x) from df\"\"\").show()\n",
        "df2= spark.sql(\"\"\"select sqrt(sum(x*x) + sum(y*y) + sum(z*z)) as label,class from  df group by class\"\"\")\n",
        "df2.createOrReplaceTempView('df2')\n",
        "\n",
        "df2.show()"
      ],
      "execution_count": 66,
      "outputs": [
        {
          "output_type": "stream",
          "text": [
            "+------------------+--------------+\n",
            "|             label|         class|\n",
            "+------------------+--------------+\n",
            "| 8959.680239829991| Use_telephone|\n",
            "| 9737.511232342687| Standup_chair|\n",
            "| 12542.96539897962|      Eat_meat|\n",
            "|13225.945637269193|     Getup_bed|\n",
            "|15003.269043778426|   Drink_glass|\n",
            "|14454.885091207056|    Pour_water|\n",
            "|10616.408809008817|     Comb_hair|\n",
            "|16537.370891408344|          Walk|\n",
            "|11082.626493751379|  Climb_stairs|\n",
            "|10261.338314274606| Sitdown_chair|\n",
            "|6783.4063714331605|   Liedown_bed|\n",
            "| 7173.493500380411|Descend_stairs|\n",
            "| 11785.39634462923|   Brush_teeth|\n",
            "| 6071.460120926432|      Eat_soup|\n",
            "+------------------+--------------+\n",
            "\n"
          ],
          "name": "stdout"
        }
      ]
    },
    {
      "cell_type": "code",
      "metadata": {
        "id": "lay_wfA03vkX",
        "colab_type": "code",
        "colab": {
          "base_uri": "https://localhost:8080/",
          "height": 459
        },
        "outputId": "20123ce3-276a-4ae8-8710-80eca9497f4d"
      },
      "source": [
        "df_energy= spark.sql(\"\"\"select * from df inner join df2 on df.class=df2.class\"\"\")\n",
        "df_energy.show()"
      ],
      "execution_count": 67,
      "outputs": [
        {
          "output_type": "stream",
          "text": [
            "+---+---+---+--------------+-----------------+--------------+\n",
            "|  x|  y|  z|         class|            label|         class|\n",
            "+---+---+---+--------------+-----------------+--------------+\n",
            "|  5| 40| 33|Descend_stairs|7173.493500380411|Descend_stairs|\n",
            "|  0| 41| 36|Descend_stairs|7173.493500380411|Descend_stairs|\n",
            "|  0| 40| 32|Descend_stairs|7173.493500380411|Descend_stairs|\n",
            "| 18| 36| 32|Descend_stairs|7173.493500380411|Descend_stairs|\n",
            "|  1| 39| 30|Descend_stairs|7173.493500380411|Descend_stairs|\n",
            "|  0| 41| 32|Descend_stairs|7173.493500380411|Descend_stairs|\n",
            "| 13| 39| 32|Descend_stairs|7173.493500380411|Descend_stairs|\n",
            "| 36| 40| 42|Descend_stairs|7173.493500380411|Descend_stairs|\n",
            "| 18| 40| 38|Descend_stairs|7173.493500380411|Descend_stairs|\n",
            "| 42| 36| 51|Descend_stairs|7173.493500380411|Descend_stairs|\n",
            "| 24| 38| 36|Descend_stairs|7173.493500380411|Descend_stairs|\n",
            "| 11| 38| 33|Descend_stairs|7173.493500380411|Descend_stairs|\n",
            "| 41| 34| 51|Descend_stairs|7173.493500380411|Descend_stairs|\n",
            "| 11| 37| 31|Descend_stairs|7173.493500380411|Descend_stairs|\n",
            "|  5| 40| 36|Descend_stairs|7173.493500380411|Descend_stairs|\n",
            "|  1| 43| 34|Descend_stairs|7173.493500380411|Descend_stairs|\n",
            "| 15| 46| 38|Descend_stairs|7173.493500380411|Descend_stairs|\n",
            "|  1| 41| 31|Descend_stairs|7173.493500380411|Descend_stairs|\n",
            "|  9| 41| 40|Descend_stairs|7173.493500380411|Descend_stairs|\n",
            "| 23| 34| 30|Descend_stairs|7173.493500380411|Descend_stairs|\n",
            "+---+---+---+--------------+-----------------+--------------+\n",
            "only showing top 20 rows\n",
            "\n"
          ],
          "name": "stdout"
        }
      ]
    },
    {
      "cell_type": "code",
      "metadata": {
        "id": "iWyeTozeFEp2",
        "colab_type": "code",
        "colab": {
          "base_uri": "https://localhost:8080/",
          "height": 459
        },
        "outputId": "9f163dbe-9b78-46f9-a690-6a6025b81506"
      },
      "source": [
        "## normalization\n",
        "assembler= VectorAssembler(inputCols= ['x', 'y', 'z'], outputCol= 'features')\n",
        "normalizer= Normalizer(inputCol= 'features', outputCol= 'norm_feats')\n",
        "from pyspark.ml.regression import LinearRegression\n",
        "\n",
        "lr= LinearRegression(maxIter= 10, regParam= 0.3, elasticNetParam= 0.8)\n",
        "\n",
        "pipe= Pipeline(stages= [assembler, normalizer, lr])\n",
        "model= pipe.fit(df_energy)\n",
        "prediction= model.transform(df_energy)\n",
        "prediction.show()\n"
      ],
      "execution_count": 71,
      "outputs": [
        {
          "output_type": "stream",
          "text": [
            "+---+---+---+--------------+-----------------+--------------+----------------+--------------------+------------------+\n",
            "|  x|  y|  z|         class|            label|         class|        features|          norm_feats|        prediction|\n",
            "+---+---+---+--------------+-----------------+--------------+----------------+--------------------+------------------+\n",
            "|  5| 40| 33|Descend_stairs|7173.493500380411|Descend_stairs| [5.0,40.0,33.0]|[0.09597653852344...| 13493.10627545079|\n",
            "|  0| 41| 36|Descend_stairs|7173.493500380411|Descend_stairs| [0.0,41.0,36.0]|[0.0,0.7514402250...|13764.661592173936|\n",
            "|  0| 40| 32|Descend_stairs|7173.493500380411|Descend_stairs| [0.0,40.0,32.0]|[0.0,0.7808688094...|13714.128102879728|\n",
            "| 18| 36| 32|Descend_stairs|7173.493500380411|Descend_stairs|[18.0,36.0,32.0]|[0.35005942871298...|12918.463327951908|\n",
            "|  1| 39| 30|Descend_stairs|7173.493500380411|Descend_stairs| [1.0,39.0,30.0]|[0.02031949595270...|13648.734277921325|\n",
            "|  0| 41| 32|Descend_stairs|7173.493500380411|Descend_stairs| [0.0,41.0,32.0]|[0.0,0.7883157834...|13699.452637014841|\n",
            "| 13| 39| 32|Descend_stairs|7173.493500380411|Descend_stairs|[13.0,39.0,32.0]|[0.24953900016094...| 13111.76099657596|\n",
            "| 36| 40| 42|Descend_stairs|7173.493500380411|Descend_stairs|[36.0,40.0,42.0]|[0.52736286177814...|12168.417214002731|\n",
            "| 18| 40| 38|Descend_stairs|7173.493500380411|Descend_stairs|[18.0,40.0,38.0]|[0.31016048255800...|12957.574897231005|\n",
            "| 42| 36| 51|Descend_stairs|7173.493500380411|Descend_stairs|[42.0,36.0,51.0]|[0.55821655598023...|12089.050347107788|\n",
            "| 24| 38| 36|Descend_stairs|7173.493500380411|Descend_stairs|[24.0,38.0,36.0]|[0.41677722698831...|12669.532471918774|\n",
            "| 11| 38| 33|Descend_stairs|7173.493500380411|Descend_stairs|[11.0,38.0,33.0]|[0.21352180195373...|13237.668327718107|\n",
            "| 41| 34| 51|Descend_stairs|7173.493500380411|Descend_stairs|[41.0,34.0,51.0]|[0.55598651095847...|12165.866092081304|\n",
            "| 11| 37| 31|Descend_stairs|7173.493500380411|Descend_stairs|[11.0,37.0,31.0]|[0.22218821989286...|13219.739316003446|\n",
            "|  5| 40| 36|Descend_stairs|7173.493500380411|Descend_stairs| [5.0,40.0,36.0]|[0.09251331131031...|13542.012991820111|\n",
            "|  1| 43| 34|Descend_stairs|7173.493500380411|Descend_stairs| [1.0,43.0,34.0]|[0.01823918850548...|13655.241369620873|\n",
            "| 15| 46| 38|Descend_stairs|7173.493500380411|Descend_stairs|[15.0,46.0,38.0]|[0.24381381900034...|13011.916541772911|\n",
            "|  1| 41| 31|Descend_stairs|7173.493500380411|Descend_stairs| [1.0,41.0,31.0]|[0.01945142479610...|13635.685584981326|\n",
            "|  9| 41| 40|Descend_stairs|7173.493500380411|Descend_stairs| [9.0,41.0,40.0]|[0.15521856172387...|13402.687228139348|\n",
            "| 23| 34| 30|Descend_stairs|7173.493500380411|Descend_stairs|[23.0,34.0,30.0]|[0.45237392314797...|12677.885715883422|\n",
            "+---+---+---+--------------+-----------------+--------------+----------------+--------------------+------------------+\n",
            "only showing top 20 rows\n",
            "\n"
          ],
          "name": "stdout"
        }
      ]
    },
    {
      "cell_type": "code",
      "metadata": {
        "id": "dv_XBtPTGafa",
        "colab_type": "code",
        "colab": {
          "base_uri": "https://localhost:8080/",
          "height": 34
        },
        "outputId": "29919ff3-b5cc-4b34-f15f-7a4c9c8be2e8"
      },
      "source": [
        "model.stages[2].summary.r2"
      ],
      "execution_count": 72,
      "outputs": [
        {
          "output_type": "execute_result",
          "data": {
            "text/plain": [
              "0.03259100556272421"
            ]
          },
          "metadata": {
            "tags": []
          },
          "execution_count": 72
        }
      ]
    },
    {
      "cell_type": "code",
      "metadata": {
        "id": "w08w6Yu5HYyY",
        "colab_type": "code",
        "colab": {}
      },
      "source": [
        ""
      ],
      "execution_count": 0,
      "outputs": []
    }
  ]
}